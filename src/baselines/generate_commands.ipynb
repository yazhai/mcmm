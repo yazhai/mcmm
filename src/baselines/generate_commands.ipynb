{
 "cells": [
  {
   "cell_type": "code",
   "execution_count": 1,
   "metadata": {},
   "outputs": [],
   "source": [
    "# Example instance\n",
    "instance = {\n",
    "    \"func\": \"Levy\",\n",
    "    \"dims\": 10,\n",
    "    \"solver\": \"gurobi\",\n",
    "    \"algo\": None,\n",
    "    \"seed\": 0,\n",
    "}"
   ]
  },
  {
   "cell_type": "code",
   "execution_count": null,
   "metadata": {},
   "outputs": [],
   "source": []
  },
  {
   "cell_type": "code",
   "execution_count": 2,
   "metadata": {},
   "outputs": [],
   "source": [
    "def generate_commands_from_instances(instances, output_dir=\"baseline_results/\", timeout=300):\n",
    "    commands = []\n",
    "    for instance in instances:\n",
    "        command = f\"python run_baseline.py --func {instance['func']} --dims {instance['dims']} --solver {instance['solver']} --algo {instance['algo']} --seed {instance['seed']} --output_dir {output_dir} --timeout {timeout}\"\n",
    "        commands.append(\"echo '{}'\".format(command))\n",
    "        commands.append(command)\n",
    "\n",
    "    return commands"
   ]
  },
  {
   "cell_type": "code",
   "execution_count": null,
   "metadata": {},
   "outputs": [],
   "source": []
  },
  {
   "cell_type": "code",
   "execution_count": null,
   "metadata": {},
   "outputs": [],
   "source": [
    "# Already ran baseline for these instances"
   ]
  },
  {
   "cell_type": "code",
   "execution_count": 4,
   "metadata": {},
   "outputs": [],
   "source": [
    "funcs = [\"Levy\", \"Ackley\", \"Michalewicz\"]\n",
    "dims = [10]\n",
    "solver = [\"scipy\", \"gurobi\"]\n",
    "algos = [\"brute\", \"basinhopping\", \"differential_evolution\", \"shgo\", \"dual_annealing\", \"direct\"]\n",
    "seeds = [0]\n",
    "timeout = 300"
   ]
  },
  {
   "cell_type": "code",
   "execution_count": 5,
   "metadata": {},
   "outputs": [],
   "source": [
    "instances = []\n",
    "\n",
    "for func in funcs:\n",
    "    for dim in dims:\n",
    "        for s in solver:\n",
    "            for seed in seeds:\n",
    "                if s == \"gurobi\":\n",
    "                    instance = {\n",
    "                        \"func\": func,\n",
    "                        \"dims\": dim,\n",
    "                        \"solver\": s,\n",
    "                        \"algo\": \"none\",\n",
    "                        \"seed\": seed,\n",
    "                    }\n",
    "                    instances.append(instance)\n",
    "                else:\n",
    "                    for algo in algos:\n",
    "                        instance = {\n",
    "                            \"func\": func,\n",
    "                            \"dims\": dim,\n",
    "                            \"solver\": s,\n",
    "                            \"algo\": algo,\n",
    "                            \"seed\": seed,\n",
    "                        }\n",
    "                        instances.append(instance)"
   ]
  },
  {
   "cell_type": "code",
   "execution_count": 6,
   "metadata": {},
   "outputs": [],
   "source": [
    "commands = generate_commands_from_instances(instances, output_dir=\"baseline_results_10_dims/\", timeout=timeout)"
   ]
  },
  {
   "cell_type": "code",
   "execution_count": 7,
   "metadata": {},
   "outputs": [],
   "source": [
    "with open(\"baseline_commands_10_dims.txt\", \"w\") as f:\n",
    "    for command in commands:\n",
    "        f.write(f\"{command}\\n\")"
   ]
  },
  {
   "cell_type": "code",
   "execution_count": 9,
   "metadata": {},
   "outputs": [],
   "source": [
    "funcs = [\"Levy\", \"Ackley\", \"Michalewicz\"]\n",
    "dims = [50]\n",
    "solver = [\"scipy\", \"gurobi\"]\n",
    "algos = [\"brute\", \"basinhopping\", \"differential_evolution\", \"shgo\", \"dual_annealing\", \"direct\"]\n",
    "seeds = [0]\n",
    "timeout = 300"
   ]
  },
  {
   "cell_type": "code",
   "execution_count": 10,
   "metadata": {},
   "outputs": [],
   "source": [
    "instances = []\n",
    "\n",
    "for func in funcs:\n",
    "    for dim in dims:\n",
    "        for s in solver:\n",
    "            for seed in seeds:\n",
    "                if s == \"gurobi\":\n",
    "                    instance = {\n",
    "                        \"func\": func,\n",
    "                        \"dims\": dim,\n",
    "                        \"solver\": s,\n",
    "                        \"algo\": \"none\",\n",
    "                        \"seed\": seed,\n",
    "                    }\n",
    "                    instances.append(instance)\n",
    "                else:\n",
    "                    for algo in algos:\n",
    "                        instance = {\n",
    "                            \"func\": func,\n",
    "                            \"dims\": dim,\n",
    "                            \"solver\": s,\n",
    "                            \"algo\": algo,\n",
    "                            \"seed\": seed,\n",
    "                        }\n",
    "                        instances.append(instance)"
   ]
  },
  {
   "cell_type": "code",
   "execution_count": 11,
   "metadata": {},
   "outputs": [],
   "source": [
    "commands = generate_commands_from_instances(instances, output_dir=\"baseline_results_50_dims/\", timeout=timeout)"
   ]
  },
  {
   "cell_type": "code",
   "execution_count": 12,
   "metadata": {},
   "outputs": [],
   "source": [
    "with open(\"baseline_commands_50_dims.txt\", \"w\") as f:\n",
    "    for command in commands:\n",
    "        f.write(f\"{command}\\n\")"
   ]
  },
  {
   "cell_type": "code",
   "execution_count": null,
   "metadata": {},
   "outputs": [],
   "source": []
  },
  {
   "cell_type": "code",
   "execution_count": 15,
   "metadata": {},
   "outputs": [],
   "source": [
    "funcs = [\"Levy\", \"Ackley\", \"Michalewicz\"]\n",
    "dims = [10]\n",
    "solver = [\"scipy\", \"gurobi\"]\n",
    "algos = [\"brute\", \"basinhopping\", \"differential_evolution\", \"shgo\", \"dual_annealing\", \"direct\"]\n",
    "seeds = [0, 1, 2, 3, 4]\n",
    "timeout = 300"
   ]
  },
  {
   "cell_type": "code",
   "execution_count": 16,
   "metadata": {},
   "outputs": [],
   "source": [
    "instances = []\n",
    "\n",
    "for func in funcs:\n",
    "    for dim in dims:\n",
    "        for s in solver:\n",
    "            for seed in seeds:\n",
    "                if s == \"gurobi\":\n",
    "                    instance = {\n",
    "                        \"func\": func,\n",
    "                        \"dims\": dim,\n",
    "                        \"solver\": s,\n",
    "                        \"algo\": \"none\",\n",
    "                        \"seed\": seed,\n",
    "                    }\n",
    "                    instances.append(instance)\n",
    "                else:\n",
    "                    for algo in algos:\n",
    "                        instance = {\n",
    "                            \"func\": func,\n",
    "                            \"dims\": dim,\n",
    "                            \"solver\": s,\n",
    "                            \"algo\": algo,\n",
    "                            \"seed\": seed,\n",
    "                        }\n",
    "                        instances.append(instance)"
   ]
  },
  {
   "cell_type": "code",
   "execution_count": 17,
   "metadata": {},
   "outputs": [],
   "source": [
    "commands = generate_commands_from_instances(instances, output_dir=\"baseline_results_10_dims/\", timeout=timeout)"
   ]
  },
  {
   "cell_type": "code",
   "execution_count": 18,
   "metadata": {},
   "outputs": [],
   "source": [
    "with open(\"baseline_commands_10_dims.txt\", \"w\") as f:\n",
    "    for command in commands:\n",
    "        f.write(f\"{command}\\n\")"
   ]
  },
  {
   "cell_type": "code",
   "execution_count": null,
   "metadata": {},
   "outputs": [],
   "source": []
  },
  {
   "cell_type": "code",
   "execution_count": 1,
   "metadata": {},
   "outputs": [],
   "source": [
    "funcs = [\"Levy\", \"Ackley\", \"Michalewicz\"]\n",
    "dims = [50]\n",
    "solver = [\"scipy\", \"gurobi\"]\n",
    "algos = [\"brute\", \"basinhopping\", \"differential_evolution\", \"shgo\", \"dual_annealing\", \"direct\"]\n",
    "seeds = [0, 1, 2, 3, 4]\n",
    "timeout = 300"
   ]
  },
  {
   "cell_type": "code",
   "execution_count": 2,
   "metadata": {},
   "outputs": [],
   "source": [
    "instances = []\n",
    "\n",
    "for func in funcs:\n",
    "    for dim in dims:\n",
    "        for s in solver:\n",
    "            for seed in seeds:\n",
    "                if s == \"gurobi\":\n",
    "                    instance = {\n",
    "                        \"func\": func,\n",
    "                        \"dims\": dim,\n",
    "                        \"solver\": s,\n",
    "                        \"algo\": \"none\",\n",
    "                        \"seed\": seed,\n",
    "                    }\n",
    "                    instances.append(instance)\n",
    "                else:\n",
    "                    for algo in algos:\n",
    "                        instance = {\n",
    "                            \"func\": func,\n",
    "                            \"dims\": dim,\n",
    "                            \"solver\": s,\n",
    "                            \"algo\": algo,\n",
    "                            \"seed\": seed,\n",
    "                        }\n",
    "                        instances.append(instance)"
   ]
  },
  {
   "cell_type": "code",
   "execution_count": 5,
   "metadata": {},
   "outputs": [],
   "source": [
    "commands = generate_commands_from_instances(instances, output_dir=\"baseline_results_50_dims/\", timeout=timeout)"
   ]
  },
  {
   "cell_type": "code",
   "execution_count": 6,
   "metadata": {},
   "outputs": [],
   "source": [
    "with open(\"baseline_commands_50_dims.txt\", \"w\") as f:\n",
    "    for command in commands:\n",
    "        f.write(f\"{command}\\n\")"
   ]
  },
  {
   "cell_type": "code",
   "execution_count": null,
   "metadata": {},
   "outputs": [],
   "source": []
  },
  {
   "cell_type": "code",
   "execution_count": 7,
   "metadata": {},
   "outputs": [],
   "source": [
    "funcs = [\"Levy\", \"Ackley\", \"Michalewicz\"]\n",
    "dims = [100]\n",
    "solver = [\"scipy\", \"gurobi\"]\n",
    "algos = [\"brute\", \"basinhopping\", \"differential_evolution\", \"shgo\", \"dual_annealing\", \"direct\"]\n",
    "seeds = [0]\n",
    "timeout = 300"
   ]
  },
  {
   "cell_type": "code",
   "execution_count": 8,
   "metadata": {},
   "outputs": [],
   "source": [
    "instances = []\n",
    "\n",
    "for func in funcs:\n",
    "    for dim in dims:\n",
    "        for s in solver:\n",
    "            for seed in seeds:\n",
    "                if s == \"gurobi\":\n",
    "                    instance = {\n",
    "                        \"func\": func,\n",
    "                        \"dims\": dim,\n",
    "                        \"solver\": s,\n",
    "                        \"algo\": \"none\",\n",
    "                        \"seed\": seed,\n",
    "                    }\n",
    "                    instances.append(instance)\n",
    "                else:\n",
    "                    for algo in algos:\n",
    "                        instance = {\n",
    "                            \"func\": func,\n",
    "                            \"dims\": dim,\n",
    "                            \"solver\": s,\n",
    "                            \"algo\": algo,\n",
    "                            \"seed\": seed,\n",
    "                        }\n",
    "                        instances.append(instance)"
   ]
  },
  {
   "cell_type": "code",
   "execution_count": 9,
   "metadata": {},
   "outputs": [],
   "source": [
    "commands = generate_commands_from_instances(instances, output_dir=\"baseline_results_100_dims/\", timeout=timeout)"
   ]
  },
  {
   "cell_type": "code",
   "execution_count": 10,
   "metadata": {},
   "outputs": [],
   "source": [
    "with open(\"baseline_commands_100_dims.txt\", \"w\") as f:\n",
    "    for command in commands:\n",
    "        f.write(f\"{command}\\n\")"
   ]
  },
  {
   "cell_type": "code",
   "execution_count": null,
   "metadata": {},
   "outputs": [],
   "source": []
  },
  {
   "cell_type": "code",
   "execution_count": null,
   "metadata": {},
   "outputs": [],
   "source": []
  },
  {
   "cell_type": "code",
   "execution_count": 1,
   "metadata": {},
   "outputs": [],
   "source": [
    "funcs = [\"Levy\", \"Ackley\", \"Michalewicz\"]\n",
    "dims = [100]\n",
    "solver = [\"scipy\", \"gurobi\"]\n",
    "algos = [\"brute\", \"basinhopping\", \"differential_evolution\", \"shgo\", \"dual_annealing\", \"direct\"]\n",
    "seeds = [0, 1, 2, 3, 4]\n",
    "timeout = 300"
   ]
  },
  {
   "cell_type": "code",
   "execution_count": 2,
   "metadata": {},
   "outputs": [],
   "source": [
    "instances = []\n",
    "\n",
    "for func in funcs:\n",
    "    for dim in dims:\n",
    "        for s in solver:\n",
    "            for seed in seeds:\n",
    "                if s == \"gurobi\":\n",
    "                    instance = {\n",
    "                        \"func\": func,\n",
    "                        \"dims\": dim,\n",
    "                        \"solver\": s,\n",
    "                        \"algo\": \"none\",\n",
    "                        \"seed\": seed,\n",
    "                    }\n",
    "                    instances.append(instance)\n",
    "                else:\n",
    "                    for algo in algos:\n",
    "                        instance = {\n",
    "                            \"func\": func,\n",
    "                            \"dims\": dim,\n",
    "                            \"solver\": s,\n",
    "                            \"algo\": algo,\n",
    "                            \"seed\": seed,\n",
    "                        }\n",
    "                        instances.append(instance)"
   ]
  },
  {
   "cell_type": "code",
   "execution_count": 4,
   "metadata": {},
   "outputs": [],
   "source": [
    "commands = generate_commands_from_instances(instances, output_dir=\"baseline_results_100_dims/\", timeout=timeout)"
   ]
  },
  {
   "cell_type": "code",
   "execution_count": 5,
   "metadata": {},
   "outputs": [],
   "source": [
    "with open(\"baseline_commands_100_dims.txt\", \"w\") as f:\n",
    "    for command in commands:\n",
    "        f.write(f\"{command}\\n\")"
   ]
  },
  {
   "cell_type": "code",
   "execution_count": null,
   "metadata": {},
   "outputs": [],
   "source": []
  },
  {
   "cell_type": "code",
   "execution_count": 7,
   "metadata": {},
   "outputs": [],
   "source": [
    "funcs = [\"Levy\", \"Ackley\", \"Michalewicz\"]\n",
    "dims = [10, 50, 100]\n",
    "solver = [\"gurobi\"]\n",
    "algos = [\"brute\", \"basinhopping\", \"differential_evolution\", \"shgo\", \"dual_annealing\", \"direct\"]\n",
    "seeds = [0, 1, 2, 3, 4]\n",
    "timeout = 300"
   ]
  },
  {
   "cell_type": "code",
   "execution_count": 8,
   "metadata": {},
   "outputs": [],
   "source": [
    "instances = []\n",
    "\n",
    "for func in funcs:\n",
    "    for dim in dims:\n",
    "        for s in solver:\n",
    "            for seed in seeds:\n",
    "                if s == \"gurobi\":\n",
    "                    instance = {\n",
    "                        \"func\": func,\n",
    "                        \"dims\": dim,\n",
    "                        \"solver\": s,\n",
    "                        \"algo\": \"none\",\n",
    "                        \"seed\": seed,\n",
    "                    }\n",
    "                    instances.append(instance)\n",
    "                else:\n",
    "                    for algo in algos:\n",
    "                        instance = {\n",
    "                            \"func\": func,\n",
    "                            \"dims\": dim,\n",
    "                            \"solver\": s,\n",
    "                            \"algo\": algo,\n",
    "                            \"seed\": seed,\n",
    "                        }\n",
    "                        instances.append(instance)"
   ]
  },
  {
   "cell_type": "code",
   "execution_count": 9,
   "metadata": {},
   "outputs": [],
   "source": [
    "commands = generate_commands_from_instances(instances, output_dir=\"baseline_results_gurobi/\", timeout=timeout)"
   ]
  },
  {
   "cell_type": "code",
   "execution_count": 11,
   "metadata": {},
   "outputs": [
    {
     "data": {
      "text/plain": [
       "90"
      ]
     },
     "execution_count": 11,
     "metadata": {},
     "output_type": "execute_result"
    }
   ],
   "source": [
    "len(commands)"
   ]
  },
  {
   "cell_type": "code",
   "execution_count": 12,
   "metadata": {},
   "outputs": [],
   "source": [
    "with open(\"baseline_commands_gurobi.txt\", \"w\") as f:\n",
    "    for command in commands:\n",
    "        f.write(f\"{command}\\n\")"
   ]
  },
  {
   "cell_type": "code",
   "execution_count": null,
   "metadata": {},
   "outputs": [],
   "source": []
  },
  {
   "cell_type": "code",
   "execution_count": null,
   "metadata": {},
   "outputs": [],
   "source": [
    "# Running baseline for these instances"
   ]
  },
  {
   "cell_type": "code",
   "execution_count": 13,
   "metadata": {},
   "outputs": [],
   "source": [
    "# Rerun direct because previous wrong has bug"
   ]
  },
  {
   "cell_type": "code",
   "execution_count": 20,
   "metadata": {},
   "outputs": [],
   "source": [
    "funcs = [\"Levy\", \"Ackley\", \"Michalewicz\"]\n",
    "dims = [10, 50, 100]\n",
    "solver = [\"scipy\"]\n",
    "algos = [\"direct\"]\n",
    "seeds = [0, 1, 2, 3, 4]\n",
    "timeout = 300"
   ]
  },
  {
   "cell_type": "code",
   "execution_count": 21,
   "metadata": {},
   "outputs": [],
   "source": [
    "instances = []\n",
    "\n",
    "for func in funcs:\n",
    "    for dim in dims:\n",
    "        for s in solver:\n",
    "            for seed in seeds:\n",
    "                if s == \"gurobi\":\n",
    "                    instance = {\n",
    "                        \"func\": func,\n",
    "                        \"dims\": dim,\n",
    "                        \"solver\": s,\n",
    "                        \"algo\": \"none\",\n",
    "                        \"seed\": seed,\n",
    "                    }\n",
    "                    instances.append(instance)\n",
    "                else:\n",
    "                    for algo in algos:\n",
    "                        instance = {\n",
    "                            \"func\": func,\n",
    "                            \"dims\": dim,\n",
    "                            \"solver\": s,\n",
    "                            \"algo\": algo,\n",
    "                            \"seed\": seed,\n",
    "                        }\n",
    "                        instances.append(instance)"
   ]
  },
  {
   "cell_type": "code",
   "execution_count": null,
   "metadata": {},
   "outputs": [],
   "source": []
  },
  {
   "cell_type": "code",
   "execution_count": 22,
   "metadata": {},
   "outputs": [],
   "source": [
    "def generate_commands_from_instances_by_dimensions(instances, timeout=300):\n",
    "    commands = []\n",
    "    for instance in instances:\n",
    "        output_dir = \"baseline_results_{}_dims\".format(instance['dims'])\n",
    "        command = f\"python run_baseline.py --func {instance['func']} --dims {instance['dims']} --solver {instance['solver']} --algo {instance['algo']} --seed {instance['seed']} --output_dir {output_dir} --timeout {timeout} --rerun_if_exist\"\n",
    "        commands.append(\"echo '{}'\".format(command))\n",
    "        commands.append(command)\n",
    "\n",
    "    return commands"
   ]
  },
  {
   "cell_type": "code",
   "execution_count": 23,
   "metadata": {},
   "outputs": [],
   "source": [
    "commands = generate_commands_from_instances_by_dimensions(instances, timeout=timeout)"
   ]
  },
  {
   "cell_type": "code",
   "execution_count": 24,
   "metadata": {},
   "outputs": [
    {
     "data": {
      "text/plain": [
       "90"
      ]
     },
     "execution_count": 24,
     "metadata": {},
     "output_type": "execute_result"
    }
   ],
   "source": [
    "len(commands)"
   ]
  },
  {
   "cell_type": "code",
   "execution_count": 25,
   "metadata": {},
   "outputs": [
    {
     "data": {
      "text/plain": [
       "[\"echo 'python run_baseline.py --func Levy --dims 10 --solver scipy --algo direct --seed 0 --output_dir baseline_results_10_dims --timeout 300 --rerun_if_exist'\",\n",
       " 'python run_baseline.py --func Levy --dims 10 --solver scipy --algo direct --seed 0 --output_dir baseline_results_10_dims --timeout 300 --rerun_if_exist',\n",
       " \"echo 'python run_baseline.py --func Levy --dims 10 --solver scipy --algo direct --seed 1 --output_dir baseline_results_10_dims --timeout 300 --rerun_if_exist'\",\n",
       " 'python run_baseline.py --func Levy --dims 10 --solver scipy --algo direct --seed 1 --output_dir baseline_results_10_dims --timeout 300 --rerun_if_exist',\n",
       " \"echo 'python run_baseline.py --func Levy --dims 10 --solver scipy --algo direct --seed 2 --output_dir baseline_results_10_dims --timeout 300 --rerun_if_exist'\",\n",
       " 'python run_baseline.py --func Levy --dims 10 --solver scipy --algo direct --seed 2 --output_dir baseline_results_10_dims --timeout 300 --rerun_if_exist',\n",
       " \"echo 'python run_baseline.py --func Levy --dims 10 --solver scipy --algo direct --seed 3 --output_dir baseline_results_10_dims --timeout 300 --rerun_if_exist'\",\n",
       " 'python run_baseline.py --func Levy --dims 10 --solver scipy --algo direct --seed 3 --output_dir baseline_results_10_dims --timeout 300 --rerun_if_exist',\n",
       " \"echo 'python run_baseline.py --func Levy --dims 10 --solver scipy --algo direct --seed 4 --output_dir baseline_results_10_dims --timeout 300 --rerun_if_exist'\",\n",
       " 'python run_baseline.py --func Levy --dims 10 --solver scipy --algo direct --seed 4 --output_dir baseline_results_10_dims --timeout 300 --rerun_if_exist',\n",
       " \"echo 'python run_baseline.py --func Levy --dims 50 --solver scipy --algo direct --seed 0 --output_dir baseline_results_50_dims --timeout 300 --rerun_if_exist'\",\n",
       " 'python run_baseline.py --func Levy --dims 50 --solver scipy --algo direct --seed 0 --output_dir baseline_results_50_dims --timeout 300 --rerun_if_exist',\n",
       " \"echo 'python run_baseline.py --func Levy --dims 50 --solver scipy --algo direct --seed 1 --output_dir baseline_results_50_dims --timeout 300 --rerun_if_exist'\",\n",
       " 'python run_baseline.py --func Levy --dims 50 --solver scipy --algo direct --seed 1 --output_dir baseline_results_50_dims --timeout 300 --rerun_if_exist',\n",
       " \"echo 'python run_baseline.py --func Levy --dims 50 --solver scipy --algo direct --seed 2 --output_dir baseline_results_50_dims --timeout 300 --rerun_if_exist'\",\n",
       " 'python run_baseline.py --func Levy --dims 50 --solver scipy --algo direct --seed 2 --output_dir baseline_results_50_dims --timeout 300 --rerun_if_exist',\n",
       " \"echo 'python run_baseline.py --func Levy --dims 50 --solver scipy --algo direct --seed 3 --output_dir baseline_results_50_dims --timeout 300 --rerun_if_exist'\",\n",
       " 'python run_baseline.py --func Levy --dims 50 --solver scipy --algo direct --seed 3 --output_dir baseline_results_50_dims --timeout 300 --rerun_if_exist',\n",
       " \"echo 'python run_baseline.py --func Levy --dims 50 --solver scipy --algo direct --seed 4 --output_dir baseline_results_50_dims --timeout 300 --rerun_if_exist'\",\n",
       " 'python run_baseline.py --func Levy --dims 50 --solver scipy --algo direct --seed 4 --output_dir baseline_results_50_dims --timeout 300 --rerun_if_exist',\n",
       " \"echo 'python run_baseline.py --func Levy --dims 100 --solver scipy --algo direct --seed 0 --output_dir baseline_results_100_dims --timeout 300 --rerun_if_exist'\",\n",
       " 'python run_baseline.py --func Levy --dims 100 --solver scipy --algo direct --seed 0 --output_dir baseline_results_100_dims --timeout 300 --rerun_if_exist',\n",
       " \"echo 'python run_baseline.py --func Levy --dims 100 --solver scipy --algo direct --seed 1 --output_dir baseline_results_100_dims --timeout 300 --rerun_if_exist'\",\n",
       " 'python run_baseline.py --func Levy --dims 100 --solver scipy --algo direct --seed 1 --output_dir baseline_results_100_dims --timeout 300 --rerun_if_exist',\n",
       " \"echo 'python run_baseline.py --func Levy --dims 100 --solver scipy --algo direct --seed 2 --output_dir baseline_results_100_dims --timeout 300 --rerun_if_exist'\",\n",
       " 'python run_baseline.py --func Levy --dims 100 --solver scipy --algo direct --seed 2 --output_dir baseline_results_100_dims --timeout 300 --rerun_if_exist',\n",
       " \"echo 'python run_baseline.py --func Levy --dims 100 --solver scipy --algo direct --seed 3 --output_dir baseline_results_100_dims --timeout 300 --rerun_if_exist'\",\n",
       " 'python run_baseline.py --func Levy --dims 100 --solver scipy --algo direct --seed 3 --output_dir baseline_results_100_dims --timeout 300 --rerun_if_exist',\n",
       " \"echo 'python run_baseline.py --func Levy --dims 100 --solver scipy --algo direct --seed 4 --output_dir baseline_results_100_dims --timeout 300 --rerun_if_exist'\",\n",
       " 'python run_baseline.py --func Levy --dims 100 --solver scipy --algo direct --seed 4 --output_dir baseline_results_100_dims --timeout 300 --rerun_if_exist',\n",
       " \"echo 'python run_baseline.py --func Ackley --dims 10 --solver scipy --algo direct --seed 0 --output_dir baseline_results_10_dims --timeout 300 --rerun_if_exist'\",\n",
       " 'python run_baseline.py --func Ackley --dims 10 --solver scipy --algo direct --seed 0 --output_dir baseline_results_10_dims --timeout 300 --rerun_if_exist',\n",
       " \"echo 'python run_baseline.py --func Ackley --dims 10 --solver scipy --algo direct --seed 1 --output_dir baseline_results_10_dims --timeout 300 --rerun_if_exist'\",\n",
       " 'python run_baseline.py --func Ackley --dims 10 --solver scipy --algo direct --seed 1 --output_dir baseline_results_10_dims --timeout 300 --rerun_if_exist',\n",
       " \"echo 'python run_baseline.py --func Ackley --dims 10 --solver scipy --algo direct --seed 2 --output_dir baseline_results_10_dims --timeout 300 --rerun_if_exist'\",\n",
       " 'python run_baseline.py --func Ackley --dims 10 --solver scipy --algo direct --seed 2 --output_dir baseline_results_10_dims --timeout 300 --rerun_if_exist',\n",
       " \"echo 'python run_baseline.py --func Ackley --dims 10 --solver scipy --algo direct --seed 3 --output_dir baseline_results_10_dims --timeout 300 --rerun_if_exist'\",\n",
       " 'python run_baseline.py --func Ackley --dims 10 --solver scipy --algo direct --seed 3 --output_dir baseline_results_10_dims --timeout 300 --rerun_if_exist',\n",
       " \"echo 'python run_baseline.py --func Ackley --dims 10 --solver scipy --algo direct --seed 4 --output_dir baseline_results_10_dims --timeout 300 --rerun_if_exist'\",\n",
       " 'python run_baseline.py --func Ackley --dims 10 --solver scipy --algo direct --seed 4 --output_dir baseline_results_10_dims --timeout 300 --rerun_if_exist',\n",
       " \"echo 'python run_baseline.py --func Ackley --dims 50 --solver scipy --algo direct --seed 0 --output_dir baseline_results_50_dims --timeout 300 --rerun_if_exist'\",\n",
       " 'python run_baseline.py --func Ackley --dims 50 --solver scipy --algo direct --seed 0 --output_dir baseline_results_50_dims --timeout 300 --rerun_if_exist',\n",
       " \"echo 'python run_baseline.py --func Ackley --dims 50 --solver scipy --algo direct --seed 1 --output_dir baseline_results_50_dims --timeout 300 --rerun_if_exist'\",\n",
       " 'python run_baseline.py --func Ackley --dims 50 --solver scipy --algo direct --seed 1 --output_dir baseline_results_50_dims --timeout 300 --rerun_if_exist',\n",
       " \"echo 'python run_baseline.py --func Ackley --dims 50 --solver scipy --algo direct --seed 2 --output_dir baseline_results_50_dims --timeout 300 --rerun_if_exist'\",\n",
       " 'python run_baseline.py --func Ackley --dims 50 --solver scipy --algo direct --seed 2 --output_dir baseline_results_50_dims --timeout 300 --rerun_if_exist',\n",
       " \"echo 'python run_baseline.py --func Ackley --dims 50 --solver scipy --algo direct --seed 3 --output_dir baseline_results_50_dims --timeout 300 --rerun_if_exist'\",\n",
       " 'python run_baseline.py --func Ackley --dims 50 --solver scipy --algo direct --seed 3 --output_dir baseline_results_50_dims --timeout 300 --rerun_if_exist',\n",
       " \"echo 'python run_baseline.py --func Ackley --dims 50 --solver scipy --algo direct --seed 4 --output_dir baseline_results_50_dims --timeout 300 --rerun_if_exist'\",\n",
       " 'python run_baseline.py --func Ackley --dims 50 --solver scipy --algo direct --seed 4 --output_dir baseline_results_50_dims --timeout 300 --rerun_if_exist',\n",
       " \"echo 'python run_baseline.py --func Ackley --dims 100 --solver scipy --algo direct --seed 0 --output_dir baseline_results_100_dims --timeout 300 --rerun_if_exist'\",\n",
       " 'python run_baseline.py --func Ackley --dims 100 --solver scipy --algo direct --seed 0 --output_dir baseline_results_100_dims --timeout 300 --rerun_if_exist',\n",
       " \"echo 'python run_baseline.py --func Ackley --dims 100 --solver scipy --algo direct --seed 1 --output_dir baseline_results_100_dims --timeout 300 --rerun_if_exist'\",\n",
       " 'python run_baseline.py --func Ackley --dims 100 --solver scipy --algo direct --seed 1 --output_dir baseline_results_100_dims --timeout 300 --rerun_if_exist',\n",
       " \"echo 'python run_baseline.py --func Ackley --dims 100 --solver scipy --algo direct --seed 2 --output_dir baseline_results_100_dims --timeout 300 --rerun_if_exist'\",\n",
       " 'python run_baseline.py --func Ackley --dims 100 --solver scipy --algo direct --seed 2 --output_dir baseline_results_100_dims --timeout 300 --rerun_if_exist',\n",
       " \"echo 'python run_baseline.py --func Ackley --dims 100 --solver scipy --algo direct --seed 3 --output_dir baseline_results_100_dims --timeout 300 --rerun_if_exist'\",\n",
       " 'python run_baseline.py --func Ackley --dims 100 --solver scipy --algo direct --seed 3 --output_dir baseline_results_100_dims --timeout 300 --rerun_if_exist',\n",
       " \"echo 'python run_baseline.py --func Ackley --dims 100 --solver scipy --algo direct --seed 4 --output_dir baseline_results_100_dims --timeout 300 --rerun_if_exist'\",\n",
       " 'python run_baseline.py --func Ackley --dims 100 --solver scipy --algo direct --seed 4 --output_dir baseline_results_100_dims --timeout 300 --rerun_if_exist',\n",
       " \"echo 'python run_baseline.py --func Michalewicz --dims 10 --solver scipy --algo direct --seed 0 --output_dir baseline_results_10_dims --timeout 300 --rerun_if_exist'\",\n",
       " 'python run_baseline.py --func Michalewicz --dims 10 --solver scipy --algo direct --seed 0 --output_dir baseline_results_10_dims --timeout 300 --rerun_if_exist',\n",
       " \"echo 'python run_baseline.py --func Michalewicz --dims 10 --solver scipy --algo direct --seed 1 --output_dir baseline_results_10_dims --timeout 300 --rerun_if_exist'\",\n",
       " 'python run_baseline.py --func Michalewicz --dims 10 --solver scipy --algo direct --seed 1 --output_dir baseline_results_10_dims --timeout 300 --rerun_if_exist',\n",
       " \"echo 'python run_baseline.py --func Michalewicz --dims 10 --solver scipy --algo direct --seed 2 --output_dir baseline_results_10_dims --timeout 300 --rerun_if_exist'\",\n",
       " 'python run_baseline.py --func Michalewicz --dims 10 --solver scipy --algo direct --seed 2 --output_dir baseline_results_10_dims --timeout 300 --rerun_if_exist',\n",
       " \"echo 'python run_baseline.py --func Michalewicz --dims 10 --solver scipy --algo direct --seed 3 --output_dir baseline_results_10_dims --timeout 300 --rerun_if_exist'\",\n",
       " 'python run_baseline.py --func Michalewicz --dims 10 --solver scipy --algo direct --seed 3 --output_dir baseline_results_10_dims --timeout 300 --rerun_if_exist',\n",
       " \"echo 'python run_baseline.py --func Michalewicz --dims 10 --solver scipy --algo direct --seed 4 --output_dir baseline_results_10_dims --timeout 300 --rerun_if_exist'\",\n",
       " 'python run_baseline.py --func Michalewicz --dims 10 --solver scipy --algo direct --seed 4 --output_dir baseline_results_10_dims --timeout 300 --rerun_if_exist',\n",
       " \"echo 'python run_baseline.py --func Michalewicz --dims 50 --solver scipy --algo direct --seed 0 --output_dir baseline_results_50_dims --timeout 300 --rerun_if_exist'\",\n",
       " 'python run_baseline.py --func Michalewicz --dims 50 --solver scipy --algo direct --seed 0 --output_dir baseline_results_50_dims --timeout 300 --rerun_if_exist',\n",
       " \"echo 'python run_baseline.py --func Michalewicz --dims 50 --solver scipy --algo direct --seed 1 --output_dir baseline_results_50_dims --timeout 300 --rerun_if_exist'\",\n",
       " 'python run_baseline.py --func Michalewicz --dims 50 --solver scipy --algo direct --seed 1 --output_dir baseline_results_50_dims --timeout 300 --rerun_if_exist',\n",
       " \"echo 'python run_baseline.py --func Michalewicz --dims 50 --solver scipy --algo direct --seed 2 --output_dir baseline_results_50_dims --timeout 300 --rerun_if_exist'\",\n",
       " 'python run_baseline.py --func Michalewicz --dims 50 --solver scipy --algo direct --seed 2 --output_dir baseline_results_50_dims --timeout 300 --rerun_if_exist',\n",
       " \"echo 'python run_baseline.py --func Michalewicz --dims 50 --solver scipy --algo direct --seed 3 --output_dir baseline_results_50_dims --timeout 300 --rerun_if_exist'\",\n",
       " 'python run_baseline.py --func Michalewicz --dims 50 --solver scipy --algo direct --seed 3 --output_dir baseline_results_50_dims --timeout 300 --rerun_if_exist',\n",
       " \"echo 'python run_baseline.py --func Michalewicz --dims 50 --solver scipy --algo direct --seed 4 --output_dir baseline_results_50_dims --timeout 300 --rerun_if_exist'\",\n",
       " 'python run_baseline.py --func Michalewicz --dims 50 --solver scipy --algo direct --seed 4 --output_dir baseline_results_50_dims --timeout 300 --rerun_if_exist',\n",
       " \"echo 'python run_baseline.py --func Michalewicz --dims 100 --solver scipy --algo direct --seed 0 --output_dir baseline_results_100_dims --timeout 300 --rerun_if_exist'\",\n",
       " 'python run_baseline.py --func Michalewicz --dims 100 --solver scipy --algo direct --seed 0 --output_dir baseline_results_100_dims --timeout 300 --rerun_if_exist',\n",
       " \"echo 'python run_baseline.py --func Michalewicz --dims 100 --solver scipy --algo direct --seed 1 --output_dir baseline_results_100_dims --timeout 300 --rerun_if_exist'\",\n",
       " 'python run_baseline.py --func Michalewicz --dims 100 --solver scipy --algo direct --seed 1 --output_dir baseline_results_100_dims --timeout 300 --rerun_if_exist',\n",
       " \"echo 'python run_baseline.py --func Michalewicz --dims 100 --solver scipy --algo direct --seed 2 --output_dir baseline_results_100_dims --timeout 300 --rerun_if_exist'\",\n",
       " 'python run_baseline.py --func Michalewicz --dims 100 --solver scipy --algo direct --seed 2 --output_dir baseline_results_100_dims --timeout 300 --rerun_if_exist',\n",
       " \"echo 'python run_baseline.py --func Michalewicz --dims 100 --solver scipy --algo direct --seed 3 --output_dir baseline_results_100_dims --timeout 300 --rerun_if_exist'\",\n",
       " 'python run_baseline.py --func Michalewicz --dims 100 --solver scipy --algo direct --seed 3 --output_dir baseline_results_100_dims --timeout 300 --rerun_if_exist',\n",
       " \"echo 'python run_baseline.py --func Michalewicz --dims 100 --solver scipy --algo direct --seed 4 --output_dir baseline_results_100_dims --timeout 300 --rerun_if_exist'\",\n",
       " 'python run_baseline.py --func Michalewicz --dims 100 --solver scipy --algo direct --seed 4 --output_dir baseline_results_100_dims --timeout 300 --rerun_if_exist']"
      ]
     },
     "execution_count": 25,
     "metadata": {},
     "output_type": "execute_result"
    }
   ],
   "source": [
    "commands"
   ]
  },
  {
   "cell_type": "code",
   "execution_count": 26,
   "metadata": {},
   "outputs": [],
   "source": [
    "with open(\"baseline_commands_rerun_direct.txt\", \"w\") as f:\n",
    "    for command in commands:\n",
    "        f.write(f\"{command}\\n\")"
   ]
  },
  {
   "cell_type": "code",
   "execution_count": null,
   "metadata": {},
   "outputs": [],
   "source": []
  },
  {
   "cell_type": "code",
   "execution_count": null,
   "metadata": {},
   "outputs": [],
   "source": [
    "nn_dir = \"../nn_models/\""
   ]
  },
  {
   "cell_type": "code",
   "execution_count": 3,
   "metadata": {},
   "outputs": [],
   "source": [
    "funcs = [\"NeuralNetworkOneLayer\"]\n",
    "dims = [-1]\n",
    "solver = [\"scipy\"]\n",
    "algos = [\"brute\", \"basinhopping\", \"differential_evolution\", \"shgo\", \"dual_annealing\", \"direct\"]\n",
    "seeds = [0, 1, 2, 3, 4]\n",
    "nn_fps = [\n",
    "    \"nn_models/nn_one_layer_ackley_2_16.pt\",\n",
    "    \"nn_models/nn_one_layer_ackley_10_16.pt\",\n",
    "    \"nn_models/nn_one_layer_levy_2_16.pt\",\n",
    "    \"nn_models/nn_one_layer_levy_10_16.pt\",\n",
    "    \"nn_models/nn_one_layer_michalewicz_2_16.pt\",\n",
    "    \"nn_models/nn_one_layer_michalewicz_10_16.pt\",   \n",
    "]\n",
    "timeout = 300"
   ]
  },
  {
   "cell_type": "code",
   "execution_count": 4,
   "metadata": {},
   "outputs": [],
   "source": [
    "instances = []\n",
    "\n",
    "for func in funcs:\n",
    "    for dim in dims:\n",
    "        for s in solver:\n",
    "            for seed in seeds:\n",
    "                for nn_fp in nn_fps:\n",
    "                    for algo in algos:\n",
    "                        instance = {\n",
    "                            \"func\": func,\n",
    "                            \"dims\": dim,\n",
    "                            \"solver\": s,\n",
    "                            \"algo\": algo,\n",
    "                            \"seed\": seed,\n",
    "                            \"nn_fp\": nn_fp\n",
    "                        }\n",
    "                        instances.append(instance)"
   ]
  },
  {
   "cell_type": "code",
   "execution_count": 22,
   "metadata": {},
   "outputs": [],
   "source": [
    "def generate_commands_from_instances_by_dimensions(instances, timeout=300):\n",
    "    commands = []\n",
    "    for instance in instances:\n",
    "        output_dir = \"baseline_results_{}_dims\".format(instance['dims'])\n",
    "        command = f\"python run_baseline.py --func {instance['func']} --dims {instance['dims']} --solver {instance['solver']} --algo {instance['algo']} --seed {instance['seed']} --output_dir {output_dir} --timeout {timeout} --rerun_if_exist\"\n",
    "        commands.append(\"echo '{}'\".format(command))\n",
    "        commands.append(command)\n",
    "\n",
    "    return commands"
   ]
  },
  {
   "cell_type": "code",
   "execution_count": 8,
   "metadata": {},
   "outputs": [],
   "source": [
    "def generate_commands_from_instances_nn(instances, timeout=300):\n",
    "    commands = []\n",
    "    for instance in instances:\n",
    "        output_dir = \"baseline_results_nn\".format(instance['dims'])\n",
    "        command = f\"python run_baseline.py --func {instance['func']} --dims {instance['dims']} --solver {instance['solver']} --algo {instance['algo']} --seed {instance['seed']} --output_dir {output_dir} --timeout {timeout} --nn_file_path {instance['nn_fp']}\"\n",
    "        commands.append(\"echo '{}'\".format(command))\n",
    "        commands.append(command)\n",
    "\n",
    "    return commands"
   ]
  },
  {
   "cell_type": "code",
   "execution_count": 9,
   "metadata": {},
   "outputs": [],
   "source": [
    "commands = generate_commands_from_instances_nn(instances, timeout=timeout)"
   ]
  },
  {
   "cell_type": "code",
   "execution_count": 10,
   "metadata": {},
   "outputs": [
    {
     "data": {
      "text/plain": [
       "360"
      ]
     },
     "execution_count": 10,
     "metadata": {},
     "output_type": "execute_result"
    }
   ],
   "source": [
    "len(commands)"
   ]
  },
  {
   "cell_type": "code",
   "execution_count": 11,
   "metadata": {},
   "outputs": [
    {
     "data": {
      "text/plain": [
       "[\"echo 'python run_baseline.py --func NeuralNetworkOneLayer --dims -1 --solver scipy --algo brute --seed 0 --output_dir baseline_results_nn --timeout 300 --nn_file_path nn_models/nn_one_layer_ackley_2_16.pt'\",\n",
       " 'python run_baseline.py --func NeuralNetworkOneLayer --dims -1 --solver scipy --algo brute --seed 0 --output_dir baseline_results_nn --timeout 300 --nn_file_path nn_models/nn_one_layer_ackley_2_16.pt',\n",
       " \"echo 'python run_baseline.py --func NeuralNetworkOneLayer --dims -1 --solver scipy --algo basinhopping --seed 0 --output_dir baseline_results_nn --timeout 300 --nn_file_path nn_models/nn_one_layer_ackley_2_16.pt'\",\n",
       " 'python run_baseline.py --func NeuralNetworkOneLayer --dims -1 --solver scipy --algo basinhopping --seed 0 --output_dir baseline_results_nn --timeout 300 --nn_file_path nn_models/nn_one_layer_ackley_2_16.pt',\n",
       " \"echo 'python run_baseline.py --func NeuralNetworkOneLayer --dims -1 --solver scipy --algo differential_evolution --seed 0 --output_dir baseline_results_nn --timeout 300 --nn_file_path nn_models/nn_one_layer_ackley_2_16.pt'\",\n",
       " 'python run_baseline.py --func NeuralNetworkOneLayer --dims -1 --solver scipy --algo differential_evolution --seed 0 --output_dir baseline_results_nn --timeout 300 --nn_file_path nn_models/nn_one_layer_ackley_2_16.pt',\n",
       " \"echo 'python run_baseline.py --func NeuralNetworkOneLayer --dims -1 --solver scipy --algo shgo --seed 0 --output_dir baseline_results_nn --timeout 300 --nn_file_path nn_models/nn_one_layer_ackley_2_16.pt'\",\n",
       " 'python run_baseline.py --func NeuralNetworkOneLayer --dims -1 --solver scipy --algo shgo --seed 0 --output_dir baseline_results_nn --timeout 300 --nn_file_path nn_models/nn_one_layer_ackley_2_16.pt',\n",
       " \"echo 'python run_baseline.py --func NeuralNetworkOneLayer --dims -1 --solver scipy --algo dual_annealing --seed 0 --output_dir baseline_results_nn --timeout 300 --nn_file_path nn_models/nn_one_layer_ackley_2_16.pt'\",\n",
       " 'python run_baseline.py --func NeuralNetworkOneLayer --dims -1 --solver scipy --algo dual_annealing --seed 0 --output_dir baseline_results_nn --timeout 300 --nn_file_path nn_models/nn_one_layer_ackley_2_16.pt',\n",
       " \"echo 'python run_baseline.py --func NeuralNetworkOneLayer --dims -1 --solver scipy --algo direct --seed 0 --output_dir baseline_results_nn --timeout 300 --nn_file_path nn_models/nn_one_layer_ackley_2_16.pt'\",\n",
       " 'python run_baseline.py --func NeuralNetworkOneLayer --dims -1 --solver scipy --algo direct --seed 0 --output_dir baseline_results_nn --timeout 300 --nn_file_path nn_models/nn_one_layer_ackley_2_16.pt',\n",
       " \"echo 'python run_baseline.py --func NeuralNetworkOneLayer --dims -1 --solver scipy --algo brute --seed 0 --output_dir baseline_results_nn --timeout 300 --nn_file_path nn_models/nn_one_layer_ackley_10_16.pt'\",\n",
       " 'python run_baseline.py --func NeuralNetworkOneLayer --dims -1 --solver scipy --algo brute --seed 0 --output_dir baseline_results_nn --timeout 300 --nn_file_path nn_models/nn_one_layer_ackley_10_16.pt',\n",
       " \"echo 'python run_baseline.py --func NeuralNetworkOneLayer --dims -1 --solver scipy --algo basinhopping --seed 0 --output_dir baseline_results_nn --timeout 300 --nn_file_path nn_models/nn_one_layer_ackley_10_16.pt'\",\n",
       " 'python run_baseline.py --func NeuralNetworkOneLayer --dims -1 --solver scipy --algo basinhopping --seed 0 --output_dir baseline_results_nn --timeout 300 --nn_file_path nn_models/nn_one_layer_ackley_10_16.pt',\n",
       " \"echo 'python run_baseline.py --func NeuralNetworkOneLayer --dims -1 --solver scipy --algo differential_evolution --seed 0 --output_dir baseline_results_nn --timeout 300 --nn_file_path nn_models/nn_one_layer_ackley_10_16.pt'\",\n",
       " 'python run_baseline.py --func NeuralNetworkOneLayer --dims -1 --solver scipy --algo differential_evolution --seed 0 --output_dir baseline_results_nn --timeout 300 --nn_file_path nn_models/nn_one_layer_ackley_10_16.pt',\n",
       " \"echo 'python run_baseline.py --func NeuralNetworkOneLayer --dims -1 --solver scipy --algo shgo --seed 0 --output_dir baseline_results_nn --timeout 300 --nn_file_path nn_models/nn_one_layer_ackley_10_16.pt'\",\n",
       " 'python run_baseline.py --func NeuralNetworkOneLayer --dims -1 --solver scipy --algo shgo --seed 0 --output_dir baseline_results_nn --timeout 300 --nn_file_path nn_models/nn_one_layer_ackley_10_16.pt',\n",
       " \"echo 'python run_baseline.py --func NeuralNetworkOneLayer --dims -1 --solver scipy --algo dual_annealing --seed 0 --output_dir baseline_results_nn --timeout 300 --nn_file_path nn_models/nn_one_layer_ackley_10_16.pt'\",\n",
       " 'python run_baseline.py --func NeuralNetworkOneLayer --dims -1 --solver scipy --algo dual_annealing --seed 0 --output_dir baseline_results_nn --timeout 300 --nn_file_path nn_models/nn_one_layer_ackley_10_16.pt',\n",
       " \"echo 'python run_baseline.py --func NeuralNetworkOneLayer --dims -1 --solver scipy --algo direct --seed 0 --output_dir baseline_results_nn --timeout 300 --nn_file_path nn_models/nn_one_layer_ackley_10_16.pt'\",\n",
       " 'python run_baseline.py --func NeuralNetworkOneLayer --dims -1 --solver scipy --algo direct --seed 0 --output_dir baseline_results_nn --timeout 300 --nn_file_path nn_models/nn_one_layer_ackley_10_16.pt',\n",
       " \"echo 'python run_baseline.py --func NeuralNetworkOneLayer --dims -1 --solver scipy --algo brute --seed 0 --output_dir baseline_results_nn --timeout 300 --nn_file_path nn_models/nn_one_layer_levy_2_16.pt'\",\n",
       " 'python run_baseline.py --func NeuralNetworkOneLayer --dims -1 --solver scipy --algo brute --seed 0 --output_dir baseline_results_nn --timeout 300 --nn_file_path nn_models/nn_one_layer_levy_2_16.pt',\n",
       " \"echo 'python run_baseline.py --func NeuralNetworkOneLayer --dims -1 --solver scipy --algo basinhopping --seed 0 --output_dir baseline_results_nn --timeout 300 --nn_file_path nn_models/nn_one_layer_levy_2_16.pt'\",\n",
       " 'python run_baseline.py --func NeuralNetworkOneLayer --dims -1 --solver scipy --algo basinhopping --seed 0 --output_dir baseline_results_nn --timeout 300 --nn_file_path nn_models/nn_one_layer_levy_2_16.pt',\n",
       " \"echo 'python run_baseline.py --func NeuralNetworkOneLayer --dims -1 --solver scipy --algo differential_evolution --seed 0 --output_dir baseline_results_nn --timeout 300 --nn_file_path nn_models/nn_one_layer_levy_2_16.pt'\",\n",
       " 'python run_baseline.py --func NeuralNetworkOneLayer --dims -1 --solver scipy --algo differential_evolution --seed 0 --output_dir baseline_results_nn --timeout 300 --nn_file_path nn_models/nn_one_layer_levy_2_16.pt',\n",
       " \"echo 'python run_baseline.py --func NeuralNetworkOneLayer --dims -1 --solver scipy --algo shgo --seed 0 --output_dir baseline_results_nn --timeout 300 --nn_file_path nn_models/nn_one_layer_levy_2_16.pt'\",\n",
       " 'python run_baseline.py --func NeuralNetworkOneLayer --dims -1 --solver scipy --algo shgo --seed 0 --output_dir baseline_results_nn --timeout 300 --nn_file_path nn_models/nn_one_layer_levy_2_16.pt',\n",
       " \"echo 'python run_baseline.py --func NeuralNetworkOneLayer --dims -1 --solver scipy --algo dual_annealing --seed 0 --output_dir baseline_results_nn --timeout 300 --nn_file_path nn_models/nn_one_layer_levy_2_16.pt'\",\n",
       " 'python run_baseline.py --func NeuralNetworkOneLayer --dims -1 --solver scipy --algo dual_annealing --seed 0 --output_dir baseline_results_nn --timeout 300 --nn_file_path nn_models/nn_one_layer_levy_2_16.pt',\n",
       " \"echo 'python run_baseline.py --func NeuralNetworkOneLayer --dims -1 --solver scipy --algo direct --seed 0 --output_dir baseline_results_nn --timeout 300 --nn_file_path nn_models/nn_one_layer_levy_2_16.pt'\",\n",
       " 'python run_baseline.py --func NeuralNetworkOneLayer --dims -1 --solver scipy --algo direct --seed 0 --output_dir baseline_results_nn --timeout 300 --nn_file_path nn_models/nn_one_layer_levy_2_16.pt',\n",
       " \"echo 'python run_baseline.py --func NeuralNetworkOneLayer --dims -1 --solver scipy --algo brute --seed 0 --output_dir baseline_results_nn --timeout 300 --nn_file_path nn_models/nn_one_layer_levy_10_16.pt'\",\n",
       " 'python run_baseline.py --func NeuralNetworkOneLayer --dims -1 --solver scipy --algo brute --seed 0 --output_dir baseline_results_nn --timeout 300 --nn_file_path nn_models/nn_one_layer_levy_10_16.pt',\n",
       " \"echo 'python run_baseline.py --func NeuralNetworkOneLayer --dims -1 --solver scipy --algo basinhopping --seed 0 --output_dir baseline_results_nn --timeout 300 --nn_file_path nn_models/nn_one_layer_levy_10_16.pt'\",\n",
       " 'python run_baseline.py --func NeuralNetworkOneLayer --dims -1 --solver scipy --algo basinhopping --seed 0 --output_dir baseline_results_nn --timeout 300 --nn_file_path nn_models/nn_one_layer_levy_10_16.pt',\n",
       " \"echo 'python run_baseline.py --func NeuralNetworkOneLayer --dims -1 --solver scipy --algo differential_evolution --seed 0 --output_dir baseline_results_nn --timeout 300 --nn_file_path nn_models/nn_one_layer_levy_10_16.pt'\",\n",
       " 'python run_baseline.py --func NeuralNetworkOneLayer --dims -1 --solver scipy --algo differential_evolution --seed 0 --output_dir baseline_results_nn --timeout 300 --nn_file_path nn_models/nn_one_layer_levy_10_16.pt',\n",
       " \"echo 'python run_baseline.py --func NeuralNetworkOneLayer --dims -1 --solver scipy --algo shgo --seed 0 --output_dir baseline_results_nn --timeout 300 --nn_file_path nn_models/nn_one_layer_levy_10_16.pt'\",\n",
       " 'python run_baseline.py --func NeuralNetworkOneLayer --dims -1 --solver scipy --algo shgo --seed 0 --output_dir baseline_results_nn --timeout 300 --nn_file_path nn_models/nn_one_layer_levy_10_16.pt',\n",
       " \"echo 'python run_baseline.py --func NeuralNetworkOneLayer --dims -1 --solver scipy --algo dual_annealing --seed 0 --output_dir baseline_results_nn --timeout 300 --nn_file_path nn_models/nn_one_layer_levy_10_16.pt'\",\n",
       " 'python run_baseline.py --func NeuralNetworkOneLayer --dims -1 --solver scipy --algo dual_annealing --seed 0 --output_dir baseline_results_nn --timeout 300 --nn_file_path nn_models/nn_one_layer_levy_10_16.pt',\n",
       " \"echo 'python run_baseline.py --func NeuralNetworkOneLayer --dims -1 --solver scipy --algo direct --seed 0 --output_dir baseline_results_nn --timeout 300 --nn_file_path nn_models/nn_one_layer_levy_10_16.pt'\",\n",
       " 'python run_baseline.py --func NeuralNetworkOneLayer --dims -1 --solver scipy --algo direct --seed 0 --output_dir baseline_results_nn --timeout 300 --nn_file_path nn_models/nn_one_layer_levy_10_16.pt',\n",
       " \"echo 'python run_baseline.py --func NeuralNetworkOneLayer --dims -1 --solver scipy --algo brute --seed 0 --output_dir baseline_results_nn --timeout 300 --nn_file_path nn_models/nn_one_layer_michalewicz_2_16.pt'\",\n",
       " 'python run_baseline.py --func NeuralNetworkOneLayer --dims -1 --solver scipy --algo brute --seed 0 --output_dir baseline_results_nn --timeout 300 --nn_file_path nn_models/nn_one_layer_michalewicz_2_16.pt',\n",
       " \"echo 'python run_baseline.py --func NeuralNetworkOneLayer --dims -1 --solver scipy --algo basinhopping --seed 0 --output_dir baseline_results_nn --timeout 300 --nn_file_path nn_models/nn_one_layer_michalewicz_2_16.pt'\",\n",
       " 'python run_baseline.py --func NeuralNetworkOneLayer --dims -1 --solver scipy --algo basinhopping --seed 0 --output_dir baseline_results_nn --timeout 300 --nn_file_path nn_models/nn_one_layer_michalewicz_2_16.pt',\n",
       " \"echo 'python run_baseline.py --func NeuralNetworkOneLayer --dims -1 --solver scipy --algo differential_evolution --seed 0 --output_dir baseline_results_nn --timeout 300 --nn_file_path nn_models/nn_one_layer_michalewicz_2_16.pt'\",\n",
       " 'python run_baseline.py --func NeuralNetworkOneLayer --dims -1 --solver scipy --algo differential_evolution --seed 0 --output_dir baseline_results_nn --timeout 300 --nn_file_path nn_models/nn_one_layer_michalewicz_2_16.pt',\n",
       " \"echo 'python run_baseline.py --func NeuralNetworkOneLayer --dims -1 --solver scipy --algo shgo --seed 0 --output_dir baseline_results_nn --timeout 300 --nn_file_path nn_models/nn_one_layer_michalewicz_2_16.pt'\",\n",
       " 'python run_baseline.py --func NeuralNetworkOneLayer --dims -1 --solver scipy --algo shgo --seed 0 --output_dir baseline_results_nn --timeout 300 --nn_file_path nn_models/nn_one_layer_michalewicz_2_16.pt',\n",
       " \"echo 'python run_baseline.py --func NeuralNetworkOneLayer --dims -1 --solver scipy --algo dual_annealing --seed 0 --output_dir baseline_results_nn --timeout 300 --nn_file_path nn_models/nn_one_layer_michalewicz_2_16.pt'\",\n",
       " 'python run_baseline.py --func NeuralNetworkOneLayer --dims -1 --solver scipy --algo dual_annealing --seed 0 --output_dir baseline_results_nn --timeout 300 --nn_file_path nn_models/nn_one_layer_michalewicz_2_16.pt',\n",
       " \"echo 'python run_baseline.py --func NeuralNetworkOneLayer --dims -1 --solver scipy --algo direct --seed 0 --output_dir baseline_results_nn --timeout 300 --nn_file_path nn_models/nn_one_layer_michalewicz_2_16.pt'\",\n",
       " 'python run_baseline.py --func NeuralNetworkOneLayer --dims -1 --solver scipy --algo direct --seed 0 --output_dir baseline_results_nn --timeout 300 --nn_file_path nn_models/nn_one_layer_michalewicz_2_16.pt',\n",
       " \"echo 'python run_baseline.py --func NeuralNetworkOneLayer --dims -1 --solver scipy --algo brute --seed 0 --output_dir baseline_results_nn --timeout 300 --nn_file_path nn_models/nn_one_layer_michalewicz_10_16.pt'\",\n",
       " 'python run_baseline.py --func NeuralNetworkOneLayer --dims -1 --solver scipy --algo brute --seed 0 --output_dir baseline_results_nn --timeout 300 --nn_file_path nn_models/nn_one_layer_michalewicz_10_16.pt',\n",
       " \"echo 'python run_baseline.py --func NeuralNetworkOneLayer --dims -1 --solver scipy --algo basinhopping --seed 0 --output_dir baseline_results_nn --timeout 300 --nn_file_path nn_models/nn_one_layer_michalewicz_10_16.pt'\",\n",
       " 'python run_baseline.py --func NeuralNetworkOneLayer --dims -1 --solver scipy --algo basinhopping --seed 0 --output_dir baseline_results_nn --timeout 300 --nn_file_path nn_models/nn_one_layer_michalewicz_10_16.pt',\n",
       " \"echo 'python run_baseline.py --func NeuralNetworkOneLayer --dims -1 --solver scipy --algo differential_evolution --seed 0 --output_dir baseline_results_nn --timeout 300 --nn_file_path nn_models/nn_one_layer_michalewicz_10_16.pt'\",\n",
       " 'python run_baseline.py --func NeuralNetworkOneLayer --dims -1 --solver scipy --algo differential_evolution --seed 0 --output_dir baseline_results_nn --timeout 300 --nn_file_path nn_models/nn_one_layer_michalewicz_10_16.pt',\n",
       " \"echo 'python run_baseline.py --func NeuralNetworkOneLayer --dims -1 --solver scipy --algo shgo --seed 0 --output_dir baseline_results_nn --timeout 300 --nn_file_path nn_models/nn_one_layer_michalewicz_10_16.pt'\",\n",
       " 'python run_baseline.py --func NeuralNetworkOneLayer --dims -1 --solver scipy --algo shgo --seed 0 --output_dir baseline_results_nn --timeout 300 --nn_file_path nn_models/nn_one_layer_michalewicz_10_16.pt',\n",
       " \"echo 'python run_baseline.py --func NeuralNetworkOneLayer --dims -1 --solver scipy --algo dual_annealing --seed 0 --output_dir baseline_results_nn --timeout 300 --nn_file_path nn_models/nn_one_layer_michalewicz_10_16.pt'\",\n",
       " 'python run_baseline.py --func NeuralNetworkOneLayer --dims -1 --solver scipy --algo dual_annealing --seed 0 --output_dir baseline_results_nn --timeout 300 --nn_file_path nn_models/nn_one_layer_michalewicz_10_16.pt',\n",
       " \"echo 'python run_baseline.py --func NeuralNetworkOneLayer --dims -1 --solver scipy --algo direct --seed 0 --output_dir baseline_results_nn --timeout 300 --nn_file_path nn_models/nn_one_layer_michalewicz_10_16.pt'\",\n",
       " 'python run_baseline.py --func NeuralNetworkOneLayer --dims -1 --solver scipy --algo direct --seed 0 --output_dir baseline_results_nn --timeout 300 --nn_file_path nn_models/nn_one_layer_michalewicz_10_16.pt',\n",
       " \"echo 'python run_baseline.py --func NeuralNetworkOneLayer --dims -1 --solver scipy --algo brute --seed 1 --output_dir baseline_results_nn --timeout 300 --nn_file_path nn_models/nn_one_layer_ackley_2_16.pt'\",\n",
       " 'python run_baseline.py --func NeuralNetworkOneLayer --dims -1 --solver scipy --algo brute --seed 1 --output_dir baseline_results_nn --timeout 300 --nn_file_path nn_models/nn_one_layer_ackley_2_16.pt',\n",
       " \"echo 'python run_baseline.py --func NeuralNetworkOneLayer --dims -1 --solver scipy --algo basinhopping --seed 1 --output_dir baseline_results_nn --timeout 300 --nn_file_path nn_models/nn_one_layer_ackley_2_16.pt'\",\n",
       " 'python run_baseline.py --func NeuralNetworkOneLayer --dims -1 --solver scipy --algo basinhopping --seed 1 --output_dir baseline_results_nn --timeout 300 --nn_file_path nn_models/nn_one_layer_ackley_2_16.pt',\n",
       " \"echo 'python run_baseline.py --func NeuralNetworkOneLayer --dims -1 --solver scipy --algo differential_evolution --seed 1 --output_dir baseline_results_nn --timeout 300 --nn_file_path nn_models/nn_one_layer_ackley_2_16.pt'\",\n",
       " 'python run_baseline.py --func NeuralNetworkOneLayer --dims -1 --solver scipy --algo differential_evolution --seed 1 --output_dir baseline_results_nn --timeout 300 --nn_file_path nn_models/nn_one_layer_ackley_2_16.pt',\n",
       " \"echo 'python run_baseline.py --func NeuralNetworkOneLayer --dims -1 --solver scipy --algo shgo --seed 1 --output_dir baseline_results_nn --timeout 300 --nn_file_path nn_models/nn_one_layer_ackley_2_16.pt'\",\n",
       " 'python run_baseline.py --func NeuralNetworkOneLayer --dims -1 --solver scipy --algo shgo --seed 1 --output_dir baseline_results_nn --timeout 300 --nn_file_path nn_models/nn_one_layer_ackley_2_16.pt',\n",
       " \"echo 'python run_baseline.py --func NeuralNetworkOneLayer --dims -1 --solver scipy --algo dual_annealing --seed 1 --output_dir baseline_results_nn --timeout 300 --nn_file_path nn_models/nn_one_layer_ackley_2_16.pt'\",\n",
       " 'python run_baseline.py --func NeuralNetworkOneLayer --dims -1 --solver scipy --algo dual_annealing --seed 1 --output_dir baseline_results_nn --timeout 300 --nn_file_path nn_models/nn_one_layer_ackley_2_16.pt',\n",
       " \"echo 'python run_baseline.py --func NeuralNetworkOneLayer --dims -1 --solver scipy --algo direct --seed 1 --output_dir baseline_results_nn --timeout 300 --nn_file_path nn_models/nn_one_layer_ackley_2_16.pt'\",\n",
       " 'python run_baseline.py --func NeuralNetworkOneLayer --dims -1 --solver scipy --algo direct --seed 1 --output_dir baseline_results_nn --timeout 300 --nn_file_path nn_models/nn_one_layer_ackley_2_16.pt',\n",
       " \"echo 'python run_baseline.py --func NeuralNetworkOneLayer --dims -1 --solver scipy --algo brute --seed 1 --output_dir baseline_results_nn --timeout 300 --nn_file_path nn_models/nn_one_layer_ackley_10_16.pt'\",\n",
       " 'python run_baseline.py --func NeuralNetworkOneLayer --dims -1 --solver scipy --algo brute --seed 1 --output_dir baseline_results_nn --timeout 300 --nn_file_path nn_models/nn_one_layer_ackley_10_16.pt',\n",
       " \"echo 'python run_baseline.py --func NeuralNetworkOneLayer --dims -1 --solver scipy --algo basinhopping --seed 1 --output_dir baseline_results_nn --timeout 300 --nn_file_path nn_models/nn_one_layer_ackley_10_16.pt'\",\n",
       " 'python run_baseline.py --func NeuralNetworkOneLayer --dims -1 --solver scipy --algo basinhopping --seed 1 --output_dir baseline_results_nn --timeout 300 --nn_file_path nn_models/nn_one_layer_ackley_10_16.pt',\n",
       " \"echo 'python run_baseline.py --func NeuralNetworkOneLayer --dims -1 --solver scipy --algo differential_evolution --seed 1 --output_dir baseline_results_nn --timeout 300 --nn_file_path nn_models/nn_one_layer_ackley_10_16.pt'\",\n",
       " 'python run_baseline.py --func NeuralNetworkOneLayer --dims -1 --solver scipy --algo differential_evolution --seed 1 --output_dir baseline_results_nn --timeout 300 --nn_file_path nn_models/nn_one_layer_ackley_10_16.pt',\n",
       " \"echo 'python run_baseline.py --func NeuralNetworkOneLayer --dims -1 --solver scipy --algo shgo --seed 1 --output_dir baseline_results_nn --timeout 300 --nn_file_path nn_models/nn_one_layer_ackley_10_16.pt'\",\n",
       " 'python run_baseline.py --func NeuralNetworkOneLayer --dims -1 --solver scipy --algo shgo --seed 1 --output_dir baseline_results_nn --timeout 300 --nn_file_path nn_models/nn_one_layer_ackley_10_16.pt',\n",
       " \"echo 'python run_baseline.py --func NeuralNetworkOneLayer --dims -1 --solver scipy --algo dual_annealing --seed 1 --output_dir baseline_results_nn --timeout 300 --nn_file_path nn_models/nn_one_layer_ackley_10_16.pt'\",\n",
       " 'python run_baseline.py --func NeuralNetworkOneLayer --dims -1 --solver scipy --algo dual_annealing --seed 1 --output_dir baseline_results_nn --timeout 300 --nn_file_path nn_models/nn_one_layer_ackley_10_16.pt',\n",
       " \"echo 'python run_baseline.py --func NeuralNetworkOneLayer --dims -1 --solver scipy --algo direct --seed 1 --output_dir baseline_results_nn --timeout 300 --nn_file_path nn_models/nn_one_layer_ackley_10_16.pt'\",\n",
       " 'python run_baseline.py --func NeuralNetworkOneLayer --dims -1 --solver scipy --algo direct --seed 1 --output_dir baseline_results_nn --timeout 300 --nn_file_path nn_models/nn_one_layer_ackley_10_16.pt',\n",
       " \"echo 'python run_baseline.py --func NeuralNetworkOneLayer --dims -1 --solver scipy --algo brute --seed 1 --output_dir baseline_results_nn --timeout 300 --nn_file_path nn_models/nn_one_layer_levy_2_16.pt'\",\n",
       " 'python run_baseline.py --func NeuralNetworkOneLayer --dims -1 --solver scipy --algo brute --seed 1 --output_dir baseline_results_nn --timeout 300 --nn_file_path nn_models/nn_one_layer_levy_2_16.pt',\n",
       " \"echo 'python run_baseline.py --func NeuralNetworkOneLayer --dims -1 --solver scipy --algo basinhopping --seed 1 --output_dir baseline_results_nn --timeout 300 --nn_file_path nn_models/nn_one_layer_levy_2_16.pt'\",\n",
       " 'python run_baseline.py --func NeuralNetworkOneLayer --dims -1 --solver scipy --algo basinhopping --seed 1 --output_dir baseline_results_nn --timeout 300 --nn_file_path nn_models/nn_one_layer_levy_2_16.pt',\n",
       " \"echo 'python run_baseline.py --func NeuralNetworkOneLayer --dims -1 --solver scipy --algo differential_evolution --seed 1 --output_dir baseline_results_nn --timeout 300 --nn_file_path nn_models/nn_one_layer_levy_2_16.pt'\",\n",
       " 'python run_baseline.py --func NeuralNetworkOneLayer --dims -1 --solver scipy --algo differential_evolution --seed 1 --output_dir baseline_results_nn --timeout 300 --nn_file_path nn_models/nn_one_layer_levy_2_16.pt',\n",
       " \"echo 'python run_baseline.py --func NeuralNetworkOneLayer --dims -1 --solver scipy --algo shgo --seed 1 --output_dir baseline_results_nn --timeout 300 --nn_file_path nn_models/nn_one_layer_levy_2_16.pt'\",\n",
       " 'python run_baseline.py --func NeuralNetworkOneLayer --dims -1 --solver scipy --algo shgo --seed 1 --output_dir baseline_results_nn --timeout 300 --nn_file_path nn_models/nn_one_layer_levy_2_16.pt',\n",
       " \"echo 'python run_baseline.py --func NeuralNetworkOneLayer --dims -1 --solver scipy --algo dual_annealing --seed 1 --output_dir baseline_results_nn --timeout 300 --nn_file_path nn_models/nn_one_layer_levy_2_16.pt'\",\n",
       " 'python run_baseline.py --func NeuralNetworkOneLayer --dims -1 --solver scipy --algo dual_annealing --seed 1 --output_dir baseline_results_nn --timeout 300 --nn_file_path nn_models/nn_one_layer_levy_2_16.pt',\n",
       " \"echo 'python run_baseline.py --func NeuralNetworkOneLayer --dims -1 --solver scipy --algo direct --seed 1 --output_dir baseline_results_nn --timeout 300 --nn_file_path nn_models/nn_one_layer_levy_2_16.pt'\",\n",
       " 'python run_baseline.py --func NeuralNetworkOneLayer --dims -1 --solver scipy --algo direct --seed 1 --output_dir baseline_results_nn --timeout 300 --nn_file_path nn_models/nn_one_layer_levy_2_16.pt',\n",
       " \"echo 'python run_baseline.py --func NeuralNetworkOneLayer --dims -1 --solver scipy --algo brute --seed 1 --output_dir baseline_results_nn --timeout 300 --nn_file_path nn_models/nn_one_layer_levy_10_16.pt'\",\n",
       " 'python run_baseline.py --func NeuralNetworkOneLayer --dims -1 --solver scipy --algo brute --seed 1 --output_dir baseline_results_nn --timeout 300 --nn_file_path nn_models/nn_one_layer_levy_10_16.pt',\n",
       " \"echo 'python run_baseline.py --func NeuralNetworkOneLayer --dims -1 --solver scipy --algo basinhopping --seed 1 --output_dir baseline_results_nn --timeout 300 --nn_file_path nn_models/nn_one_layer_levy_10_16.pt'\",\n",
       " 'python run_baseline.py --func NeuralNetworkOneLayer --dims -1 --solver scipy --algo basinhopping --seed 1 --output_dir baseline_results_nn --timeout 300 --nn_file_path nn_models/nn_one_layer_levy_10_16.pt',\n",
       " \"echo 'python run_baseline.py --func NeuralNetworkOneLayer --dims -1 --solver scipy --algo differential_evolution --seed 1 --output_dir baseline_results_nn --timeout 300 --nn_file_path nn_models/nn_one_layer_levy_10_16.pt'\",\n",
       " 'python run_baseline.py --func NeuralNetworkOneLayer --dims -1 --solver scipy --algo differential_evolution --seed 1 --output_dir baseline_results_nn --timeout 300 --nn_file_path nn_models/nn_one_layer_levy_10_16.pt',\n",
       " \"echo 'python run_baseline.py --func NeuralNetworkOneLayer --dims -1 --solver scipy --algo shgo --seed 1 --output_dir baseline_results_nn --timeout 300 --nn_file_path nn_models/nn_one_layer_levy_10_16.pt'\",\n",
       " 'python run_baseline.py --func NeuralNetworkOneLayer --dims -1 --solver scipy --algo shgo --seed 1 --output_dir baseline_results_nn --timeout 300 --nn_file_path nn_models/nn_one_layer_levy_10_16.pt',\n",
       " \"echo 'python run_baseline.py --func NeuralNetworkOneLayer --dims -1 --solver scipy --algo dual_annealing --seed 1 --output_dir baseline_results_nn --timeout 300 --nn_file_path nn_models/nn_one_layer_levy_10_16.pt'\",\n",
       " 'python run_baseline.py --func NeuralNetworkOneLayer --dims -1 --solver scipy --algo dual_annealing --seed 1 --output_dir baseline_results_nn --timeout 300 --nn_file_path nn_models/nn_one_layer_levy_10_16.pt',\n",
       " \"echo 'python run_baseline.py --func NeuralNetworkOneLayer --dims -1 --solver scipy --algo direct --seed 1 --output_dir baseline_results_nn --timeout 300 --nn_file_path nn_models/nn_one_layer_levy_10_16.pt'\",\n",
       " 'python run_baseline.py --func NeuralNetworkOneLayer --dims -1 --solver scipy --algo direct --seed 1 --output_dir baseline_results_nn --timeout 300 --nn_file_path nn_models/nn_one_layer_levy_10_16.pt',\n",
       " \"echo 'python run_baseline.py --func NeuralNetworkOneLayer --dims -1 --solver scipy --algo brute --seed 1 --output_dir baseline_results_nn --timeout 300 --nn_file_path nn_models/nn_one_layer_michalewicz_2_16.pt'\",\n",
       " 'python run_baseline.py --func NeuralNetworkOneLayer --dims -1 --solver scipy --algo brute --seed 1 --output_dir baseline_results_nn --timeout 300 --nn_file_path nn_models/nn_one_layer_michalewicz_2_16.pt',\n",
       " \"echo 'python run_baseline.py --func NeuralNetworkOneLayer --dims -1 --solver scipy --algo basinhopping --seed 1 --output_dir baseline_results_nn --timeout 300 --nn_file_path nn_models/nn_one_layer_michalewicz_2_16.pt'\",\n",
       " 'python run_baseline.py --func NeuralNetworkOneLayer --dims -1 --solver scipy --algo basinhopping --seed 1 --output_dir baseline_results_nn --timeout 300 --nn_file_path nn_models/nn_one_layer_michalewicz_2_16.pt',\n",
       " \"echo 'python run_baseline.py --func NeuralNetworkOneLayer --dims -1 --solver scipy --algo differential_evolution --seed 1 --output_dir baseline_results_nn --timeout 300 --nn_file_path nn_models/nn_one_layer_michalewicz_2_16.pt'\",\n",
       " 'python run_baseline.py --func NeuralNetworkOneLayer --dims -1 --solver scipy --algo differential_evolution --seed 1 --output_dir baseline_results_nn --timeout 300 --nn_file_path nn_models/nn_one_layer_michalewicz_2_16.pt',\n",
       " \"echo 'python run_baseline.py --func NeuralNetworkOneLayer --dims -1 --solver scipy --algo shgo --seed 1 --output_dir baseline_results_nn --timeout 300 --nn_file_path nn_models/nn_one_layer_michalewicz_2_16.pt'\",\n",
       " 'python run_baseline.py --func NeuralNetworkOneLayer --dims -1 --solver scipy --algo shgo --seed 1 --output_dir baseline_results_nn --timeout 300 --nn_file_path nn_models/nn_one_layer_michalewicz_2_16.pt',\n",
       " \"echo 'python run_baseline.py --func NeuralNetworkOneLayer --dims -1 --solver scipy --algo dual_annealing --seed 1 --output_dir baseline_results_nn --timeout 300 --nn_file_path nn_models/nn_one_layer_michalewicz_2_16.pt'\",\n",
       " 'python run_baseline.py --func NeuralNetworkOneLayer --dims -1 --solver scipy --algo dual_annealing --seed 1 --output_dir baseline_results_nn --timeout 300 --nn_file_path nn_models/nn_one_layer_michalewicz_2_16.pt',\n",
       " \"echo 'python run_baseline.py --func NeuralNetworkOneLayer --dims -1 --solver scipy --algo direct --seed 1 --output_dir baseline_results_nn --timeout 300 --nn_file_path nn_models/nn_one_layer_michalewicz_2_16.pt'\",\n",
       " 'python run_baseline.py --func NeuralNetworkOneLayer --dims -1 --solver scipy --algo direct --seed 1 --output_dir baseline_results_nn --timeout 300 --nn_file_path nn_models/nn_one_layer_michalewicz_2_16.pt',\n",
       " \"echo 'python run_baseline.py --func NeuralNetworkOneLayer --dims -1 --solver scipy --algo brute --seed 1 --output_dir baseline_results_nn --timeout 300 --nn_file_path nn_models/nn_one_layer_michalewicz_10_16.pt'\",\n",
       " 'python run_baseline.py --func NeuralNetworkOneLayer --dims -1 --solver scipy --algo brute --seed 1 --output_dir baseline_results_nn --timeout 300 --nn_file_path nn_models/nn_one_layer_michalewicz_10_16.pt',\n",
       " \"echo 'python run_baseline.py --func NeuralNetworkOneLayer --dims -1 --solver scipy --algo basinhopping --seed 1 --output_dir baseline_results_nn --timeout 300 --nn_file_path nn_models/nn_one_layer_michalewicz_10_16.pt'\",\n",
       " 'python run_baseline.py --func NeuralNetworkOneLayer --dims -1 --solver scipy --algo basinhopping --seed 1 --output_dir baseline_results_nn --timeout 300 --nn_file_path nn_models/nn_one_layer_michalewicz_10_16.pt',\n",
       " \"echo 'python run_baseline.py --func NeuralNetworkOneLayer --dims -1 --solver scipy --algo differential_evolution --seed 1 --output_dir baseline_results_nn --timeout 300 --nn_file_path nn_models/nn_one_layer_michalewicz_10_16.pt'\",\n",
       " 'python run_baseline.py --func NeuralNetworkOneLayer --dims -1 --solver scipy --algo differential_evolution --seed 1 --output_dir baseline_results_nn --timeout 300 --nn_file_path nn_models/nn_one_layer_michalewicz_10_16.pt',\n",
       " \"echo 'python run_baseline.py --func NeuralNetworkOneLayer --dims -1 --solver scipy --algo shgo --seed 1 --output_dir baseline_results_nn --timeout 300 --nn_file_path nn_models/nn_one_layer_michalewicz_10_16.pt'\",\n",
       " 'python run_baseline.py --func NeuralNetworkOneLayer --dims -1 --solver scipy --algo shgo --seed 1 --output_dir baseline_results_nn --timeout 300 --nn_file_path nn_models/nn_one_layer_michalewicz_10_16.pt',\n",
       " \"echo 'python run_baseline.py --func NeuralNetworkOneLayer --dims -1 --solver scipy --algo dual_annealing --seed 1 --output_dir baseline_results_nn --timeout 300 --nn_file_path nn_models/nn_one_layer_michalewicz_10_16.pt'\",\n",
       " 'python run_baseline.py --func NeuralNetworkOneLayer --dims -1 --solver scipy --algo dual_annealing --seed 1 --output_dir baseline_results_nn --timeout 300 --nn_file_path nn_models/nn_one_layer_michalewicz_10_16.pt',\n",
       " \"echo 'python run_baseline.py --func NeuralNetworkOneLayer --dims -1 --solver scipy --algo direct --seed 1 --output_dir baseline_results_nn --timeout 300 --nn_file_path nn_models/nn_one_layer_michalewicz_10_16.pt'\",\n",
       " 'python run_baseline.py --func NeuralNetworkOneLayer --dims -1 --solver scipy --algo direct --seed 1 --output_dir baseline_results_nn --timeout 300 --nn_file_path nn_models/nn_one_layer_michalewicz_10_16.pt',\n",
       " \"echo 'python run_baseline.py --func NeuralNetworkOneLayer --dims -1 --solver scipy --algo brute --seed 2 --output_dir baseline_results_nn --timeout 300 --nn_file_path nn_models/nn_one_layer_ackley_2_16.pt'\",\n",
       " 'python run_baseline.py --func NeuralNetworkOneLayer --dims -1 --solver scipy --algo brute --seed 2 --output_dir baseline_results_nn --timeout 300 --nn_file_path nn_models/nn_one_layer_ackley_2_16.pt',\n",
       " \"echo 'python run_baseline.py --func NeuralNetworkOneLayer --dims -1 --solver scipy --algo basinhopping --seed 2 --output_dir baseline_results_nn --timeout 300 --nn_file_path nn_models/nn_one_layer_ackley_2_16.pt'\",\n",
       " 'python run_baseline.py --func NeuralNetworkOneLayer --dims -1 --solver scipy --algo basinhopping --seed 2 --output_dir baseline_results_nn --timeout 300 --nn_file_path nn_models/nn_one_layer_ackley_2_16.pt',\n",
       " \"echo 'python run_baseline.py --func NeuralNetworkOneLayer --dims -1 --solver scipy --algo differential_evolution --seed 2 --output_dir baseline_results_nn --timeout 300 --nn_file_path nn_models/nn_one_layer_ackley_2_16.pt'\",\n",
       " 'python run_baseline.py --func NeuralNetworkOneLayer --dims -1 --solver scipy --algo differential_evolution --seed 2 --output_dir baseline_results_nn --timeout 300 --nn_file_path nn_models/nn_one_layer_ackley_2_16.pt',\n",
       " \"echo 'python run_baseline.py --func NeuralNetworkOneLayer --dims -1 --solver scipy --algo shgo --seed 2 --output_dir baseline_results_nn --timeout 300 --nn_file_path nn_models/nn_one_layer_ackley_2_16.pt'\",\n",
       " 'python run_baseline.py --func NeuralNetworkOneLayer --dims -1 --solver scipy --algo shgo --seed 2 --output_dir baseline_results_nn --timeout 300 --nn_file_path nn_models/nn_one_layer_ackley_2_16.pt',\n",
       " \"echo 'python run_baseline.py --func NeuralNetworkOneLayer --dims -1 --solver scipy --algo dual_annealing --seed 2 --output_dir baseline_results_nn --timeout 300 --nn_file_path nn_models/nn_one_layer_ackley_2_16.pt'\",\n",
       " 'python run_baseline.py --func NeuralNetworkOneLayer --dims -1 --solver scipy --algo dual_annealing --seed 2 --output_dir baseline_results_nn --timeout 300 --nn_file_path nn_models/nn_one_layer_ackley_2_16.pt',\n",
       " \"echo 'python run_baseline.py --func NeuralNetworkOneLayer --dims -1 --solver scipy --algo direct --seed 2 --output_dir baseline_results_nn --timeout 300 --nn_file_path nn_models/nn_one_layer_ackley_2_16.pt'\",\n",
       " 'python run_baseline.py --func NeuralNetworkOneLayer --dims -1 --solver scipy --algo direct --seed 2 --output_dir baseline_results_nn --timeout 300 --nn_file_path nn_models/nn_one_layer_ackley_2_16.pt',\n",
       " \"echo 'python run_baseline.py --func NeuralNetworkOneLayer --dims -1 --solver scipy --algo brute --seed 2 --output_dir baseline_results_nn --timeout 300 --nn_file_path nn_models/nn_one_layer_ackley_10_16.pt'\",\n",
       " 'python run_baseline.py --func NeuralNetworkOneLayer --dims -1 --solver scipy --algo brute --seed 2 --output_dir baseline_results_nn --timeout 300 --nn_file_path nn_models/nn_one_layer_ackley_10_16.pt',\n",
       " \"echo 'python run_baseline.py --func NeuralNetworkOneLayer --dims -1 --solver scipy --algo basinhopping --seed 2 --output_dir baseline_results_nn --timeout 300 --nn_file_path nn_models/nn_one_layer_ackley_10_16.pt'\",\n",
       " 'python run_baseline.py --func NeuralNetworkOneLayer --dims -1 --solver scipy --algo basinhopping --seed 2 --output_dir baseline_results_nn --timeout 300 --nn_file_path nn_models/nn_one_layer_ackley_10_16.pt',\n",
       " \"echo 'python run_baseline.py --func NeuralNetworkOneLayer --dims -1 --solver scipy --algo differential_evolution --seed 2 --output_dir baseline_results_nn --timeout 300 --nn_file_path nn_models/nn_one_layer_ackley_10_16.pt'\",\n",
       " 'python run_baseline.py --func NeuralNetworkOneLayer --dims -1 --solver scipy --algo differential_evolution --seed 2 --output_dir baseline_results_nn --timeout 300 --nn_file_path nn_models/nn_one_layer_ackley_10_16.pt',\n",
       " \"echo 'python run_baseline.py --func NeuralNetworkOneLayer --dims -1 --solver scipy --algo shgo --seed 2 --output_dir baseline_results_nn --timeout 300 --nn_file_path nn_models/nn_one_layer_ackley_10_16.pt'\",\n",
       " 'python run_baseline.py --func NeuralNetworkOneLayer --dims -1 --solver scipy --algo shgo --seed 2 --output_dir baseline_results_nn --timeout 300 --nn_file_path nn_models/nn_one_layer_ackley_10_16.pt',\n",
       " \"echo 'python run_baseline.py --func NeuralNetworkOneLayer --dims -1 --solver scipy --algo dual_annealing --seed 2 --output_dir baseline_results_nn --timeout 300 --nn_file_path nn_models/nn_one_layer_ackley_10_16.pt'\",\n",
       " 'python run_baseline.py --func NeuralNetworkOneLayer --dims -1 --solver scipy --algo dual_annealing --seed 2 --output_dir baseline_results_nn --timeout 300 --nn_file_path nn_models/nn_one_layer_ackley_10_16.pt',\n",
       " \"echo 'python run_baseline.py --func NeuralNetworkOneLayer --dims -1 --solver scipy --algo direct --seed 2 --output_dir baseline_results_nn --timeout 300 --nn_file_path nn_models/nn_one_layer_ackley_10_16.pt'\",\n",
       " 'python run_baseline.py --func NeuralNetworkOneLayer --dims -1 --solver scipy --algo direct --seed 2 --output_dir baseline_results_nn --timeout 300 --nn_file_path nn_models/nn_one_layer_ackley_10_16.pt',\n",
       " \"echo 'python run_baseline.py --func NeuralNetworkOneLayer --dims -1 --solver scipy --algo brute --seed 2 --output_dir baseline_results_nn --timeout 300 --nn_file_path nn_models/nn_one_layer_levy_2_16.pt'\",\n",
       " 'python run_baseline.py --func NeuralNetworkOneLayer --dims -1 --solver scipy --algo brute --seed 2 --output_dir baseline_results_nn --timeout 300 --nn_file_path nn_models/nn_one_layer_levy_2_16.pt',\n",
       " \"echo 'python run_baseline.py --func NeuralNetworkOneLayer --dims -1 --solver scipy --algo basinhopping --seed 2 --output_dir baseline_results_nn --timeout 300 --nn_file_path nn_models/nn_one_layer_levy_2_16.pt'\",\n",
       " 'python run_baseline.py --func NeuralNetworkOneLayer --dims -1 --solver scipy --algo basinhopping --seed 2 --output_dir baseline_results_nn --timeout 300 --nn_file_path nn_models/nn_one_layer_levy_2_16.pt',\n",
       " \"echo 'python run_baseline.py --func NeuralNetworkOneLayer --dims -1 --solver scipy --algo differential_evolution --seed 2 --output_dir baseline_results_nn --timeout 300 --nn_file_path nn_models/nn_one_layer_levy_2_16.pt'\",\n",
       " 'python run_baseline.py --func NeuralNetworkOneLayer --dims -1 --solver scipy --algo differential_evolution --seed 2 --output_dir baseline_results_nn --timeout 300 --nn_file_path nn_models/nn_one_layer_levy_2_16.pt',\n",
       " \"echo 'python run_baseline.py --func NeuralNetworkOneLayer --dims -1 --solver scipy --algo shgo --seed 2 --output_dir baseline_results_nn --timeout 300 --nn_file_path nn_models/nn_one_layer_levy_2_16.pt'\",\n",
       " 'python run_baseline.py --func NeuralNetworkOneLayer --dims -1 --solver scipy --algo shgo --seed 2 --output_dir baseline_results_nn --timeout 300 --nn_file_path nn_models/nn_one_layer_levy_2_16.pt',\n",
       " \"echo 'python run_baseline.py --func NeuralNetworkOneLayer --dims -1 --solver scipy --algo dual_annealing --seed 2 --output_dir baseline_results_nn --timeout 300 --nn_file_path nn_models/nn_one_layer_levy_2_16.pt'\",\n",
       " 'python run_baseline.py --func NeuralNetworkOneLayer --dims -1 --solver scipy --algo dual_annealing --seed 2 --output_dir baseline_results_nn --timeout 300 --nn_file_path nn_models/nn_one_layer_levy_2_16.pt',\n",
       " \"echo 'python run_baseline.py --func NeuralNetworkOneLayer --dims -1 --solver scipy --algo direct --seed 2 --output_dir baseline_results_nn --timeout 300 --nn_file_path nn_models/nn_one_layer_levy_2_16.pt'\",\n",
       " 'python run_baseline.py --func NeuralNetworkOneLayer --dims -1 --solver scipy --algo direct --seed 2 --output_dir baseline_results_nn --timeout 300 --nn_file_path nn_models/nn_one_layer_levy_2_16.pt',\n",
       " \"echo 'python run_baseline.py --func NeuralNetworkOneLayer --dims -1 --solver scipy --algo brute --seed 2 --output_dir baseline_results_nn --timeout 300 --nn_file_path nn_models/nn_one_layer_levy_10_16.pt'\",\n",
       " 'python run_baseline.py --func NeuralNetworkOneLayer --dims -1 --solver scipy --algo brute --seed 2 --output_dir baseline_results_nn --timeout 300 --nn_file_path nn_models/nn_one_layer_levy_10_16.pt',\n",
       " \"echo 'python run_baseline.py --func NeuralNetworkOneLayer --dims -1 --solver scipy --algo basinhopping --seed 2 --output_dir baseline_results_nn --timeout 300 --nn_file_path nn_models/nn_one_layer_levy_10_16.pt'\",\n",
       " 'python run_baseline.py --func NeuralNetworkOneLayer --dims -1 --solver scipy --algo basinhopping --seed 2 --output_dir baseline_results_nn --timeout 300 --nn_file_path nn_models/nn_one_layer_levy_10_16.pt',\n",
       " \"echo 'python run_baseline.py --func NeuralNetworkOneLayer --dims -1 --solver scipy --algo differential_evolution --seed 2 --output_dir baseline_results_nn --timeout 300 --nn_file_path nn_models/nn_one_layer_levy_10_16.pt'\",\n",
       " 'python run_baseline.py --func NeuralNetworkOneLayer --dims -1 --solver scipy --algo differential_evolution --seed 2 --output_dir baseline_results_nn --timeout 300 --nn_file_path nn_models/nn_one_layer_levy_10_16.pt',\n",
       " \"echo 'python run_baseline.py --func NeuralNetworkOneLayer --dims -1 --solver scipy --algo shgo --seed 2 --output_dir baseline_results_nn --timeout 300 --nn_file_path nn_models/nn_one_layer_levy_10_16.pt'\",\n",
       " 'python run_baseline.py --func NeuralNetworkOneLayer --dims -1 --solver scipy --algo shgo --seed 2 --output_dir baseline_results_nn --timeout 300 --nn_file_path nn_models/nn_one_layer_levy_10_16.pt',\n",
       " \"echo 'python run_baseline.py --func NeuralNetworkOneLayer --dims -1 --solver scipy --algo dual_annealing --seed 2 --output_dir baseline_results_nn --timeout 300 --nn_file_path nn_models/nn_one_layer_levy_10_16.pt'\",\n",
       " 'python run_baseline.py --func NeuralNetworkOneLayer --dims -1 --solver scipy --algo dual_annealing --seed 2 --output_dir baseline_results_nn --timeout 300 --nn_file_path nn_models/nn_one_layer_levy_10_16.pt',\n",
       " \"echo 'python run_baseline.py --func NeuralNetworkOneLayer --dims -1 --solver scipy --algo direct --seed 2 --output_dir baseline_results_nn --timeout 300 --nn_file_path nn_models/nn_one_layer_levy_10_16.pt'\",\n",
       " 'python run_baseline.py --func NeuralNetworkOneLayer --dims -1 --solver scipy --algo direct --seed 2 --output_dir baseline_results_nn --timeout 300 --nn_file_path nn_models/nn_one_layer_levy_10_16.pt',\n",
       " \"echo 'python run_baseline.py --func NeuralNetworkOneLayer --dims -1 --solver scipy --algo brute --seed 2 --output_dir baseline_results_nn --timeout 300 --nn_file_path nn_models/nn_one_layer_michalewicz_2_16.pt'\",\n",
       " 'python run_baseline.py --func NeuralNetworkOneLayer --dims -1 --solver scipy --algo brute --seed 2 --output_dir baseline_results_nn --timeout 300 --nn_file_path nn_models/nn_one_layer_michalewicz_2_16.pt',\n",
       " \"echo 'python run_baseline.py --func NeuralNetworkOneLayer --dims -1 --solver scipy --algo basinhopping --seed 2 --output_dir baseline_results_nn --timeout 300 --nn_file_path nn_models/nn_one_layer_michalewicz_2_16.pt'\",\n",
       " 'python run_baseline.py --func NeuralNetworkOneLayer --dims -1 --solver scipy --algo basinhopping --seed 2 --output_dir baseline_results_nn --timeout 300 --nn_file_path nn_models/nn_one_layer_michalewicz_2_16.pt',\n",
       " \"echo 'python run_baseline.py --func NeuralNetworkOneLayer --dims -1 --solver scipy --algo differential_evolution --seed 2 --output_dir baseline_results_nn --timeout 300 --nn_file_path nn_models/nn_one_layer_michalewicz_2_16.pt'\",\n",
       " 'python run_baseline.py --func NeuralNetworkOneLayer --dims -1 --solver scipy --algo differential_evolution --seed 2 --output_dir baseline_results_nn --timeout 300 --nn_file_path nn_models/nn_one_layer_michalewicz_2_16.pt',\n",
       " \"echo 'python run_baseline.py --func NeuralNetworkOneLayer --dims -1 --solver scipy --algo shgo --seed 2 --output_dir baseline_results_nn --timeout 300 --nn_file_path nn_models/nn_one_layer_michalewicz_2_16.pt'\",\n",
       " 'python run_baseline.py --func NeuralNetworkOneLayer --dims -1 --solver scipy --algo shgo --seed 2 --output_dir baseline_results_nn --timeout 300 --nn_file_path nn_models/nn_one_layer_michalewicz_2_16.pt',\n",
       " \"echo 'python run_baseline.py --func NeuralNetworkOneLayer --dims -1 --solver scipy --algo dual_annealing --seed 2 --output_dir baseline_results_nn --timeout 300 --nn_file_path nn_models/nn_one_layer_michalewicz_2_16.pt'\",\n",
       " 'python run_baseline.py --func NeuralNetworkOneLayer --dims -1 --solver scipy --algo dual_annealing --seed 2 --output_dir baseline_results_nn --timeout 300 --nn_file_path nn_models/nn_one_layer_michalewicz_2_16.pt',\n",
       " \"echo 'python run_baseline.py --func NeuralNetworkOneLayer --dims -1 --solver scipy --algo direct --seed 2 --output_dir baseline_results_nn --timeout 300 --nn_file_path nn_models/nn_one_layer_michalewicz_2_16.pt'\",\n",
       " 'python run_baseline.py --func NeuralNetworkOneLayer --dims -1 --solver scipy --algo direct --seed 2 --output_dir baseline_results_nn --timeout 300 --nn_file_path nn_models/nn_one_layer_michalewicz_2_16.pt',\n",
       " \"echo 'python run_baseline.py --func NeuralNetworkOneLayer --dims -1 --solver scipy --algo brute --seed 2 --output_dir baseline_results_nn --timeout 300 --nn_file_path nn_models/nn_one_layer_michalewicz_10_16.pt'\",\n",
       " 'python run_baseline.py --func NeuralNetworkOneLayer --dims -1 --solver scipy --algo brute --seed 2 --output_dir baseline_results_nn --timeout 300 --nn_file_path nn_models/nn_one_layer_michalewicz_10_16.pt',\n",
       " \"echo 'python run_baseline.py --func NeuralNetworkOneLayer --dims -1 --solver scipy --algo basinhopping --seed 2 --output_dir baseline_results_nn --timeout 300 --nn_file_path nn_models/nn_one_layer_michalewicz_10_16.pt'\",\n",
       " 'python run_baseline.py --func NeuralNetworkOneLayer --dims -1 --solver scipy --algo basinhopping --seed 2 --output_dir baseline_results_nn --timeout 300 --nn_file_path nn_models/nn_one_layer_michalewicz_10_16.pt',\n",
       " \"echo 'python run_baseline.py --func NeuralNetworkOneLayer --dims -1 --solver scipy --algo differential_evolution --seed 2 --output_dir baseline_results_nn --timeout 300 --nn_file_path nn_models/nn_one_layer_michalewicz_10_16.pt'\",\n",
       " 'python run_baseline.py --func NeuralNetworkOneLayer --dims -1 --solver scipy --algo differential_evolution --seed 2 --output_dir baseline_results_nn --timeout 300 --nn_file_path nn_models/nn_one_layer_michalewicz_10_16.pt',\n",
       " \"echo 'python run_baseline.py --func NeuralNetworkOneLayer --dims -1 --solver scipy --algo shgo --seed 2 --output_dir baseline_results_nn --timeout 300 --nn_file_path nn_models/nn_one_layer_michalewicz_10_16.pt'\",\n",
       " 'python run_baseline.py --func NeuralNetworkOneLayer --dims -1 --solver scipy --algo shgo --seed 2 --output_dir baseline_results_nn --timeout 300 --nn_file_path nn_models/nn_one_layer_michalewicz_10_16.pt',\n",
       " \"echo 'python run_baseline.py --func NeuralNetworkOneLayer --dims -1 --solver scipy --algo dual_annealing --seed 2 --output_dir baseline_results_nn --timeout 300 --nn_file_path nn_models/nn_one_layer_michalewicz_10_16.pt'\",\n",
       " 'python run_baseline.py --func NeuralNetworkOneLayer --dims -1 --solver scipy --algo dual_annealing --seed 2 --output_dir baseline_results_nn --timeout 300 --nn_file_path nn_models/nn_one_layer_michalewicz_10_16.pt',\n",
       " \"echo 'python run_baseline.py --func NeuralNetworkOneLayer --dims -1 --solver scipy --algo direct --seed 2 --output_dir baseline_results_nn --timeout 300 --nn_file_path nn_models/nn_one_layer_michalewicz_10_16.pt'\",\n",
       " 'python run_baseline.py --func NeuralNetworkOneLayer --dims -1 --solver scipy --algo direct --seed 2 --output_dir baseline_results_nn --timeout 300 --nn_file_path nn_models/nn_one_layer_michalewicz_10_16.pt',\n",
       " \"echo 'python run_baseline.py --func NeuralNetworkOneLayer --dims -1 --solver scipy --algo brute --seed 3 --output_dir baseline_results_nn --timeout 300 --nn_file_path nn_models/nn_one_layer_ackley_2_16.pt'\",\n",
       " 'python run_baseline.py --func NeuralNetworkOneLayer --dims -1 --solver scipy --algo brute --seed 3 --output_dir baseline_results_nn --timeout 300 --nn_file_path nn_models/nn_one_layer_ackley_2_16.pt',\n",
       " \"echo 'python run_baseline.py --func NeuralNetworkOneLayer --dims -1 --solver scipy --algo basinhopping --seed 3 --output_dir baseline_results_nn --timeout 300 --nn_file_path nn_models/nn_one_layer_ackley_2_16.pt'\",\n",
       " 'python run_baseline.py --func NeuralNetworkOneLayer --dims -1 --solver scipy --algo basinhopping --seed 3 --output_dir baseline_results_nn --timeout 300 --nn_file_path nn_models/nn_one_layer_ackley_2_16.pt',\n",
       " \"echo 'python run_baseline.py --func NeuralNetworkOneLayer --dims -1 --solver scipy --algo differential_evolution --seed 3 --output_dir baseline_results_nn --timeout 300 --nn_file_path nn_models/nn_one_layer_ackley_2_16.pt'\",\n",
       " 'python run_baseline.py --func NeuralNetworkOneLayer --dims -1 --solver scipy --algo differential_evolution --seed 3 --output_dir baseline_results_nn --timeout 300 --nn_file_path nn_models/nn_one_layer_ackley_2_16.pt',\n",
       " \"echo 'python run_baseline.py --func NeuralNetworkOneLayer --dims -1 --solver scipy --algo shgo --seed 3 --output_dir baseline_results_nn --timeout 300 --nn_file_path nn_models/nn_one_layer_ackley_2_16.pt'\",\n",
       " 'python run_baseline.py --func NeuralNetworkOneLayer --dims -1 --solver scipy --algo shgo --seed 3 --output_dir baseline_results_nn --timeout 300 --nn_file_path nn_models/nn_one_layer_ackley_2_16.pt',\n",
       " \"echo 'python run_baseline.py --func NeuralNetworkOneLayer --dims -1 --solver scipy --algo dual_annealing --seed 3 --output_dir baseline_results_nn --timeout 300 --nn_file_path nn_models/nn_one_layer_ackley_2_16.pt'\",\n",
       " 'python run_baseline.py --func NeuralNetworkOneLayer --dims -1 --solver scipy --algo dual_annealing --seed 3 --output_dir baseline_results_nn --timeout 300 --nn_file_path nn_models/nn_one_layer_ackley_2_16.pt',\n",
       " \"echo 'python run_baseline.py --func NeuralNetworkOneLayer --dims -1 --solver scipy --algo direct --seed 3 --output_dir baseline_results_nn --timeout 300 --nn_file_path nn_models/nn_one_layer_ackley_2_16.pt'\",\n",
       " 'python run_baseline.py --func NeuralNetworkOneLayer --dims -1 --solver scipy --algo direct --seed 3 --output_dir baseline_results_nn --timeout 300 --nn_file_path nn_models/nn_one_layer_ackley_2_16.pt',\n",
       " \"echo 'python run_baseline.py --func NeuralNetworkOneLayer --dims -1 --solver scipy --algo brute --seed 3 --output_dir baseline_results_nn --timeout 300 --nn_file_path nn_models/nn_one_layer_ackley_10_16.pt'\",\n",
       " 'python run_baseline.py --func NeuralNetworkOneLayer --dims -1 --solver scipy --algo brute --seed 3 --output_dir baseline_results_nn --timeout 300 --nn_file_path nn_models/nn_one_layer_ackley_10_16.pt',\n",
       " \"echo 'python run_baseline.py --func NeuralNetworkOneLayer --dims -1 --solver scipy --algo basinhopping --seed 3 --output_dir baseline_results_nn --timeout 300 --nn_file_path nn_models/nn_one_layer_ackley_10_16.pt'\",\n",
       " 'python run_baseline.py --func NeuralNetworkOneLayer --dims -1 --solver scipy --algo basinhopping --seed 3 --output_dir baseline_results_nn --timeout 300 --nn_file_path nn_models/nn_one_layer_ackley_10_16.pt',\n",
       " \"echo 'python run_baseline.py --func NeuralNetworkOneLayer --dims -1 --solver scipy --algo differential_evolution --seed 3 --output_dir baseline_results_nn --timeout 300 --nn_file_path nn_models/nn_one_layer_ackley_10_16.pt'\",\n",
       " 'python run_baseline.py --func NeuralNetworkOneLayer --dims -1 --solver scipy --algo differential_evolution --seed 3 --output_dir baseline_results_nn --timeout 300 --nn_file_path nn_models/nn_one_layer_ackley_10_16.pt',\n",
       " \"echo 'python run_baseline.py --func NeuralNetworkOneLayer --dims -1 --solver scipy --algo shgo --seed 3 --output_dir baseline_results_nn --timeout 300 --nn_file_path nn_models/nn_one_layer_ackley_10_16.pt'\",\n",
       " 'python run_baseline.py --func NeuralNetworkOneLayer --dims -1 --solver scipy --algo shgo --seed 3 --output_dir baseline_results_nn --timeout 300 --nn_file_path nn_models/nn_one_layer_ackley_10_16.pt',\n",
       " \"echo 'python run_baseline.py --func NeuralNetworkOneLayer --dims -1 --solver scipy --algo dual_annealing --seed 3 --output_dir baseline_results_nn --timeout 300 --nn_file_path nn_models/nn_one_layer_ackley_10_16.pt'\",\n",
       " 'python run_baseline.py --func NeuralNetworkOneLayer --dims -1 --solver scipy --algo dual_annealing --seed 3 --output_dir baseline_results_nn --timeout 300 --nn_file_path nn_models/nn_one_layer_ackley_10_16.pt',\n",
       " \"echo 'python run_baseline.py --func NeuralNetworkOneLayer --dims -1 --solver scipy --algo direct --seed 3 --output_dir baseline_results_nn --timeout 300 --nn_file_path nn_models/nn_one_layer_ackley_10_16.pt'\",\n",
       " 'python run_baseline.py --func NeuralNetworkOneLayer --dims -1 --solver scipy --algo direct --seed 3 --output_dir baseline_results_nn --timeout 300 --nn_file_path nn_models/nn_one_layer_ackley_10_16.pt',\n",
       " \"echo 'python run_baseline.py --func NeuralNetworkOneLayer --dims -1 --solver scipy --algo brute --seed 3 --output_dir baseline_results_nn --timeout 300 --nn_file_path nn_models/nn_one_layer_levy_2_16.pt'\",\n",
       " 'python run_baseline.py --func NeuralNetworkOneLayer --dims -1 --solver scipy --algo brute --seed 3 --output_dir baseline_results_nn --timeout 300 --nn_file_path nn_models/nn_one_layer_levy_2_16.pt',\n",
       " \"echo 'python run_baseline.py --func NeuralNetworkOneLayer --dims -1 --solver scipy --algo basinhopping --seed 3 --output_dir baseline_results_nn --timeout 300 --nn_file_path nn_models/nn_one_layer_levy_2_16.pt'\",\n",
       " 'python run_baseline.py --func NeuralNetworkOneLayer --dims -1 --solver scipy --algo basinhopping --seed 3 --output_dir baseline_results_nn --timeout 300 --nn_file_path nn_models/nn_one_layer_levy_2_16.pt',\n",
       " \"echo 'python run_baseline.py --func NeuralNetworkOneLayer --dims -1 --solver scipy --algo differential_evolution --seed 3 --output_dir baseline_results_nn --timeout 300 --nn_file_path nn_models/nn_one_layer_levy_2_16.pt'\",\n",
       " 'python run_baseline.py --func NeuralNetworkOneLayer --dims -1 --solver scipy --algo differential_evolution --seed 3 --output_dir baseline_results_nn --timeout 300 --nn_file_path nn_models/nn_one_layer_levy_2_16.pt',\n",
       " \"echo 'python run_baseline.py --func NeuralNetworkOneLayer --dims -1 --solver scipy --algo shgo --seed 3 --output_dir baseline_results_nn --timeout 300 --nn_file_path nn_models/nn_one_layer_levy_2_16.pt'\",\n",
       " 'python run_baseline.py --func NeuralNetworkOneLayer --dims -1 --solver scipy --algo shgo --seed 3 --output_dir baseline_results_nn --timeout 300 --nn_file_path nn_models/nn_one_layer_levy_2_16.pt',\n",
       " \"echo 'python run_baseline.py --func NeuralNetworkOneLayer --dims -1 --solver scipy --algo dual_annealing --seed 3 --output_dir baseline_results_nn --timeout 300 --nn_file_path nn_models/nn_one_layer_levy_2_16.pt'\",\n",
       " 'python run_baseline.py --func NeuralNetworkOneLayer --dims -1 --solver scipy --algo dual_annealing --seed 3 --output_dir baseline_results_nn --timeout 300 --nn_file_path nn_models/nn_one_layer_levy_2_16.pt',\n",
       " \"echo 'python run_baseline.py --func NeuralNetworkOneLayer --dims -1 --solver scipy --algo direct --seed 3 --output_dir baseline_results_nn --timeout 300 --nn_file_path nn_models/nn_one_layer_levy_2_16.pt'\",\n",
       " 'python run_baseline.py --func NeuralNetworkOneLayer --dims -1 --solver scipy --algo direct --seed 3 --output_dir baseline_results_nn --timeout 300 --nn_file_path nn_models/nn_one_layer_levy_2_16.pt',\n",
       " \"echo 'python run_baseline.py --func NeuralNetworkOneLayer --dims -1 --solver scipy --algo brute --seed 3 --output_dir baseline_results_nn --timeout 300 --nn_file_path nn_models/nn_one_layer_levy_10_16.pt'\",\n",
       " 'python run_baseline.py --func NeuralNetworkOneLayer --dims -1 --solver scipy --algo brute --seed 3 --output_dir baseline_results_nn --timeout 300 --nn_file_path nn_models/nn_one_layer_levy_10_16.pt',\n",
       " \"echo 'python run_baseline.py --func NeuralNetworkOneLayer --dims -1 --solver scipy --algo basinhopping --seed 3 --output_dir baseline_results_nn --timeout 300 --nn_file_path nn_models/nn_one_layer_levy_10_16.pt'\",\n",
       " 'python run_baseline.py --func NeuralNetworkOneLayer --dims -1 --solver scipy --algo basinhopping --seed 3 --output_dir baseline_results_nn --timeout 300 --nn_file_path nn_models/nn_one_layer_levy_10_16.pt',\n",
       " \"echo 'python run_baseline.py --func NeuralNetworkOneLayer --dims -1 --solver scipy --algo differential_evolution --seed 3 --output_dir baseline_results_nn --timeout 300 --nn_file_path nn_models/nn_one_layer_levy_10_16.pt'\",\n",
       " 'python run_baseline.py --func NeuralNetworkOneLayer --dims -1 --solver scipy --algo differential_evolution --seed 3 --output_dir baseline_results_nn --timeout 300 --nn_file_path nn_models/nn_one_layer_levy_10_16.pt',\n",
       " \"echo 'python run_baseline.py --func NeuralNetworkOneLayer --dims -1 --solver scipy --algo shgo --seed 3 --output_dir baseline_results_nn --timeout 300 --nn_file_path nn_models/nn_one_layer_levy_10_16.pt'\",\n",
       " 'python run_baseline.py --func NeuralNetworkOneLayer --dims -1 --solver scipy --algo shgo --seed 3 --output_dir baseline_results_nn --timeout 300 --nn_file_path nn_models/nn_one_layer_levy_10_16.pt',\n",
       " \"echo 'python run_baseline.py --func NeuralNetworkOneLayer --dims -1 --solver scipy --algo dual_annealing --seed 3 --output_dir baseline_results_nn --timeout 300 --nn_file_path nn_models/nn_one_layer_levy_10_16.pt'\",\n",
       " 'python run_baseline.py --func NeuralNetworkOneLayer --dims -1 --solver scipy --algo dual_annealing --seed 3 --output_dir baseline_results_nn --timeout 300 --nn_file_path nn_models/nn_one_layer_levy_10_16.pt',\n",
       " \"echo 'python run_baseline.py --func NeuralNetworkOneLayer --dims -1 --solver scipy --algo direct --seed 3 --output_dir baseline_results_nn --timeout 300 --nn_file_path nn_models/nn_one_layer_levy_10_16.pt'\",\n",
       " 'python run_baseline.py --func NeuralNetworkOneLayer --dims -1 --solver scipy --algo direct --seed 3 --output_dir baseline_results_nn --timeout 300 --nn_file_path nn_models/nn_one_layer_levy_10_16.pt',\n",
       " \"echo 'python run_baseline.py --func NeuralNetworkOneLayer --dims -1 --solver scipy --algo brute --seed 3 --output_dir baseline_results_nn --timeout 300 --nn_file_path nn_models/nn_one_layer_michalewicz_2_16.pt'\",\n",
       " 'python run_baseline.py --func NeuralNetworkOneLayer --dims -1 --solver scipy --algo brute --seed 3 --output_dir baseline_results_nn --timeout 300 --nn_file_path nn_models/nn_one_layer_michalewicz_2_16.pt',\n",
       " \"echo 'python run_baseline.py --func NeuralNetworkOneLayer --dims -1 --solver scipy --algo basinhopping --seed 3 --output_dir baseline_results_nn --timeout 300 --nn_file_path nn_models/nn_one_layer_michalewicz_2_16.pt'\",\n",
       " 'python run_baseline.py --func NeuralNetworkOneLayer --dims -1 --solver scipy --algo basinhopping --seed 3 --output_dir baseline_results_nn --timeout 300 --nn_file_path nn_models/nn_one_layer_michalewicz_2_16.pt',\n",
       " \"echo 'python run_baseline.py --func NeuralNetworkOneLayer --dims -1 --solver scipy --algo differential_evolution --seed 3 --output_dir baseline_results_nn --timeout 300 --nn_file_path nn_models/nn_one_layer_michalewicz_2_16.pt'\",\n",
       " 'python run_baseline.py --func NeuralNetworkOneLayer --dims -1 --solver scipy --algo differential_evolution --seed 3 --output_dir baseline_results_nn --timeout 300 --nn_file_path nn_models/nn_one_layer_michalewicz_2_16.pt',\n",
       " \"echo 'python run_baseline.py --func NeuralNetworkOneLayer --dims -1 --solver scipy --algo shgo --seed 3 --output_dir baseline_results_nn --timeout 300 --nn_file_path nn_models/nn_one_layer_michalewicz_2_16.pt'\",\n",
       " 'python run_baseline.py --func NeuralNetworkOneLayer --dims -1 --solver scipy --algo shgo --seed 3 --output_dir baseline_results_nn --timeout 300 --nn_file_path nn_models/nn_one_layer_michalewicz_2_16.pt',\n",
       " \"echo 'python run_baseline.py --func NeuralNetworkOneLayer --dims -1 --solver scipy --algo dual_annealing --seed 3 --output_dir baseline_results_nn --timeout 300 --nn_file_path nn_models/nn_one_layer_michalewicz_2_16.pt'\",\n",
       " 'python run_baseline.py --func NeuralNetworkOneLayer --dims -1 --solver scipy --algo dual_annealing --seed 3 --output_dir baseline_results_nn --timeout 300 --nn_file_path nn_models/nn_one_layer_michalewicz_2_16.pt',\n",
       " \"echo 'python run_baseline.py --func NeuralNetworkOneLayer --dims -1 --solver scipy --algo direct --seed 3 --output_dir baseline_results_nn --timeout 300 --nn_file_path nn_models/nn_one_layer_michalewicz_2_16.pt'\",\n",
       " 'python run_baseline.py --func NeuralNetworkOneLayer --dims -1 --solver scipy --algo direct --seed 3 --output_dir baseline_results_nn --timeout 300 --nn_file_path nn_models/nn_one_layer_michalewicz_2_16.pt',\n",
       " \"echo 'python run_baseline.py --func NeuralNetworkOneLayer --dims -1 --solver scipy --algo brute --seed 3 --output_dir baseline_results_nn --timeout 300 --nn_file_path nn_models/nn_one_layer_michalewicz_10_16.pt'\",\n",
       " 'python run_baseline.py --func NeuralNetworkOneLayer --dims -1 --solver scipy --algo brute --seed 3 --output_dir baseline_results_nn --timeout 300 --nn_file_path nn_models/nn_one_layer_michalewicz_10_16.pt',\n",
       " \"echo 'python run_baseline.py --func NeuralNetworkOneLayer --dims -1 --solver scipy --algo basinhopping --seed 3 --output_dir baseline_results_nn --timeout 300 --nn_file_path nn_models/nn_one_layer_michalewicz_10_16.pt'\",\n",
       " 'python run_baseline.py --func NeuralNetworkOneLayer --dims -1 --solver scipy --algo basinhopping --seed 3 --output_dir baseline_results_nn --timeout 300 --nn_file_path nn_models/nn_one_layer_michalewicz_10_16.pt',\n",
       " \"echo 'python run_baseline.py --func NeuralNetworkOneLayer --dims -1 --solver scipy --algo differential_evolution --seed 3 --output_dir baseline_results_nn --timeout 300 --nn_file_path nn_models/nn_one_layer_michalewicz_10_16.pt'\",\n",
       " 'python run_baseline.py --func NeuralNetworkOneLayer --dims -1 --solver scipy --algo differential_evolution --seed 3 --output_dir baseline_results_nn --timeout 300 --nn_file_path nn_models/nn_one_layer_michalewicz_10_16.pt',\n",
       " \"echo 'python run_baseline.py --func NeuralNetworkOneLayer --dims -1 --solver scipy --algo shgo --seed 3 --output_dir baseline_results_nn --timeout 300 --nn_file_path nn_models/nn_one_layer_michalewicz_10_16.pt'\",\n",
       " 'python run_baseline.py --func NeuralNetworkOneLayer --dims -1 --solver scipy --algo shgo --seed 3 --output_dir baseline_results_nn --timeout 300 --nn_file_path nn_models/nn_one_layer_michalewicz_10_16.pt',\n",
       " \"echo 'python run_baseline.py --func NeuralNetworkOneLayer --dims -1 --solver scipy --algo dual_annealing --seed 3 --output_dir baseline_results_nn --timeout 300 --nn_file_path nn_models/nn_one_layer_michalewicz_10_16.pt'\",\n",
       " 'python run_baseline.py --func NeuralNetworkOneLayer --dims -1 --solver scipy --algo dual_annealing --seed 3 --output_dir baseline_results_nn --timeout 300 --nn_file_path nn_models/nn_one_layer_michalewicz_10_16.pt',\n",
       " \"echo 'python run_baseline.py --func NeuralNetworkOneLayer --dims -1 --solver scipy --algo direct --seed 3 --output_dir baseline_results_nn --timeout 300 --nn_file_path nn_models/nn_one_layer_michalewicz_10_16.pt'\",\n",
       " 'python run_baseline.py --func NeuralNetworkOneLayer --dims -1 --solver scipy --algo direct --seed 3 --output_dir baseline_results_nn --timeout 300 --nn_file_path nn_models/nn_one_layer_michalewicz_10_16.pt',\n",
       " \"echo 'python run_baseline.py --func NeuralNetworkOneLayer --dims -1 --solver scipy --algo brute --seed 4 --output_dir baseline_results_nn --timeout 300 --nn_file_path nn_models/nn_one_layer_ackley_2_16.pt'\",\n",
       " 'python run_baseline.py --func NeuralNetworkOneLayer --dims -1 --solver scipy --algo brute --seed 4 --output_dir baseline_results_nn --timeout 300 --nn_file_path nn_models/nn_one_layer_ackley_2_16.pt',\n",
       " \"echo 'python run_baseline.py --func NeuralNetworkOneLayer --dims -1 --solver scipy --algo basinhopping --seed 4 --output_dir baseline_results_nn --timeout 300 --nn_file_path nn_models/nn_one_layer_ackley_2_16.pt'\",\n",
       " 'python run_baseline.py --func NeuralNetworkOneLayer --dims -1 --solver scipy --algo basinhopping --seed 4 --output_dir baseline_results_nn --timeout 300 --nn_file_path nn_models/nn_one_layer_ackley_2_16.pt',\n",
       " \"echo 'python run_baseline.py --func NeuralNetworkOneLayer --dims -1 --solver scipy --algo differential_evolution --seed 4 --output_dir baseline_results_nn --timeout 300 --nn_file_path nn_models/nn_one_layer_ackley_2_16.pt'\",\n",
       " 'python run_baseline.py --func NeuralNetworkOneLayer --dims -1 --solver scipy --algo differential_evolution --seed 4 --output_dir baseline_results_nn --timeout 300 --nn_file_path nn_models/nn_one_layer_ackley_2_16.pt',\n",
       " \"echo 'python run_baseline.py --func NeuralNetworkOneLayer --dims -1 --solver scipy --algo shgo --seed 4 --output_dir baseline_results_nn --timeout 300 --nn_file_path nn_models/nn_one_layer_ackley_2_16.pt'\",\n",
       " 'python run_baseline.py --func NeuralNetworkOneLayer --dims -1 --solver scipy --algo shgo --seed 4 --output_dir baseline_results_nn --timeout 300 --nn_file_path nn_models/nn_one_layer_ackley_2_16.pt',\n",
       " \"echo 'python run_baseline.py --func NeuralNetworkOneLayer --dims -1 --solver scipy --algo dual_annealing --seed 4 --output_dir baseline_results_nn --timeout 300 --nn_file_path nn_models/nn_one_layer_ackley_2_16.pt'\",\n",
       " 'python run_baseline.py --func NeuralNetworkOneLayer --dims -1 --solver scipy --algo dual_annealing --seed 4 --output_dir baseline_results_nn --timeout 300 --nn_file_path nn_models/nn_one_layer_ackley_2_16.pt',\n",
       " \"echo 'python run_baseline.py --func NeuralNetworkOneLayer --dims -1 --solver scipy --algo direct --seed 4 --output_dir baseline_results_nn --timeout 300 --nn_file_path nn_models/nn_one_layer_ackley_2_16.pt'\",\n",
       " 'python run_baseline.py --func NeuralNetworkOneLayer --dims -1 --solver scipy --algo direct --seed 4 --output_dir baseline_results_nn --timeout 300 --nn_file_path nn_models/nn_one_layer_ackley_2_16.pt',\n",
       " \"echo 'python run_baseline.py --func NeuralNetworkOneLayer --dims -1 --solver scipy --algo brute --seed 4 --output_dir baseline_results_nn --timeout 300 --nn_file_path nn_models/nn_one_layer_ackley_10_16.pt'\",\n",
       " 'python run_baseline.py --func NeuralNetworkOneLayer --dims -1 --solver scipy --algo brute --seed 4 --output_dir baseline_results_nn --timeout 300 --nn_file_path nn_models/nn_one_layer_ackley_10_16.pt',\n",
       " \"echo 'python run_baseline.py --func NeuralNetworkOneLayer --dims -1 --solver scipy --algo basinhopping --seed 4 --output_dir baseline_results_nn --timeout 300 --nn_file_path nn_models/nn_one_layer_ackley_10_16.pt'\",\n",
       " 'python run_baseline.py --func NeuralNetworkOneLayer --dims -1 --solver scipy --algo basinhopping --seed 4 --output_dir baseline_results_nn --timeout 300 --nn_file_path nn_models/nn_one_layer_ackley_10_16.pt',\n",
       " \"echo 'python run_baseline.py --func NeuralNetworkOneLayer --dims -1 --solver scipy --algo differential_evolution --seed 4 --output_dir baseline_results_nn --timeout 300 --nn_file_path nn_models/nn_one_layer_ackley_10_16.pt'\",\n",
       " 'python run_baseline.py --func NeuralNetworkOneLayer --dims -1 --solver scipy --algo differential_evolution --seed 4 --output_dir baseline_results_nn --timeout 300 --nn_file_path nn_models/nn_one_layer_ackley_10_16.pt',\n",
       " \"echo 'python run_baseline.py --func NeuralNetworkOneLayer --dims -1 --solver scipy --algo shgo --seed 4 --output_dir baseline_results_nn --timeout 300 --nn_file_path nn_models/nn_one_layer_ackley_10_16.pt'\",\n",
       " 'python run_baseline.py --func NeuralNetworkOneLayer --dims -1 --solver scipy --algo shgo --seed 4 --output_dir baseline_results_nn --timeout 300 --nn_file_path nn_models/nn_one_layer_ackley_10_16.pt',\n",
       " \"echo 'python run_baseline.py --func NeuralNetworkOneLayer --dims -1 --solver scipy --algo dual_annealing --seed 4 --output_dir baseline_results_nn --timeout 300 --nn_file_path nn_models/nn_one_layer_ackley_10_16.pt'\",\n",
       " 'python run_baseline.py --func NeuralNetworkOneLayer --dims -1 --solver scipy --algo dual_annealing --seed 4 --output_dir baseline_results_nn --timeout 300 --nn_file_path nn_models/nn_one_layer_ackley_10_16.pt',\n",
       " \"echo 'python run_baseline.py --func NeuralNetworkOneLayer --dims -1 --solver scipy --algo direct --seed 4 --output_dir baseline_results_nn --timeout 300 --nn_file_path nn_models/nn_one_layer_ackley_10_16.pt'\",\n",
       " 'python run_baseline.py --func NeuralNetworkOneLayer --dims -1 --solver scipy --algo direct --seed 4 --output_dir baseline_results_nn --timeout 300 --nn_file_path nn_models/nn_one_layer_ackley_10_16.pt',\n",
       " \"echo 'python run_baseline.py --func NeuralNetworkOneLayer --dims -1 --solver scipy --algo brute --seed 4 --output_dir baseline_results_nn --timeout 300 --nn_file_path nn_models/nn_one_layer_levy_2_16.pt'\",\n",
       " 'python run_baseline.py --func NeuralNetworkOneLayer --dims -1 --solver scipy --algo brute --seed 4 --output_dir baseline_results_nn --timeout 300 --nn_file_path nn_models/nn_one_layer_levy_2_16.pt',\n",
       " \"echo 'python run_baseline.py --func NeuralNetworkOneLayer --dims -1 --solver scipy --algo basinhopping --seed 4 --output_dir baseline_results_nn --timeout 300 --nn_file_path nn_models/nn_one_layer_levy_2_16.pt'\",\n",
       " 'python run_baseline.py --func NeuralNetworkOneLayer --dims -1 --solver scipy --algo basinhopping --seed 4 --output_dir baseline_results_nn --timeout 300 --nn_file_path nn_models/nn_one_layer_levy_2_16.pt',\n",
       " \"echo 'python run_baseline.py --func NeuralNetworkOneLayer --dims -1 --solver scipy --algo differential_evolution --seed 4 --output_dir baseline_results_nn --timeout 300 --nn_file_path nn_models/nn_one_layer_levy_2_16.pt'\",\n",
       " 'python run_baseline.py --func NeuralNetworkOneLayer --dims -1 --solver scipy --algo differential_evolution --seed 4 --output_dir baseline_results_nn --timeout 300 --nn_file_path nn_models/nn_one_layer_levy_2_16.pt',\n",
       " \"echo 'python run_baseline.py --func NeuralNetworkOneLayer --dims -1 --solver scipy --algo shgo --seed 4 --output_dir baseline_results_nn --timeout 300 --nn_file_path nn_models/nn_one_layer_levy_2_16.pt'\",\n",
       " 'python run_baseline.py --func NeuralNetworkOneLayer --dims -1 --solver scipy --algo shgo --seed 4 --output_dir baseline_results_nn --timeout 300 --nn_file_path nn_models/nn_one_layer_levy_2_16.pt',\n",
       " \"echo 'python run_baseline.py --func NeuralNetworkOneLayer --dims -1 --solver scipy --algo dual_annealing --seed 4 --output_dir baseline_results_nn --timeout 300 --nn_file_path nn_models/nn_one_layer_levy_2_16.pt'\",\n",
       " 'python run_baseline.py --func NeuralNetworkOneLayer --dims -1 --solver scipy --algo dual_annealing --seed 4 --output_dir baseline_results_nn --timeout 300 --nn_file_path nn_models/nn_one_layer_levy_2_16.pt',\n",
       " \"echo 'python run_baseline.py --func NeuralNetworkOneLayer --dims -1 --solver scipy --algo direct --seed 4 --output_dir baseline_results_nn --timeout 300 --nn_file_path nn_models/nn_one_layer_levy_2_16.pt'\",\n",
       " 'python run_baseline.py --func NeuralNetworkOneLayer --dims -1 --solver scipy --algo direct --seed 4 --output_dir baseline_results_nn --timeout 300 --nn_file_path nn_models/nn_one_layer_levy_2_16.pt',\n",
       " \"echo 'python run_baseline.py --func NeuralNetworkOneLayer --dims -1 --solver scipy --algo brute --seed 4 --output_dir baseline_results_nn --timeout 300 --nn_file_path nn_models/nn_one_layer_levy_10_16.pt'\",\n",
       " 'python run_baseline.py --func NeuralNetworkOneLayer --dims -1 --solver scipy --algo brute --seed 4 --output_dir baseline_results_nn --timeout 300 --nn_file_path nn_models/nn_one_layer_levy_10_16.pt',\n",
       " \"echo 'python run_baseline.py --func NeuralNetworkOneLayer --dims -1 --solver scipy --algo basinhopping --seed 4 --output_dir baseline_results_nn --timeout 300 --nn_file_path nn_models/nn_one_layer_levy_10_16.pt'\",\n",
       " 'python run_baseline.py --func NeuralNetworkOneLayer --dims -1 --solver scipy --algo basinhopping --seed 4 --output_dir baseline_results_nn --timeout 300 --nn_file_path nn_models/nn_one_layer_levy_10_16.pt',\n",
       " \"echo 'python run_baseline.py --func NeuralNetworkOneLayer --dims -1 --solver scipy --algo differential_evolution --seed 4 --output_dir baseline_results_nn --timeout 300 --nn_file_path nn_models/nn_one_layer_levy_10_16.pt'\",\n",
       " 'python run_baseline.py --func NeuralNetworkOneLayer --dims -1 --solver scipy --algo differential_evolution --seed 4 --output_dir baseline_results_nn --timeout 300 --nn_file_path nn_models/nn_one_layer_levy_10_16.pt',\n",
       " \"echo 'python run_baseline.py --func NeuralNetworkOneLayer --dims -1 --solver scipy --algo shgo --seed 4 --output_dir baseline_results_nn --timeout 300 --nn_file_path nn_models/nn_one_layer_levy_10_16.pt'\",\n",
       " 'python run_baseline.py --func NeuralNetworkOneLayer --dims -1 --solver scipy --algo shgo --seed 4 --output_dir baseline_results_nn --timeout 300 --nn_file_path nn_models/nn_one_layer_levy_10_16.pt',\n",
       " \"echo 'python run_baseline.py --func NeuralNetworkOneLayer --dims -1 --solver scipy --algo dual_annealing --seed 4 --output_dir baseline_results_nn --timeout 300 --nn_file_path nn_models/nn_one_layer_levy_10_16.pt'\",\n",
       " 'python run_baseline.py --func NeuralNetworkOneLayer --dims -1 --solver scipy --algo dual_annealing --seed 4 --output_dir baseline_results_nn --timeout 300 --nn_file_path nn_models/nn_one_layer_levy_10_16.pt',\n",
       " \"echo 'python run_baseline.py --func NeuralNetworkOneLayer --dims -1 --solver scipy --algo direct --seed 4 --output_dir baseline_results_nn --timeout 300 --nn_file_path nn_models/nn_one_layer_levy_10_16.pt'\",\n",
       " 'python run_baseline.py --func NeuralNetworkOneLayer --dims -1 --solver scipy --algo direct --seed 4 --output_dir baseline_results_nn --timeout 300 --nn_file_path nn_models/nn_one_layer_levy_10_16.pt',\n",
       " \"echo 'python run_baseline.py --func NeuralNetworkOneLayer --dims -1 --solver scipy --algo brute --seed 4 --output_dir baseline_results_nn --timeout 300 --nn_file_path nn_models/nn_one_layer_michalewicz_2_16.pt'\",\n",
       " 'python run_baseline.py --func NeuralNetworkOneLayer --dims -1 --solver scipy --algo brute --seed 4 --output_dir baseline_results_nn --timeout 300 --nn_file_path nn_models/nn_one_layer_michalewicz_2_16.pt',\n",
       " \"echo 'python run_baseline.py --func NeuralNetworkOneLayer --dims -1 --solver scipy --algo basinhopping --seed 4 --output_dir baseline_results_nn --timeout 300 --nn_file_path nn_models/nn_one_layer_michalewicz_2_16.pt'\",\n",
       " 'python run_baseline.py --func NeuralNetworkOneLayer --dims -1 --solver scipy --algo basinhopping --seed 4 --output_dir baseline_results_nn --timeout 300 --nn_file_path nn_models/nn_one_layer_michalewicz_2_16.pt',\n",
       " \"echo 'python run_baseline.py --func NeuralNetworkOneLayer --dims -1 --solver scipy --algo differential_evolution --seed 4 --output_dir baseline_results_nn --timeout 300 --nn_file_path nn_models/nn_one_layer_michalewicz_2_16.pt'\",\n",
       " 'python run_baseline.py --func NeuralNetworkOneLayer --dims -1 --solver scipy --algo differential_evolution --seed 4 --output_dir baseline_results_nn --timeout 300 --nn_file_path nn_models/nn_one_layer_michalewicz_2_16.pt',\n",
       " \"echo 'python run_baseline.py --func NeuralNetworkOneLayer --dims -1 --solver scipy --algo shgo --seed 4 --output_dir baseline_results_nn --timeout 300 --nn_file_path nn_models/nn_one_layer_michalewicz_2_16.pt'\",\n",
       " 'python run_baseline.py --func NeuralNetworkOneLayer --dims -1 --solver scipy --algo shgo --seed 4 --output_dir baseline_results_nn --timeout 300 --nn_file_path nn_models/nn_one_layer_michalewicz_2_16.pt',\n",
       " \"echo 'python run_baseline.py --func NeuralNetworkOneLayer --dims -1 --solver scipy --algo dual_annealing --seed 4 --output_dir baseline_results_nn --timeout 300 --nn_file_path nn_models/nn_one_layer_michalewicz_2_16.pt'\",\n",
       " 'python run_baseline.py --func NeuralNetworkOneLayer --dims -1 --solver scipy --algo dual_annealing --seed 4 --output_dir baseline_results_nn --timeout 300 --nn_file_path nn_models/nn_one_layer_michalewicz_2_16.pt',\n",
       " \"echo 'python run_baseline.py --func NeuralNetworkOneLayer --dims -1 --solver scipy --algo direct --seed 4 --output_dir baseline_results_nn --timeout 300 --nn_file_path nn_models/nn_one_layer_michalewicz_2_16.pt'\",\n",
       " 'python run_baseline.py --func NeuralNetworkOneLayer --dims -1 --solver scipy --algo direct --seed 4 --output_dir baseline_results_nn --timeout 300 --nn_file_path nn_models/nn_one_layer_michalewicz_2_16.pt',\n",
       " \"echo 'python run_baseline.py --func NeuralNetworkOneLayer --dims -1 --solver scipy --algo brute --seed 4 --output_dir baseline_results_nn --timeout 300 --nn_file_path nn_models/nn_one_layer_michalewicz_10_16.pt'\",\n",
       " 'python run_baseline.py --func NeuralNetworkOneLayer --dims -1 --solver scipy --algo brute --seed 4 --output_dir baseline_results_nn --timeout 300 --nn_file_path nn_models/nn_one_layer_michalewicz_10_16.pt',\n",
       " \"echo 'python run_baseline.py --func NeuralNetworkOneLayer --dims -1 --solver scipy --algo basinhopping --seed 4 --output_dir baseline_results_nn --timeout 300 --nn_file_path nn_models/nn_one_layer_michalewicz_10_16.pt'\",\n",
       " 'python run_baseline.py --func NeuralNetworkOneLayer --dims -1 --solver scipy --algo basinhopping --seed 4 --output_dir baseline_results_nn --timeout 300 --nn_file_path nn_models/nn_one_layer_michalewicz_10_16.pt',\n",
       " \"echo 'python run_baseline.py --func NeuralNetworkOneLayer --dims -1 --solver scipy --algo differential_evolution --seed 4 --output_dir baseline_results_nn --timeout 300 --nn_file_path nn_models/nn_one_layer_michalewicz_10_16.pt'\",\n",
       " 'python run_baseline.py --func NeuralNetworkOneLayer --dims -1 --solver scipy --algo differential_evolution --seed 4 --output_dir baseline_results_nn --timeout 300 --nn_file_path nn_models/nn_one_layer_michalewicz_10_16.pt',\n",
       " \"echo 'python run_baseline.py --func NeuralNetworkOneLayer --dims -1 --solver scipy --algo shgo --seed 4 --output_dir baseline_results_nn --timeout 300 --nn_file_path nn_models/nn_one_layer_michalewicz_10_16.pt'\",\n",
       " 'python run_baseline.py --func NeuralNetworkOneLayer --dims -1 --solver scipy --algo shgo --seed 4 --output_dir baseline_results_nn --timeout 300 --nn_file_path nn_models/nn_one_layer_michalewicz_10_16.pt',\n",
       " \"echo 'python run_baseline.py --func NeuralNetworkOneLayer --dims -1 --solver scipy --algo dual_annealing --seed 4 --output_dir baseline_results_nn --timeout 300 --nn_file_path nn_models/nn_one_layer_michalewicz_10_16.pt'\",\n",
       " 'python run_baseline.py --func NeuralNetworkOneLayer --dims -1 --solver scipy --algo dual_annealing --seed 4 --output_dir baseline_results_nn --timeout 300 --nn_file_path nn_models/nn_one_layer_michalewicz_10_16.pt',\n",
       " \"echo 'python run_baseline.py --func NeuralNetworkOneLayer --dims -1 --solver scipy --algo direct --seed 4 --output_dir baseline_results_nn --timeout 300 --nn_file_path nn_models/nn_one_layer_michalewicz_10_16.pt'\",\n",
       " 'python run_baseline.py --func NeuralNetworkOneLayer --dims -1 --solver scipy --algo direct --seed 4 --output_dir baseline_results_nn --timeout 300 --nn_file_path nn_models/nn_one_layer_michalewicz_10_16.pt']"
      ]
     },
     "execution_count": 11,
     "metadata": {},
     "output_type": "execute_result"
    }
   ],
   "source": [
    "commands"
   ]
  },
  {
   "cell_type": "code",
   "execution_count": 12,
   "metadata": {},
   "outputs": [],
   "source": [
    "with open(\"baseline_commands_nn.txt\", \"w\") as f:\n",
    "    for command in commands:\n",
    "        f.write(f\"{command}\\n\")"
   ]
  },
  {
   "cell_type": "code",
   "execution_count": null,
   "metadata": {},
   "outputs": [],
   "source": []
  },
  {
   "cell_type": "code",
   "execution_count": null,
   "metadata": {},
   "outputs": [],
   "source": []
  },
  {
   "cell_type": "code",
   "execution_count": 14,
   "metadata": {},
   "outputs": [],
   "source": [
    "funcs = [\"Levy\", \"Ackley\", \"Michalewicz\"]\n",
    "dims = [200]\n",
    "solver = [\"scipy\", \"gurobi\"]\n",
    "algos = [\"brute\", \"basinhopping\", \"differential_evolution\", \"shgo\", \"dual_annealing\", \"direct\"]\n",
    "seeds = [0, 1, 2, 3, 4]\n",
    "timeout = 300"
   ]
  },
  {
   "cell_type": "code",
   "execution_count": 15,
   "metadata": {},
   "outputs": [],
   "source": [
    "instances = []\n",
    "\n",
    "for func in funcs:\n",
    "    for dim in dims:\n",
    "        for s in solver:\n",
    "            for seed in seeds:\n",
    "                if s == \"gurobi\":\n",
    "                    instance = {\n",
    "                        \"func\": func,\n",
    "                        \"dims\": dim,\n",
    "                        \"solver\": s,\n",
    "                        \"algo\": \"none\",\n",
    "                        \"seed\": seed,\n",
    "                    }\n",
    "                    instances.append(instance)\n",
    "                else:\n",
    "                    for algo in algos:\n",
    "                        instance = {\n",
    "                            \"func\": func,\n",
    "                            \"dims\": dim,\n",
    "                            \"solver\": s,\n",
    "                            \"algo\": algo,\n",
    "                            \"seed\": seed,\n",
    "                        }\n",
    "                        instances.append(instance)"
   ]
  },
  {
   "cell_type": "code",
   "execution_count": 17,
   "metadata": {},
   "outputs": [],
   "source": [
    "commands = generate_commands_from_instances(instances, output_dir=\"baseline_results_200_dims/\", timeout=timeout)"
   ]
  },
  {
   "cell_type": "code",
   "execution_count": 19,
   "metadata": {},
   "outputs": [
    {
     "data": {
      "text/plain": [
       "210"
      ]
     },
     "execution_count": 19,
     "metadata": {},
     "output_type": "execute_result"
    }
   ],
   "source": [
    "len(commands)"
   ]
  },
  {
   "cell_type": "code",
   "execution_count": 20,
   "metadata": {},
   "outputs": [],
   "source": [
    "with open(\"baseline_commands_200_dims.txt\", \"w\") as f:\n",
    "    for command in commands:\n",
    "        f.write(f\"{command}\\n\")"
   ]
  },
  {
   "cell_type": "code",
   "execution_count": null,
   "metadata": {},
   "outputs": [],
   "source": [
    " "
   ]
  },
  {
   "cell_type": "code",
   "execution_count": 23,
   "metadata": {},
   "outputs": [],
   "source": [
    "funcs = [\"Levy\"]\n",
    "dims = [200, 100, 50, 10]\n",
    "solver = [\"scipy\", \"gurobi\"]\n",
    "algos = [\"brute\", \"basinhopping\", \"differential_evolution\", \"shgo\", \"dual_annealing\", \"direct\"]\n",
    "seeds = [0, 1, 2, 3, 4]\n",
    "timeout = 7200"
   ]
  },
  {
   "cell_type": "code",
   "execution_count": 24,
   "metadata": {},
   "outputs": [],
   "source": [
    "instances = []\n",
    "\n",
    "for func in funcs:\n",
    "    for dim in dims:\n",
    "        for s in solver:\n",
    "            for seed in seeds:\n",
    "                if s == \"gurobi\":\n",
    "                    instance = {\n",
    "                        \"func\": func,\n",
    "                        \"dims\": dim,\n",
    "                        \"solver\": s,\n",
    "                        \"algo\": \"none\",\n",
    "                        \"seed\": seed,\n",
    "                    }\n",
    "                    instances.append(instance)\n",
    "                else:\n",
    "                    for algo in algos:\n",
    "                        instance = {\n",
    "                            \"func\": func,\n",
    "                            \"dims\": dim,\n",
    "                            \"solver\": s,\n",
    "                            \"algo\": algo,\n",
    "                            \"seed\": seed,\n",
    "                        }\n",
    "                        instances.append(instance)"
   ]
  },
  {
   "cell_type": "code",
   "execution_count": 25,
   "metadata": {},
   "outputs": [],
   "source": [
    "commands = generate_commands_from_instances(instances, output_dir=\"baseline_results_Levy_7200_to/\", timeout=timeout)"
   ]
  },
  {
   "cell_type": "code",
   "execution_count": 26,
   "metadata": {},
   "outputs": [
    {
     "data": {
      "text/plain": [
       "280"
      ]
     },
     "execution_count": 26,
     "metadata": {},
     "output_type": "execute_result"
    }
   ],
   "source": [
    "len(commands)"
   ]
  },
  {
   "cell_type": "code",
   "execution_count": 28,
   "metadata": {},
   "outputs": [],
   "source": [
    "with open(\"baseline_commands_Levy_7200_to.txt\", \"w\") as f:\n",
    "    for command in commands:\n",
    "        f.write(f\"{command}\\n\")"
   ]
  },
  {
   "cell_type": "code",
   "execution_count": null,
   "metadata": {},
   "outputs": [],
   "source": []
  },
  {
   "cell_type": "code",
   "execution_count": null,
   "metadata": {},
   "outputs": [],
   "source": []
  },
  {
   "cell_type": "code",
   "execution_count": null,
   "metadata": {},
   "outputs": [],
   "source": []
  },
  {
   "cell_type": "code",
   "execution_count": null,
   "metadata": {},
   "outputs": [],
   "source": []
  },
  {
   "cell_type": "code",
   "execution_count": 2,
   "metadata": {},
   "outputs": [],
   "source": [
    "# Running"
   ]
  },
  {
   "cell_type": "code",
   "execution_count": 3,
   "metadata": {},
   "outputs": [],
   "source": [
    "funcs = [\"Levy\", \"Ackley\", \"Michalewicz\"]\n",
    "dims = [200, 100, 50, 10]\n",
    "solver = [\"scipy\", \"gurobi\"]\n",
    "algos = [\"brute\", \"basinhopping\", \"differential_evolution\", \"shgo\", \"dual_annealing\", \"direct\"]\n",
    "seeds = [0, 1, 2, 3, 4]\n",
    "displacement = -0.61\n",
    "# timeout: shgo: 600; others; 7200s"
   ]
  },
  {
   "cell_type": "code",
   "execution_count": 4,
   "metadata": {},
   "outputs": [],
   "source": [
    "instances = []\n",
    "\n",
    "for func in funcs:\n",
    "    for dim in dims:\n",
    "        for s in solver:\n",
    "            for seed in seeds:\n",
    "                if s == \"gurobi\":\n",
    "                    instance = {\n",
    "                        \"func\": func,\n",
    "                        \"dims\": dim,\n",
    "                        \"solver\": s,\n",
    "                        \"algo\": \"none\",\n",
    "                        \"seed\": seed,\n",
    "                    }\n",
    "                    instances.append(instance)\n",
    "                else:\n",
    "                    for algo in algos:\n",
    "                        instance = {\n",
    "                            \"func\": func,\n",
    "                            \"dims\": dim,\n",
    "                            \"solver\": s,\n",
    "                            \"algo\": algo,\n",
    "                            \"seed\": seed,\n",
    "                        }\n",
    "                        instances.append(instance)"
   ]
  },
  {
   "cell_type": "code",
   "execution_count": 5,
   "metadata": {},
   "outputs": [],
   "source": [
    "def generate_commands_with_displacement(instances, output_dir, displacement):\n",
    "    # timeout: shgo: 600; others; 7200s\n",
    "    commands = []\n",
    "    for instance in instances:\n",
    "        command = f\"python run_baseline.py\"\n",
    "        command += f\" --func {instance['func']}\"\n",
    "        command += f\" --dims {instance['dims']}\"\n",
    "        command += f\" --solver {instance['solver']}\"\n",
    "        command += f\" --algo {instance['algo']}\"\n",
    "        command += f\" --seed {instance['seed']}\"\n",
    "        command += f\" --output_dir {output_dir}\"\n",
    "        command += f\" --displacement {displacement}\"\n",
    "        \n",
    "        timeout = 7200\n",
    "        if instance['algo'] == 'shgo':\n",
    "            timeout = 600\n",
    "        \n",
    "        command += f\" --timeout {timeout}\"\n",
    "        \n",
    "        commands.append(\"echo '{}'\".format(command))\n",
    "        commands.append(command)\n",
    "\n",
    "    return commands"
   ]
  },
  {
   "cell_type": "code",
   "execution_count": 6,
   "metadata": {},
   "outputs": [],
   "source": [
    "commands = generate_commands_with_displacement(instances, \"/projects/mcmm/running_zhizhen_exps/baseline_results_displacement/\", displacement)"
   ]
  },
  {
   "cell_type": "code",
   "execution_count": 7,
   "metadata": {},
   "outputs": [
    {
     "data": {
      "text/plain": [
       "840"
      ]
     },
     "execution_count": 7,
     "metadata": {},
     "output_type": "execute_result"
    }
   ],
   "source": [
    "len(commands)"
   ]
  },
  {
   "cell_type": "code",
   "execution_count": 8,
   "metadata": {},
   "outputs": [],
   "source": [
    "with open(\"baseline_commands_displacement_root_dir.txt\", \"w\") as f:\n",
    "    for command in commands:\n",
    "        f.write(f\"{command}\\n\")"
   ]
  },
  {
   "cell_type": "code",
   "execution_count": null,
   "metadata": {},
   "outputs": [],
   "source": []
  }
 ],
 "metadata": {
  "kernelspec": {
   "display_name": "Python 3 (ipykernel)",
   "language": "python",
   "name": "python3"
  },
  "language_info": {
   "codemirror_mode": {
    "name": "ipython",
    "version": 3
   },
   "file_extension": ".py",
   "mimetype": "text/x-python",
   "name": "python",
   "nbconvert_exporter": "python",
   "pygments_lexer": "ipython3",
   "version": "3.9.7"
  },
  "vscode": {
   "interpreter": {
    "hash": "fbd37cf217121239668a87088fc3d7f533eed94506378b52ef87fd8f7f532ae0"
   }
  }
 },
 "nbformat": 4,
 "nbformat_minor": 2
}
