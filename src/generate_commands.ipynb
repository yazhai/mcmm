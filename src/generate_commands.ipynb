{
 "cells": [
  {
   "cell_type": "code",
   "execution_count": 1,
   "metadata": {},
   "outputs": [],
   "source": [
    "# Example instance\n",
    "instance = {\n",
    "    \"func\": \"Levy\",\n",
    "    \"dims\": 10,\n",
    "    \"solver\": \"gurobi\",\n",
    "    \"algo\": None,\n",
    "    \"seed\": 0,\n",
    "}"
   ]
  },
  {
   "cell_type": "code",
   "execution_count": null,
   "metadata": {},
   "outputs": [],
   "source": []
  },
  {
   "cell_type": "code",
   "execution_count": 2,
   "metadata": {},
   "outputs": [],
   "source": [
    "def generate_commands_from_instances(instances, output_dir=\"baseline_results/\", timeout=300):\n",
    "    commands = []\n",
    "    for instance in instances:\n",
    "        command = f\"python run_baseline.py --func {instance['func']} --dims {instance['dims']} --solver {instance['solver']} --algo {instance['algo']} --seed {instance['seed']} --output_dir {output_dir} --timeout {timeout}\"\n",
    "        commands.append(\"echo '{}'\".format(command))\n",
    "        commands.append(command)\n",
    "\n",
    "    return commands"
   ]
  },
  {
   "cell_type": "code",
   "execution_count": 3,
   "metadata": {},
   "outputs": [],
   "source": [
    "# Already ran baseline for these instances"
   ]
  },
  {
   "cell_type": "code",
   "execution_count": 4,
   "metadata": {},
   "outputs": [],
   "source": [
    "funcs = [\"Levy\", \"Ackley\", \"Michalewicz\"]\n",
    "dims = [10]\n",
    "solver = [\"scipy\", \"gurobi\"]\n",
    "algos = [\"brute\", \"basinhopping\", \"differential_evolution\", \"shgo\", \"dual_annealing\", \"direct\"]\n",
    "seeds = [0]\n",
    "timeout = 300"
   ]
  },
  {
   "cell_type": "code",
   "execution_count": 5,
   "metadata": {},
   "outputs": [],
   "source": [
    "instances = []\n",
    "\n",
    "for func in funcs:\n",
    "    for dim in dims:\n",
    "        for s in solver:\n",
    "            for seed in seeds:\n",
    "                if s == \"gurobi\":\n",
    "                    instance = {\n",
    "                        \"func\": func,\n",
    "                        \"dims\": dim,\n",
    "                        \"solver\": s,\n",
    "                        \"algo\": \"none\",\n",
    "                        \"seed\": seed,\n",
    "                    }\n",
    "                    instances.append(instance)\n",
    "                else:\n",
    "                    for algo in algos:\n",
    "                        instance = {\n",
    "                            \"func\": func,\n",
    "                            \"dims\": dim,\n",
    "                            \"solver\": s,\n",
    "                            \"algo\": algo,\n",
    "                            \"seed\": seed,\n",
    "                        }\n",
    "                        instances.append(instance)"
   ]
  },
  {
   "cell_type": "code",
   "execution_count": 6,
   "metadata": {},
   "outputs": [],
   "source": [
    "commands = generate_commands_from_instances(instances, output_dir=\"baseline_results_10_dims/\", timeout=timeout)"
   ]
  },
  {
   "cell_type": "code",
   "execution_count": 7,
   "metadata": {},
   "outputs": [],
   "source": [
    "with open(\"baseline_commands_10_dims.txt\", \"w\") as f:\n",
    "    for command in commands:\n",
    "        f.write(f\"{command}\\n\")"
   ]
  },
  {
   "cell_type": "code",
   "execution_count": 13,
   "metadata": {},
   "outputs": [],
   "source": [
    "# Running baseline for these instances"
   ]
  },
  {
   "cell_type": "code",
   "execution_count": 9,
   "metadata": {},
   "outputs": [],
   "source": [
    "funcs = [\"Levy\", \"Ackley\", \"Michalewicz\"]\n",
    "dims = [50]\n",
    "solver = [\"scipy\", \"gurobi\"]\n",
    "algos = [\"brute\", \"basinhopping\", \"differential_evolution\", \"shgo\", \"dual_annealing\", \"direct\"]\n",
    "seeds = [0]\n",
    "timeout = 300"
   ]
  },
  {
   "cell_type": "code",
   "execution_count": 10,
   "metadata": {},
   "outputs": [],
   "source": [
    "instances = []\n",
    "\n",
    "for func in funcs:\n",
    "    for dim in dims:\n",
    "        for s in solver:\n",
    "            for seed in seeds:\n",
    "                if s == \"gurobi\":\n",
    "                    instance = {\n",
    "                        \"func\": func,\n",
    "                        \"dims\": dim,\n",
    "                        \"solver\": s,\n",
    "                        \"algo\": \"none\",\n",
    "                        \"seed\": seed,\n",
    "                    }\n",
    "                    instances.append(instance)\n",
    "                else:\n",
    "                    for algo in algos:\n",
    "                        instance = {\n",
    "                            \"func\": func,\n",
    "                            \"dims\": dim,\n",
    "                            \"solver\": s,\n",
    "                            \"algo\": algo,\n",
    "                            \"seed\": seed,\n",
    "                        }\n",
    "                        instances.append(instance)"
   ]
  },
  {
   "cell_type": "code",
   "execution_count": 11,
   "metadata": {},
   "outputs": [],
   "source": [
    "commands = generate_commands_from_instances(instances, output_dir=\"baseline_results_50_dims/\", timeout=timeout)"
   ]
  },
  {
   "cell_type": "code",
   "execution_count": 12,
   "metadata": {},
   "outputs": [],
   "source": [
    "with open(\"baseline_commands_50_dims.txt\", \"w\") as f:\n",
    "    for command in commands:\n",
    "        f.write(f\"{command}\\n\")"
   ]
  }
 ],
 "metadata": {
  "kernelspec": {
   "display_name": "mcmm",
   "language": "python",
   "name": "python3"
  },
  "language_info": {
   "codemirror_mode": {
    "name": "ipython",
    "version": 3
   },
   "file_extension": ".py",
   "mimetype": "text/x-python",
   "name": "python",
   "nbconvert_exporter": "python",
   "pygments_lexer": "ipython3",
   "version": "3.9.16"
  },
  "orig_nbformat": 4,
  "vscode": {
   "interpreter": {
    "hash": "fbd37cf217121239668a87088fc3d7f533eed94506378b52ef87fd8f7f532ae0"
   }
  }
 },
 "nbformat": 4,
 "nbformat_minor": 2
}
