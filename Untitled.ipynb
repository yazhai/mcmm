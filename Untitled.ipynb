{
 "cells": [
  {
   "cell_type": "code",
   "execution_count": 1,
   "id": "4592191d",
   "metadata": {},
   "outputs": [],
   "source": [
    "from src.mciv import MCIV"
   ]
  },
  {
   "cell_type": "code",
   "execution_count": 51,
   "id": "b7050444",
   "metadata": {},
   "outputs": [],
   "source": [
    "from src.test_functions import Ackley, Levy, Michalewicz"
   ]
  },
  {
   "cell_type": "code",
   "execution_count": 41,
   "id": "b52492cd",
   "metadata": {},
   "outputs": [],
   "source": [
    "import os\n",
    "os.environ[\"XLA_PYTHON_CLIENT_MEM_FRACTION\"] = \".20\""
   ]
  },
  {
   "cell_type": "code",
   "execution_count": null,
   "id": "64c1f216",
   "metadata": {},
   "outputs": [],
   "source": []
  },
  {
   "cell_type": "code",
   "execution_count": 38,
   "id": "2557ef5d",
   "metadata": {},
   "outputs": [],
   "source": [
    "dimension = 2"
   ]
  },
  {
   "cell_type": "code",
   "execution_count": 52,
   "id": "6303b2bc",
   "metadata": {},
   "outputs": [],
   "source": [
    "# func = Ackley(dims=dimension)\n",
    "# func = Levy(dims=dimension)\n",
    "func = Michalewicz(dims=dimension)\n",
    "bounds = func.get_default_domain()\n",
    "lb = bounds[:, 0]\n",
    "ub = bounds[:, 1]\n",
    "\n",
    "func_vars, func_expr = func.expression()"
   ]
  },
  {
   "cell_type": "code",
   "execution_count": 53,
   "id": "f85c0bf4",
   "metadata": {},
   "outputs": [],
   "source": [
    "mciv = MCIV(func, lb, ub, function_variables=func_vars, function_expression=func_expr)"
   ]
  },
  {
   "cell_type": "code",
   "execution_count": 61,
   "id": "8ed1d3ba",
   "metadata": {},
   "outputs": [
    {
     "data": {
      "text/plain": [
       "array([0., 0.])"
      ]
     },
     "execution_count": 61,
     "metadata": {},
     "output_type": "execute_result"
    }
   ],
   "source": [
    "lb"
   ]
  },
  {
   "cell_type": "code",
   "execution_count": 62,
   "id": "7143e202",
   "metadata": {},
   "outputs": [
    {
     "data": {
      "text/plain": [
       "array([3.14159265, 3.14159265])"
      ]
     },
     "execution_count": 62,
     "metadata": {},
     "output_type": "execute_result"
    }
   ],
   "source": [
    "ub"
   ]
  },
  {
   "cell_type": "code",
   "execution_count": 73,
   "id": "e9a1a012",
   "metadata": {},
   "outputs": [
    {
     "data": {
      "text/plain": [
       "Array(-0., dtype=float32)"
      ]
     },
     "execution_count": 73,
     "metadata": {},
     "output_type": "execute_result"
    }
   ],
   "source": [
    "func(np.array([3.14159265, 3.14159265]))"
   ]
  },
  {
   "cell_type": "code",
   "execution_count": null,
   "id": "8f7f77c6",
   "metadata": {},
   "outputs": [],
   "source": []
  },
  {
   "cell_type": "code",
   "execution_count": null,
   "id": "8f413423",
   "metadata": {},
   "outputs": [],
   "source": []
  },
  {
   "cell_type": "code",
   "execution_count": 79,
   "id": "4ce78c00",
   "metadata": {},
   "outputs": [
    {
     "name": "stdout",
     "output_type": "stream",
     "text": [
      "[0.50921005 0.89903766] -5.43991404811095e-07\n",
      "-5.439914e-07\n",
      "[0.77454627 0.88664782] -3.245261268602917e-07\n",
      "-3.2452613e-07\n",
      "[0.96458769 0.97578377] -1.0746607586042956e-05\n",
      "-1.0746608e-05\n",
      "[0.2020393  0.94724566] -3.6978992739022942e-06\n",
      "-3.6978993e-06\n",
      "[0.78710818 0.83267111] -3.0319188937255603e-08\n",
      "-3.031919e-08\n",
      "[0.62357557 0.93522471] -2.3244831481861183e-06\n",
      "-2.3244831e-06\n",
      "[0.2020393  0.94725978] -3.6998937957832823e-06\n",
      "-3.6998938e-06\n"
     ]
    }
   ],
   "source": [
    "for child in mciv.root.children:\n",
    "    print(child.X, child.y)\n",
    "    print(func(child.X))"
   ]
  },
  {
   "cell_type": "code",
   "execution_count": null,
   "id": "01b9935a",
   "metadata": {},
   "outputs": [],
   "source": []
  },
  {
   "cell_type": "code",
   "execution_count": 67,
   "id": "d88d2271",
   "metadata": {},
   "outputs": [
    {
     "data": {
      "text/plain": [
       "{'root': [array([0., 0.]), array([3.14159265, 3.14159265])],\n",
       " 'root_1': [array([0., 0.]), array([0.110972  , 3.14159265])],\n",
       " 'root_2': [array([0.3306125, 0.       ]), array([0.60373843, 3.14159265])],\n",
       " 'root_3': [array([0.82656843, 0.        ]), array([3.14159265, 3.14159265])],\n",
       " 'root_4': [array([0.110972, 0.      ]), array([0.20203929, 3.14159265])],\n",
       " 'root_5': [array([0.60373843, 0.        ]), array([0.82656843, 3.14159265])],\n",
       " 'root_6': [array([0.20203929, 0.        ]), array([0.2020393 , 3.14159265])],\n",
       " 'root_7': [array([0.2020393, 0.       ]), array([0.3306125 , 3.14159265])],\n",
       " 'root_3_1': [array([0.82656843, 0.        ]),\n",
       "  array([0.82656843, 3.14159265])],\n",
       " 'root_3_2': [array([0.82656843, 0.        ]),\n",
       "  array([0.82656843, 3.14159265])],\n",
       " 'root_3_3': [array([0.90820253, 0.        ]),\n",
       "  array([1.00481496, 3.14159265])],\n",
       " 'root_3_4': [array([0.82656843, 0.        ]),\n",
       "  array([0.82656843, 3.14159265])],\n",
       " 'root_3_5': [array([0.82656843, 0.        ]),\n",
       "  array([0.90820253, 3.14159265])],\n",
       " 'root_3_6': [array([1.00481496, 0.        ]),\n",
       "  array([1.01979334, 3.14159265])],\n",
       " 'root_3_7': [array([1.01979334, 0.        ]),\n",
       "  array([3.14159265, 3.14159265])]}"
      ]
     },
     "execution_count": 67,
     "metadata": {},
     "output_type": "execute_result"
    }
   ],
   "source": [
    "mciv.node_bounds"
   ]
  },
  {
   "cell_type": "code",
   "execution_count": 54,
   "id": "cc8c75a8",
   "metadata": {},
   "outputs": [
    {
     "name": "stdout",
     "output_type": "stream",
     "text": [
      "Creating root node ...\n",
      "After creating child nodes for root, best point: -0.0000   [0.20203929 0.9472315 ]\n",
      "New node root_6 by optimizing with global Hessian and neighbor gradient: -0.0000  [0.20203929 0.90947096]\n",
      "New node root_7 by optimizing with local Hessian and local gradient: -0.0000  [0.2020393  0.94724566]\n",
      "  Best found value until iteration 0 is: -0.0000 \n",
      "\n",
      "Running iteration: 1 ...\n",
      "\n",
      "  Selected node: root_7\n",
      "After creating child nodes for root_7, best point: -0.0000   [0.2020393  0.94724566]\n",
      "New node root_7_6 by optimizing with global Hessian and neighbor gradient: -0.0000  [0.20203931 0.91936455]\n",
      "New node root_7_7 by optimizing with local Hessian and local gradient: -0.0000  [0.2020393  0.94725978]\n",
      "  Best found point in node root_7 is: -0.0000 , [0.2020393  0.94725978]\n",
      "  Best found value until iteration 1 is: -0.0000 \n",
      "\n",
      "Running iteration: 2 ...\n",
      "\n",
      "  Selected node: root_4\n",
      "After creating child nodes for root_4, best point: -0.0000   [0.20203929 0.9472315 ]\n",
      "New node root_4_6 by optimizing with global Hessian and neighbor gradient: -0.0000  [0.20203929 0.94572662]\n",
      "New node root_4_7 by optimizing with local Hessian and local gradient: -0.0000  [0.2020393  0.94724566]\n",
      "  Best found point in node root_4 is: -0.0000 , [0.2020393  0.94724566]\n",
      "  Best found value until iteration 2 is: -0.0000 \n",
      "\n",
      "Running iteration: 3 ...\n",
      "\n",
      "  Selected node: root_6\n",
      "After creating child nodes for root_6, best point: -0.0000   [0.62357553 0.93521564]\n",
      "New node root_6_6 by optimizing with global Hessian and neighbor gradient: -0.0000  [0.6235913  0.91439526]\n",
      "New node root_6_7 by optimizing with local Hessian and local gradient: -0.0000  [0.62357557 0.93522471]\n",
      "  Best found point in node root_6 is: -0.0000 , [0.62357557 0.93522471]\n",
      "  Best found value until iteration 3 is: -0.0000 \n",
      "\n",
      "Running iteration: 4 ...\n",
      "\n",
      "  Selected node: root_3\n",
      "After creating child nodes for root_3, best point: -0.0000   [0.98983662 0.8509094 ]\n",
      "New node root_3_6 by optimizing with global Hessian and neighbor gradient: -0.0000  [1.0197933  0.88297311]\n",
      "New node root_3_7 by optimizing with local Hessian and local gradient: -0.0000  [1.01979339 0.88297433]\n",
      "  Best found point in node root_3 is: -0.0000 , [1.01979339 0.88297433]\n",
      "  Best found value until iteration 4 is: -0.0000 \n",
      "\n",
      "Running iteration: 5 ...\n",
      "\n",
      "  Selected node: root_2\n",
      "After creating child nodes for root_2, best point: -0.0000   [0.77454624 0.88664643]\n",
      "New node root_2_6 by optimizing with global Hessian and neighbor gradient: -0.0000  [0.7785925  0.82980634]\n",
      "New node root_2_7 by optimizing with local Hessian and local gradient: -0.0000  [0.77454627 0.88664782]\n",
      "  Best found point in node root_2 is: -0.0000 , [0.77454627 0.88664782]\n",
      "  Best found value until iteration 5 is: -0.0000 \n",
      "\n",
      "Running iteration: 6 ...\n",
      "\n",
      "  Selected node: root_5\n",
      "After creating child nodes for root_5, best point: -0.0000   [0.78553299 0.82659266]\n",
      "New node root_5_6 by optimizing with global Hessian and neighbor gradient: -0.0000  [0.78710817 0.83267093]\n",
      "New node root_5_7 by optimizing with local Hessian and local gradient: -0.0000  [0.78710818 0.83267111]\n",
      "  Best found point in node root_5 is: -0.0000 , [0.78710818 0.83267111]\n",
      "  Best found value until iteration 6 is: -0.0000 \n",
      "\n",
      "Running iteration: 7 ...\n",
      "\n",
      "  Selected node: root_1\n",
      "After creating child nodes for root_1, best point: -0.0000   [0.50920999 0.89528882]\n",
      "New node root_1_6 by optimizing with global Hessian and neighbor gradient: -0.0000  [0.50921004 0.89903537]\n",
      "New node root_1_7 by optimizing with local Hessian and local gradient: -0.0000  [0.50921005 0.89903766]\n",
      "  Best found point in node root_1 is: -0.0000 , [0.50921005 0.89903766]\n",
      "  Best found value until iteration 7 is: -0.0000 \n",
      "\n",
      "Running iteration: 8 ...\n",
      "\n",
      "  Selected node: root_3_7\n",
      "After creating child nodes for root_3_7, best point: -0.0000   [0.093593   0.93520828]\n",
      "New node root_3_7_6 by optimizing with global Hessian and neighbor gradient: -0.0000  [0.093593   0.91965361]\n",
      "New node root_3_7_7 by optimizing with local Hessian and local gradient: nan  [       nan 0.93521738]\n",
      "  Best found point in node root_3_7 is: -0.0000 , [0.093593   0.93520828]\n",
      "  Best found value until iteration 8 is: -0.0000 \n",
      "\n",
      "Running iteration: 9 ...\n",
      "\n",
      "  Selected node: root_3_6\n",
      "After creating child nodes for root_3_6, best point: -0.0000   [0.11631386 0.94196107]\n",
      "New node root_3_6_6 by optimizing with global Hessian and neighbor gradient: -0.0000  [0.11631386 0.94648869]\n",
      "New node root_3_6_7 by optimizing with local Hessian and local gradient: -0.0000  [0.11631386 0.94650251]\n",
      "  Best found point in node root_3_6 is: -0.0000 , [0.11631386 0.94650251]\n",
      "  Best found value until iteration 9 is: -0.0000 \n",
      "\n",
      "Running iteration: 10 ...\n",
      "\n",
      "  Selected node: root_3_3\n",
      "After creating child nodes for root_3_3, best point: -0.0000   [0.95482721 0.9192019 ]\n",
      "New node root_3_3_6 by optimizing with global Hessian and neighbor gradient: -0.0000  [0.96458769 0.97574451]\n",
      "New node root_3_3_7 by optimizing with local Hessian and local gradient: -0.0000  [0.96458769 0.97578377]\n",
      "  Best found point in node root_3_3 is: -0.0000 , [0.96458769 0.97578377]\n",
      "  Best found value until iteration 10 is: -0.0000 \n",
      "\n"
     ]
    },
    {
     "data": {
      "text/plain": [
       "-1.0746607586042956e-05"
      ]
     },
     "execution_count": 54,
     "metadata": {},
     "output_type": "execute_result"
    }
   ],
   "source": [
    "mciv.optimize(verbose=2)"
   ]
  },
  {
   "cell_type": "code",
   "execution_count": null,
   "id": "458f9ded",
   "metadata": {},
   "outputs": [],
   "source": []
  },
  {
   "cell_type": "code",
   "execution_count": 57,
   "id": "01302aef",
   "metadata": {},
   "outputs": [],
   "source": [
    "y, x = np.meshgrid(np.linspace(lb[0], ub[0], 100), np.linspace(lb[1], ub[1], 100))\n",
    "\n",
    "z = np.zeros_like(x)\n",
    "for coord_1 in range(x.shape[0]):\n",
    "    for coord_2 in range(x.shape[1]):\n",
    "        func_in = np.array([x[coord_1][coord_2], y[coord_1][coord_2]])\n",
    "        z[coord_1][coord_2] = func(func_in).item()"
   ]
  },
  {
   "cell_type": "code",
   "execution_count": 58,
   "id": "6ef63cff",
   "metadata": {},
   "outputs": [
    {
     "data": {
      "image/png": "[encoded data removed]",
      "text/plain": [
       "<Figure size 640x480 with 2 Axes>"
      ]
     },
     "metadata": {},
     "output_type": "display_data"
    }
   ],
   "source": [
    "# x and y are bounds, so z should be the value *inside* those bounds.\n",
    "# Therefore, remove the last value from the z array.\n",
    "# z = z[:-1, :-1]\n",
    "z_min, z_max = z.min(), z.max()\n",
    "\n",
    "fig, ax = plt.subplots()\n",
    "\n",
    "c = ax.pcolormesh(x, y, z, cmap='RdBu', vmin=z_min, vmax=z_max)\n",
    "ax.set_title('pcolormesh')\n",
    "# set the limits of the plot to the limits of the data\n",
    "ax.axis([x.min(), x.max(), y.min(), y.max()])\n",
    "\n",
    "ax.scatter(mciv.history[:, 1], mciv.history[:, 2])\n",
    "\n",
    "fig.colorbar(c, ax=ax)\n",
    "\n",
    "plt.show()"
   ]
  },
  {
   "cell_type": "code",
   "execution_count": 60,
   "id": "439cd570",
   "metadata": {},
   "outputs": [
    {
     "data": {
      "text/plain": [
       "<matplotlib.collections.PathCollection at 0x7fc0002edf40>"
      ]
     },
     "execution_count": 60,
     "metadata": {},
     "output_type": "execute_result"
    },
    {
     "data": {
      "image/png": "[encoded data removed]",
      "text/plain": [
       "<Figure size 640x480 with 1 Axes>"
      ]
     },
     "metadata": {},
     "output_type": "display_data"
    }
   ],
   "source": [
    "plt.scatter(mciv.history[:, 1], mciv.history[:, 2])"
   ]
  },
  {
   "cell_type": "code",
   "execution_count": null,
   "id": "e0b751a4",
   "metadata": {},
   "outputs": [],
   "source": []
  }
 ],
 "metadata": {
  "kernelspec": {
   "display_name": "Python [conda env:mcmm]",
   "language": "python",
   "name": "conda-env-mcmm-py"
  },
  "language_info": {
   "codemirror_mode": {
    "name": "ipython",
    "version": 3
   },
   "file_extension": ".py",
   "mimetype": "text/x-python",
   "name": "python",
   "nbconvert_exporter": "python",
   "pygments_lexer": "ipython3",
   "version": "3.9.16"
  }
 },
 "nbformat": 4,
 "nbformat_minor": 5
}
