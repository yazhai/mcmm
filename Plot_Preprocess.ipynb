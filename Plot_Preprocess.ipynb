{
 "cells": [
  {
   "cell_type": "code",
   "execution_count": 1,
   "id": "f79dd3ea",
   "metadata": {},
   "outputs": [],
   "source": [
    "import numpy as np\n",
    "import os\n",
    "import shutil"
   ]
  },
  {
   "cell_type": "code",
   "execution_count": 2,
   "id": "2b91f5ba",
   "metadata": {},
   "outputs": [],
   "source": [
    "destination_dir = \"/projects/mcmm/results_final/\""
   ]
  },
  {
   "cell_type": "code",
   "execution_count": 3,
   "id": "9ac696c8",
   "metadata": {},
   "outputs": [],
   "source": [
    "# mcir may 16"
   ]
  },
  {
   "cell_type": "code",
   "execution_count": 4,
   "id": "88dfb484",
   "metadata": {},
   "outputs": [],
   "source": [
    "mcir_dir = \"/projects/mcmm/syn_lownodeexp/\""
   ]
  },
  {
   "cell_type": "code",
   "execution_count": 5,
   "id": "7cf471b7",
   "metadata": {},
   "outputs": [],
   "source": [
    "config_copied = []\n",
    "\n",
    "for filename in os.listdir(mcir_dir):\n",
    "    if not filename.endswith(\".npy\"):\n",
    "        continue\n",
    "    \n",
    "    src = os.path.join(mcir_dir, filename)\n",
    "    \n",
    "    splitted_fn = filename.split(\"_\")\n",
    "    splitted_fn.insert(2, \"mcir\")\n",
    "    splitted_fn[1] = splitted_fn[1][:-1]\n",
    "    target_filename = \"_\".join(splitted_fn)\n",
    "    dst = os.path.join(destination_dir, target_filename)\n",
    "    \n",
    "    config_copied.append((splitted_fn[0].lower(), int(splitted_fn[1])))\n",
    "    \n",
    "    shutil.copy2(src, dst)"
   ]
  },
  {
   "cell_type": "code",
   "execution_count": 6,
   "id": "6c57bbd6",
   "metadata": {},
   "outputs": [],
   "source": [
    "# mcir may 14"
   ]
  },
  {
   "cell_type": "code",
   "execution_count": 7,
   "id": "7fb68646",
   "metadata": {},
   "outputs": [],
   "source": [
    "mcir_dirs = [\n",
    "    \"/projects/mcmm/benchmark_2023-05-13/Michalewicz_May12/\",\n",
    "    \"/projects/mcmm/benchmark_2023-05-13/Levy_May12/\",\n",
    "    \"/projects/mcmm/benchmark_2023-05-13/Ackley_May12/\",\n",
    "    \"/projects/mcmm/benchmark_2023-05-13/nlp/\",\n",
    "]"
   ]
  },
  {
   "cell_type": "code",
   "execution_count": 8,
   "id": "f363ff11",
   "metadata": {},
   "outputs": [
    {
     "name": "stdout",
     "output_type": "stream",
     "text": [
      "Processing /projects/mcmm/benchmark_2023-05-13/Michalewicz_May12/\n",
      "Processing /projects/mcmm/benchmark_2023-05-13/Levy_May12/\n",
      "Processing /projects/mcmm/benchmark_2023-05-13/Ackley_May12/\n",
      "Processing /projects/mcmm/benchmark_2023-05-13/nlp/\n"
     ]
    }
   ],
   "source": [
    "for mcir_dir in mcir_dirs:\n",
    "    print(\"Processing {}\".format(mcir_dir))\n",
    "    for filename in os.listdir(mcir_dir):\n",
    "        if not filename.endswith(\".npy\"):\n",
    "            continue\n",
    "        \n",
    "        filename_no_appendix = filename.strip(\".npy\")\n",
    "        filename_splitted = filename_no_appendix.split(\"_\")\n",
    "        func = filename_splitted[0]\n",
    "        dim = int(filename_splitted[1][:-1])\n",
    "        config = (func.lower(), dim)\n",
    "        if config in config_copied:\n",
    "            continue\n",
    "        \n",
    "        target_filename_list = [func, str(dim), \"mcir\", *filename_splitted[2:], \"Y\"]\n",
    "        target_filename = \"_\".join(target_filename_list) + \".npy\"\n",
    "        \n",
    "        records_Y = np.load(os.path.join(mcir_dir, filename))[:, 0]\n",
    "        np.save(os.path.join(destination_dir, target_filename), records_Y)"
   ]
  },
  {
   "cell_type": "code",
   "execution_count": null,
   "id": "d2283dab",
   "metadata": {},
   "outputs": [],
   "source": []
  },
  {
   "cell_type": "code",
   "execution_count": null,
   "id": "b2222124",
   "metadata": {},
   "outputs": [],
   "source": []
  },
  {
   "cell_type": "code",
   "execution_count": 9,
   "id": "4e380c20",
   "metadata": {},
   "outputs": [],
   "source": [
    "# baselines"
   ]
  },
  {
   "cell_type": "code",
   "execution_count": 10,
   "id": "8f1e2303",
   "metadata": {},
   "outputs": [],
   "source": [
    "baseline_dir_1 = \"/projects/mcmm/running_zhizhen_exps/baseline_results_displacement/record\"\n",
    "baseline_dir_2 = \"/projects/mcmm/running_zhizhen_exps/baseline_results_displacement_more_iterations/record\""
   ]
  },
  {
   "cell_type": "code",
   "execution_count": 11,
   "id": "b4aa389a",
   "metadata": {},
   "outputs": [],
   "source": [
    "result_files_1 = [fn for fn in os.listdir(baseline_dir_1) if fn.endswith(\"Y.npy\")]\n",
    "result_files_2 = [fn for fn in os.listdir(baseline_dir_2) if fn.endswith(\"Y.npy\")]"
   ]
  },
  {
   "cell_type": "code",
   "execution_count": 12,
   "id": "a3cdb451",
   "metadata": {},
   "outputs": [],
   "source": [
    "files_in_both = []\n",
    "\n",
    "for file_1 in result_files_1:\n",
    "    if file_1 not in result_files_2:\n",
    "        shutil.copy2(\n",
    "            os.path.join(baseline_dir_1, file_1),\n",
    "            os.path.join(destination_dir, file_1)\n",
    "        )\n",
    "    else:\n",
    "        files_in_both.append(file_1)\n",
    "    \n",
    "for file_2 in result_files_2:\n",
    "    if file_2 not in result_files_1:\n",
    "        shutil.copy2(\n",
    "            os.path.join(baseline_dir_2, file_2),\n",
    "            os.path.join(destination_dir, file_2)\n",
    "        )"
   ]
  },
  {
   "cell_type": "code",
   "execution_count": 13,
   "id": "f9119eb0",
   "metadata": {},
   "outputs": [],
   "source": [
    "for file in files_in_both:\n",
    "    path_1 = os.path.join(baseline_dir_1, file)\n",
    "    path_2 = os.path.join(baseline_dir_2, file)\n",
    "    \n",
    "    array_1 = np.load(path_1)\n",
    "    array_2 = np.load(path_2)\n",
    "    \n",
    "    assert len(array_1.shape) == 1 and len(array_2.shape) == 1\n",
    "    \n",
    "    if len(array_1) > len(array_2):\n",
    "        src = path_1\n",
    "    else:\n",
    "        src = path_2\n",
    "    \n",
    "    dst = os.path.join(destination_dir, file)\n",
    "    \n",
    "    shutil.copy2(src, dst)"
   ]
  },
  {
   "cell_type": "code",
   "execution_count": null,
   "id": "0d1af9d9",
   "metadata": {},
   "outputs": [],
   "source": []
  },
  {
   "cell_type": "code",
   "execution_count": 14,
   "id": "0f4d170f",
   "metadata": {},
   "outputs": [],
   "source": [
    "# nlp baselines"
   ]
  },
  {
   "cell_type": "code",
   "execution_count": 15,
   "id": "f656fc1c",
   "metadata": {},
   "outputs": [],
   "source": [
    "baseline_dir_nlp = \"/projects/mcmm/baselines_nlp/record/\""
   ]
  },
  {
   "cell_type": "code",
   "execution_count": 16,
   "id": "7ded8bd5",
   "metadata": {},
   "outputs": [],
   "source": [
    "result_files = [fn for fn in os.listdir(baseline_dir_nlp) if fn.endswith(\"Y.npy\")]"
   ]
  },
  {
   "cell_type": "code",
   "execution_count": 18,
   "id": "aed0dda0",
   "metadata": {},
   "outputs": [],
   "source": [
    "for file in result_files:\n",
    "    shutil.copy2(\n",
    "        os.path.join(baseline_dir_nlp, file),\n",
    "        os.path.join(destination_dir, file)\n",
    "    )"
   ]
  }
 ],
 "metadata": {
  "kernelspec": {
   "display_name": "Python [conda env:mciv]",
   "language": "python",
   "name": "conda-env-mciv-py"
  },
  "language_info": {
   "codemirror_mode": {
    "name": "ipython",
    "version": 3
   },
   "file_extension": ".py",
   "mimetype": "text/x-python",
   "name": "python",
   "nbconvert_exporter": "python",
   "pygments_lexer": "ipython3",
   "version": "3.9.16"
  }
 },
 "nbformat": 4,
 "nbformat_minor": 5
}
