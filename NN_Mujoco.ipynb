{
 "cells": [
  {
   "cell_type": "code",
   "execution_count": 1,
   "id": "7e281e19-93fe-4dce-83ed-d3d27e4bfc33",
   "metadata": {},
   "outputs": [],
   "source": [
    "import os\n",
    "import random\n",
    "\n",
    "import numpy as np\n",
    "import torch\n",
    "from src.test_functions import NeuralNetworkOneLayer\n",
    "from tqdm.notebook import tqdm\n",
    "\n",
    "os.environ[\"XLA_PYTHON_CLIENT_MEM_FRACTION\"] = \".80\"\n",
    "\n",
    "import pickle"
   ]
  },
  {
   "cell_type": "markdown",
   "id": "a06939f9-2661-4ee2-ba90-9cf6e8354040",
   "metadata": {},
   "source": [
    "# Sample Data"
   ]
  },
  {
   "cell_type": "code",
   "execution_count": 21,
   "id": "6b067ed6-3095-4767-aff3-5ad688690330",
   "metadata": {},
   "outputs": [],
   "source": [
    "# # Read data\n",
    "# sample_file = \"./InvertedDoublePendulum-v4_samples200000.pkl\"\n",
    "# save_name = \"InvertedDoublePendulum-v4\"\n",
    "# # Reward: 6.5 ~ 9.5, Err: 0.05\n",
    "\n",
    "# sample_file = \"./HalfCheetah-v4_samples2000000.pkl\"\n",
    "# save_name = \"HalfCheetah-v4\"\n",
    "# # Reward: -56 ~ 1.28  , Err: 50\n",
    "\n",
    "sample_file = \"./Swimmer-v4_samples2000000.pkl\"\n",
    "save_name = \"Swimmer-v4\"\n",
    "# # Reward: -3.5 ~ 3.5, Err: 0.3\n",
    "\n",
    "# sample_file = \"Hopper-v4_samples2000000.pkl\"\n",
    "# save_name = \"Hopper-v4\"\n",
    "# Reward: -1.8746137439401072 , 3.90962180717704, Err: 0.21\n",
    "\n",
    "\n",
    "\n",
    "with open(sample_file, \"rb\") as fp:\n",
    "    sample_dict = pickle.load(fp)\n",
    "\n",
    "observations = sample_dict[\"observation\"]\n",
    "actions = sample_dict[\"actions\"]\n",
    "rewards = sample_dict[\"rewards\"]"
   ]
  },
  {
   "cell_type": "code",
   "execution_count": 22,
   "id": "b1228b46-7e6b-4afd-892c-5bf7b9e10d01",
   "metadata": {},
   "outputs": [],
   "source": [
    "# Function to scale the values into bounds\n",
    "BOUND = 9.9999\n",
    "\n",
    "\n",
    "def scale_to_bounds(lb, ub, bound):\n",
    "    scale = bound / np.maximum(np.abs(lb), np.abs(ub))\n",
    "    return scale"
   ]
  },
  {
   "cell_type": "code",
   "execution_count": null,
   "id": "1679c670-d91f-425d-a5b8-f16ebafe6b99",
   "metadata": {},
   "outputs": [],
   "source": [
    "# Scale the observations/actions to uniform bounds\n",
    "lb, ub = np.min(actions), np.max(actions)\n",
    "print(f\"Bounds for actions are: lb = {lb}, ub = {ub}\")\n",
    "\n",
    "\n",
    "lb, ub = np.min(observations), np.max(observations)\n",
    "print(f\"Bounds for observations are: lb = {lb}, ub = {ub}\")\n",
    "scale = scale_to_bounds(lb, ub, BOUND)\n",
    "observations *= scale\n",
    "lb, ub = np.min(observations), np.max(observations)\n",
    "print(f\"Bounds after scaling are: lb = {lb}, ub = {ub}\")"
   ]
  },
  {
   "cell_type": "code",
   "execution_count": 24,
   "id": "82b8ab7e-eaa2-4d20-b226-cf69fc080233",
   "metadata": {},
   "outputs": [
    {
     "name": "stdout",
     "output_type": "stream",
     "text": [
      "Collected samples are in the shape of:  (2000000, 10) (2000000,)\n",
      "Rewards range: -3.7211230267490145 , 3.4389165232368497\n"
     ]
    }
   ],
   "source": [
    "# Create sample array\n",
    "xs = np.hstack((actions, observations))\n",
    "ys = -rewards\n",
    "\n",
    "print(\"Collected samples are in the shape of: \", xs.shape, ys.shape)\n",
    "print(f\"Rewards range: {np.min(rewards)} , {np.max(rewards)}\")"
   ]
  },
  {
   "cell_type": "code",
   "execution_count": null,
   "id": "30e483f0-c036-4a4b-a3e9-e7914fb85372",
   "metadata": {},
   "outputs": [],
   "source": []
  },
  {
   "cell_type": "markdown",
   "id": "73927ece-8450-4d25-b8c2-015344894ebe",
   "metadata": {},
   "source": [
    "# Neural Network"
   ]
  },
  {
   "cell_type": "code",
   "execution_count": 25,
   "id": "8012568e-d1af-467d-b410-1ad37b38cbb2",
   "metadata": {},
   "outputs": [],
   "source": [
    "# Define variables\n",
    "hidden_dims = 16\n",
    "num_epochs = 100\n",
    "batch_size = 1000\n",
    "learning_rate = 0.0001\n",
    "use_device = \"cuda:0\"  # \"cuda:0\" or \"cpu\""
   ]
  },
  {
   "cell_type": "code",
   "execution_count": 26,
   "id": "2746814a-f92a-40bd-bee5-9cc1f05951ac",
   "metadata": {},
   "outputs": [],
   "source": [
    "# Setup NN \n",
    "input_dims = xs.shape[-1]\n",
    "num_samples = xs.shape[0]\n",
    "bounds = np.array([[-10.0, 10.0]]*input_dims)\n",
    "\n",
    "\n",
    "# Create a neural network with one hidden layer\n",
    "nn = NeuralNetworkOneLayer(dims=input_dims, domain=bounds, hidden_dims=hidden_dims)\n",
    "\n",
    "criteria = torch.nn.MSELoss()\n",
    "optimizer = torch.optim.Adam(nn.model.parameters(), lr=learning_rate)\n",
    "\n",
    "try:\n",
    "    device = torch.device(use_device)\n",
    "except:\n",
    "    device = torch.device(\"cuda:0\" if torch.cuda.is_available() else \"cpu\")"
   ]
  },
  {
   "cell_type": "code",
   "execution_count": null,
   "id": "91d68219-ff2b-4bce-aef7-858eee60cea3",
   "metadata": {},
   "outputs": [],
   "source": [
    "nn.model.to(device)\n",
    "nn.model.train()\n",
    "\n",
    "print(f\"Training the neural network for {num_epochs} epochs\")\n",
    "for epoch in tqdm(range(num_epochs)):\n",
    "    shuffled_indices = np.random.permutation(num_samples)\n",
    "    xs_shuffled = xs[shuffled_indices]\n",
    "    ys_shuffled = ys[shuffled_indices]\n",
    "\n",
    "    for i in range(0, num_samples, batch_size):\n",
    "        x = torch.FloatTensor(xs_shuffled[i : i + batch_size])\n",
    "        y = torch.FloatTensor(ys_shuffled[i : i + batch_size])\n",
    "\n",
    "        x = x.to(device)\n",
    "        y = y.to(device)\n",
    "\n",
    "        optimizer.zero_grad()\n",
    "        y_pred = nn.model(x)\n",
    "        loss = criteria(y_pred, y)\n",
    "        loss.backward()\n",
    "        optimizer.step()\n",
    "        if i == 0:\n",
    "            print(f\"Loss at step {epoch} = {loss.item()}\")"
   ]
  },
  {
   "cell_type": "code",
   "execution_count": null,
   "id": "8754c287-b260-4763-97df-9a2ac0981240",
   "metadata": {},
   "outputs": [],
   "source": [
    "# Evalute the neural network\n",
    "nn.model.eval()\n",
    "losses = []\n",
    "for i in range(0, num_samples, batch_size):\n",
    "    x = torch.FloatTensor(xs[i : i + batch_size])\n",
    "    y = torch.FloatTensor(ys[i : i + batch_size])\n",
    "\n",
    "    x = x.to(device)\n",
    "    y = y.to(device)\n",
    "\n",
    "    with torch.no_grad():\n",
    "        y_pred = nn.model(x)\n",
    "    loss = criteria(y_pred, y)\n",
    "    losses.append(loss.item())\n",
    "\n",
    "print(f\"Mean loss: {np.mean(losses)}\")\n",
    "print(f\"Max/Min loss: {np.max(losses)} , {np.min(losses)}\")"
   ]
  },
  {
   "cell_type": "code",
   "execution_count": 29,
   "id": "05d88488-3a1c-41e5-ad31-1a6b4da5ca52",
   "metadata": {},
   "outputs": [
    {
     "name": "stdout",
     "output_type": "stream",
     "text": [
      "Saving the model\n"
     ]
    }
   ],
   "source": [
    "# Save the model\n",
    "print(\"Saving the model\")\n",
    "model_info = {\n",
    "    \"input_dims\": input_dims,\n",
    "    \"hidden_dims\": hidden_dims,\n",
    "    \"test_function\": save_name,\n",
    "    \"bounds\": bounds,\n",
    "    \"state_dict\": nn.model.state_dict(),\n",
    "}\n",
    "torch.save(\n",
    "    model_info,\n",
    "    f\"src/nn_models/nn_one_layer_{save_name}_{input_dims}_{hidden_dims}.pt\",\n",
    ")"
   ]
  },
  {
   "cell_type": "code",
   "execution_count": null,
   "id": "69dfbb8a-286e-447c-ad83-097df14d13b6",
   "metadata": {},
   "outputs": [],
   "source": []
  },
  {
   "cell_type": "markdown",
   "id": "e5e269df-563e-44df-b5ca-f2a9b5b62827",
   "metadata": {},
   "source": [
    "# Test loading model"
   ]
  },
  {
   "cell_type": "code",
   "execution_count": 2,
   "id": "022dffeb-b5f5-48b0-b40e-93e03fe3bf55",
   "metadata": {},
   "outputs": [],
   "source": [
    "model_path = \"src/nn_models/nn_one_layer_InvertedDoublePendulum-v4_12_16.pt\"\n",
    "\n",
    "device = \"cuda:0\"\n",
    "\n",
    "model_info = torch.load(model_path, map_location=device)"
   ]
  },
  {
   "cell_type": "code",
   "execution_count": 3,
   "id": "5a25489f-aef7-4fa7-ab5a-9e55c3d82b84",
   "metadata": {},
   "outputs": [
    {
     "data": {
      "text/plain": [
       "{'input_dims': 12,\n",
       " 'hidden_dims': 16,\n",
       " 'test_function': 'InvertedDoublePendulum-v4',\n",
       " 'bounds': array([-10.,  10., -10.,  10., -10.,  10., -10.,  10., -10.,  10., -10.,\n",
       "         10., -10.,  10., -10.,  10., -10.,  10., -10.,  10., -10.,  10.,\n",
       "        -10.,  10.]),\n",
       " 'state_dict': OrderedDict([('0.weight',\n",
       "               tensor([[ 1.4677e-01, -2.4173e-02,  2.1543e-01,  2.5001e-02, -5.1423e-02,\n",
       "                        -2.0905e-03,  2.1313e-02, -2.8338e-02,  2.8718e-03,  9.0760e-02,\n",
       "                        -1.2921e-01,  1.6068e-01],\n",
       "                       [ 9.8252e-02,  2.1203e-01,  7.9603e-03,  2.3247e-01, -3.1687e-01,\n",
       "                        -2.1037e-01,  1.0191e-01,  1.7402e-01, -5.2624e-02, -1.1091e-01,\n",
       "                        -2.7850e-02, -3.3848e-02],\n",
       "                       [-7.3925e-02, -6.5786e-02, -5.5284e-02, -1.7577e-01,  2.6927e-01,\n",
       "                         2.0940e-01,  2.1483e-01, -1.6511e-01, -9.9904e-02, -1.1539e-01,\n",
       "                        -4.2368e-02,  6.8518e-02],\n",
       "                       [ 1.7964e-01,  4.4075e-04, -9.2929e-02,  3.2316e-01,  2.5433e-01,\n",
       "                         1.9730e-01, -7.1864e-02,  2.8814e-01,  2.5146e-01,  3.0078e-01,\n",
       "                         2.6339e-01, -5.7662e-02],\n",
       "                       [ 4.0861e-02,  3.2488e-01, -5.5746e-02, -1.6516e-02, -1.5711e-01,\n",
       "                        -9.6113e-02, -6.0744e-02, -9.1033e-02, -1.3717e-01, -1.6050e-01,\n",
       "                         8.5521e-02,  2.6482e-01],\n",
       "                       [-1.1425e-01,  2.4793e-03,  9.0203e-02, -1.8510e-02, -3.7004e-01,\n",
       "                         1.1721e-01, -9.0837e-03,  2.4485e-02,  8.0426e-03, -1.3156e-01,\n",
       "                        -6.1048e-03,  1.3400e-01],\n",
       "                       [-2.0655e-01, -9.5107e-02, -3.1108e-02, -4.2515e-01, -1.9643e-01,\n",
       "                        -2.3327e-02, -2.9210e-01,  4.2447e-02, -3.0849e-02, -4.0718e-02,\n",
       "                        -3.8548e-01, -4.2651e-01],\n",
       "                       [ 2.2635e-03,  3.1169e-01, -8.2905e-02, -1.1010e-01, -2.2914e-01,\n",
       "                        -5.4002e-02, -1.7370e-01,  3.2827e-01, -2.1309e-02, -1.5739e-02,\n",
       "                         8.7772e-02, -1.7070e-01],\n",
       "                       [ 4.4142e-02, -1.2185e-01,  2.0911e-01,  1.2893e-01, -1.7763e-01,\n",
       "                        -2.4398e-01, -1.2089e-02, -7.9584e-02,  4.8934e-02, -9.5848e-03,\n",
       "                        -1.4017e-01,  2.4109e-01],\n",
       "                       [-6.2827e-02,  3.5244e-01,  1.1644e-01,  1.7534e-01, -3.4784e-01,\n",
       "                        -1.5398e-01, -7.6582e-02, -6.7943e-02, -6.1870e-02,  1.3261e-01,\n",
       "                        -5.1150e-03, -1.1079e-01],\n",
       "                       [-9.9943e-02,  4.4326e-02, -4.2604e-02, -1.6781e-01,  3.9321e-01,\n",
       "                         3.0038e-02, -1.9627e-01, -4.8680e-02, -1.0884e-01, -1.6058e-01,\n",
       "                         8.4000e-02,  1.9949e-01],\n",
       "                       [-4.0223e-01,  9.0113e-02,  9.4536e-02,  1.4468e-01,  4.3602e-02,\n",
       "                         3.9768e-01,  6.8539e-02,  2.1285e-02,  5.6831e-02, -1.2538e-01,\n",
       "                        -3.2071e-01, -2.2245e-01],\n",
       "                       [ 1.7349e-01, -6.3324e-02, -1.2011e-01,  1.1320e-01,  1.0410e-01,\n",
       "                         1.1349e-01, -1.4538e-02, -1.8222e-01, -3.7223e-03, -2.0702e-01,\n",
       "                        -4.8730e-02,  2.0286e-01],\n",
       "                       [-1.2896e-01, -3.2154e-02,  4.5579e-02, -1.2898e-02, -2.2473e-02,\n",
       "                        -9.0983e-02, -8.1171e-02,  1.2134e-01, -1.8683e-01,  5.1047e-03,\n",
       "                         1.2164e-01, -1.1220e-01],\n",
       "                       [-6.6052e-01,  2.5258e-02,  3.0242e-01, -1.0999e-01, -1.7535e-01,\n",
       "                         8.7470e-02, -5.9919e-02,  1.3878e-01,  3.5963e-02,  1.0101e-01,\n",
       "                         7.6183e-02, -1.9526e-02],\n",
       "                       [ 4.6339e-01, -1.2412e-01, -5.2204e-02,  1.8101e-01,  2.1178e-01,\n",
       "                         2.7082e-01,  1.9291e-01, -1.3617e-01,  4.0883e-02, -3.5320e-01,\n",
       "                        -3.3976e-01, -1.7485e-01]], device='cuda:0')),\n",
       "              ('0.bias',\n",
       "               tensor([ 0.7683,  1.1820,  0.9497,  0.5949,  1.2425,  2.2221, -0.6849,  1.2051,\n",
       "                        1.7766,  1.0726,  1.1160,  0.0554, -0.1054, -0.6785, -0.3377,  0.3115],\n",
       "                      device='cuda:0')),\n",
       "              ('2.weight',\n",
       "               tensor([[-0.1876, -0.3628, -0.3076, -0.2875, -0.5461, -1.3327,  0.2497, -0.3803,\n",
       "                        -0.9536, -0.5719, -0.6062, -0.2161,  0.1914,  0.2116,  0.2699, -0.2700]],\n",
       "                      device='cuda:0')),\n",
       "              ('2.bias', tensor([-0.7942], device='cuda:0'))])}"
      ]
     },
     "execution_count": 3,
     "metadata": {},
     "output_type": "execute_result"
    }
   ],
   "source": [
    "model_info"
   ]
  },
  {
   "cell_type": "code",
   "execution_count": null,
   "id": "4f3cb769-3635-48e6-a326-284e8c18cee7",
   "metadata": {},
   "outputs": [],
   "source": []
  }
 ],
 "metadata": {
  "kernelspec": {
   "display_name": "Python [conda env:jax]",
   "language": "python",
   "name": "conda-env-jax-py"
  },
  "language_info": {
   "codemirror_mode": {
    "name": "ipython",
    "version": 3
   },
   "file_extension": ".py",
   "mimetype": "text/x-python",
   "name": "python",
   "nbconvert_exporter": "python",
   "pygments_lexer": "ipython3",
   "version": "3.9.16"
  }
 },
 "nbformat": 4,
 "nbformat_minor": 5
}
