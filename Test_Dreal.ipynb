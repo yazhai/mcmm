{
 "cells": [
  {
   "cell_type": "code",
   "execution_count": 1,
   "id": "55ef09b5",
   "metadata": {},
   "outputs": [],
   "source": [
    "import time\n",
    "import subprocess\n",
    "import sympy\n",
    "from sympy.printing.smtlib import smtlib_code\n",
    "import dreal"
   ]
  },
  {
   "cell_type": "code",
   "execution_count": 2,
   "id": "4d702a7c",
   "metadata": {},
   "outputs": [],
   "source": [
    "from src import test_functions"
   ]
  },
  {
   "cell_type": "code",
   "execution_count": null,
   "id": "a443425d",
   "metadata": {},
   "outputs": [],
   "source": []
  },
  {
   "cell_type": "code",
   "execution_count": 3,
   "id": "87c5ac09",
   "metadata": {},
   "outputs": [],
   "source": [
    "def generate_input_ctrs(func_domain, sympy_input_vars):\n",
    "    ctrs = []\n",
    "    for domain_i, input_var in zip(func_domain, sympy_input_vars):\n",
    "        lb = domain_i[0]\n",
    "        ub = domain_i[1]\n",
    "        if float.is_integer(lb):\n",
    "            lb = int(lb)\n",
    "        if float.is_integer(ub):\n",
    "            ub = int(ub)\n",
    "        ctrs.append(input_var >= lb)\n",
    "        ctrs.append(input_var <= ub)\n",
    "    return ctrs"
   ]
  },
  {
   "cell_type": "code",
   "execution_count": 4,
   "id": "f42d20f8",
   "metadata": {},
   "outputs": [],
   "source": [
    "def generate_smt2_code(sympy_expr, input_ctrs, ub_value):\n",
    "    output_var = sympy.symbols('y')\n",
    "    func = sympy.Eq(output_var, sympy_expr)\n",
    "    output_constr = output_var < ub_value\n",
    "    smt_code = sympy.printing.smtlib.smtlib_code([func] + input_ctrs + [output_constr], suffix_expressions=[\"(check-sat)\"])\n",
    "    return smt_code"
   ]
  },
  {
   "cell_type": "code",
   "execution_count": 5,
   "id": "4b4f85c8",
   "metadata": {},
   "outputs": [],
   "source": [
    "def dreal_solve(binary_fp, smt_code):\n",
    "    tmp_fp = \"/tmp/temp.smt2\"\n",
    "    with open(tmp_fp, \"w\") as f:\n",
    "        f.write(smt_code)\n",
    "        \n",
    "    command = [binary_fp, tmp_fp]\n",
    "    \n",
    "    result = subprocess.run(\n",
    "        command,\n",
    "        stdout = subprocess.PIPE,\n",
    "    )\n",
    "    \n",
    "    output = result.stdout.decode('utf-8')\n",
    "    \n",
    "    if 'unsat' in output:\n",
    "        return 'unsat'\n",
    "    elif 'delta-sat' in output:\n",
    "        return 'sat'\n",
    "    \n",
    "    assert False, \"Invalid output: {}\".format(output)\n",
    "    return None"
   ]
  },
  {
   "cell_type": "code",
   "execution_count": null,
   "id": "ece260e0",
   "metadata": {},
   "outputs": [],
   "source": [
    "test_functions.Michalewicz"
   ]
  },
  {
   "cell_type": "code",
   "execution_count": null,
   "id": "b94d444f",
   "metadata": {},
   "outputs": [],
   "source": []
  },
  {
   "cell_type": "code",
   "execution_count": 22,
   "id": "4c103ae6",
   "metadata": {},
   "outputs": [
    {
     "name": "stdout",
     "output_type": "stream",
     "text": [
      "Begin solving..\n",
      "Solved; result: unsat. Time used: 0.5068244934082031\n"
     ]
    }
   ],
   "source": [
    "upper_bound_val = -0.0001\n",
    "func = test_functions.Ackley(100)\n",
    "\n",
    "variables, expression = func.expression()\n",
    "sympy_input_vars, sympy_expression = test_functions.convert_to_sympy_expression(expression)\n",
    "input_ctrs = generate_input_ctrs(func.get_default_domain(), sympy_input_vars)\n",
    "smt2_code = generate_smt2_code(sympy_expression, input_ctrs, upper_bound_val)\n",
    "print(\"Begin solving..\")\n",
    "start = time.time()\n",
    "result = dreal_solve(\"/opt/dreal/4.21.06.2/bin/dreal\", smt2_code)\n",
    "time_elapsed = time.time() - start\n",
    "print(\"Solved; result: {}. Time used: {}\".format(result, time_elapsed))"
   ]
  },
  {
   "cell_type": "code",
   "execution_count": 23,
   "id": "cfee3c3c",
   "metadata": {
    "scrolled": true
   },
   "outputs": [
    {
     "name": "stdout",
     "output_type": "stream",
     "text": [
      "Begin solving..\n",
      "Solved; result: unsat. Time used: 3.7131659984588623\n"
     ]
    }
   ],
   "source": [
    "upper_bound_val = -0.0001\n",
    "func = test_functions.Ackley(200)\n",
    "\n",
    "variables, expression = func.expression()\n",
    "sympy_input_vars, sympy_expression = test_functions.convert_to_sympy_expression(expression)\n",
    "input_ctrs = generate_input_ctrs(func.get_default_domain(), sympy_input_vars)\n",
    "smt2_code = generate_smt2_code(sympy_expression, input_ctrs, upper_bound_val)\n",
    "print(\"Begin solving..\")\n",
    "start = time.time()\n",
    "result = dreal_solve(\"/opt/dreal/4.21.06.2/bin/dreal\", smt2_code)\n",
    "time_elapsed = time.time() - start\n",
    "print(\"Solved; result: {}. Time used: {}\".format(result, time_elapsed))"
   ]
  },
  {
   "cell_type": "code",
   "execution_count": 32,
   "id": "1fbb06d1",
   "metadata": {
    "scrolled": true
   },
   "outputs": [
    {
     "name": "stdout",
     "output_type": "stream",
     "text": [
      "Begin solving..\n"
     ]
    },
    {
     "ename": "KeyboardInterrupt",
     "evalue": "",
     "output_type": "error",
     "traceback": [
      "\u001b[0;31m---------------------------------------------------------------------------\u001b[0m",
      "\u001b[0;31mKeyboardInterrupt\u001b[0m                         Traceback (most recent call last)",
      "Cell \u001b[0;32mIn[32], line 11\u001b[0m\n\u001b[1;32m      9\u001b[0m \u001b[38;5;28mprint\u001b[39m(\u001b[38;5;124m\"\u001b[39m\u001b[38;5;124mBegin solving..\u001b[39m\u001b[38;5;124m\"\u001b[39m)\n\u001b[1;32m     10\u001b[0m start \u001b[38;5;241m=\u001b[39m time\u001b[38;5;241m.\u001b[39mtime()\n\u001b[0;32m---> 11\u001b[0m result \u001b[38;5;241m=\u001b[39m \u001b[43mdreal_solve\u001b[49m\u001b[43m(\u001b[49m\u001b[38;5;124;43m\"\u001b[39;49m\u001b[38;5;124;43m/opt/dreal/4.21.06.2/bin/dreal\u001b[39;49m\u001b[38;5;124;43m\"\u001b[39;49m\u001b[43m,\u001b[49m\u001b[43m \u001b[49m\u001b[43msmt2_code\u001b[49m\u001b[43m)\u001b[49m\n\u001b[1;32m     12\u001b[0m time_elapsed \u001b[38;5;241m=\u001b[39m time\u001b[38;5;241m.\u001b[39mtime() \u001b[38;5;241m-\u001b[39m start\n\u001b[1;32m     13\u001b[0m \u001b[38;5;28mprint\u001b[39m(\u001b[38;5;124m\"\u001b[39m\u001b[38;5;124mSolved; result: \u001b[39m\u001b[38;5;132;01m{}\u001b[39;00m\u001b[38;5;124m. Time used: \u001b[39m\u001b[38;5;132;01m{}\u001b[39;00m\u001b[38;5;124m\"\u001b[39m\u001b[38;5;241m.\u001b[39mformat(result, time_elapsed))\n",
      "Cell \u001b[0;32mIn[5], line 8\u001b[0m, in \u001b[0;36mdreal_solve\u001b[0;34m(binary_fp, smt_code)\u001b[0m\n\u001b[1;32m      4\u001b[0m     f\u001b[38;5;241m.\u001b[39mwrite(smt_code)\n\u001b[1;32m      6\u001b[0m command \u001b[38;5;241m=\u001b[39m [binary_fp, tmp_fp]\n\u001b[0;32m----> 8\u001b[0m result \u001b[38;5;241m=\u001b[39m \u001b[43msubprocess\u001b[49m\u001b[38;5;241;43m.\u001b[39;49m\u001b[43mrun\u001b[49m\u001b[43m(\u001b[49m\n\u001b[1;32m      9\u001b[0m \u001b[43m    \u001b[49m\u001b[43mcommand\u001b[49m\u001b[43m,\u001b[49m\n\u001b[1;32m     10\u001b[0m \u001b[43m    \u001b[49m\u001b[43mstdout\u001b[49m\u001b[43m \u001b[49m\u001b[38;5;241;43m=\u001b[39;49m\u001b[43m \u001b[49m\u001b[43msubprocess\u001b[49m\u001b[38;5;241;43m.\u001b[39;49m\u001b[43mPIPE\u001b[49m\u001b[43m,\u001b[49m\n\u001b[1;32m     11\u001b[0m \u001b[43m\u001b[49m\u001b[43m)\u001b[49m\n\u001b[1;32m     13\u001b[0m output \u001b[38;5;241m=\u001b[39m result\u001b[38;5;241m.\u001b[39mstdout\u001b[38;5;241m.\u001b[39mdecode(\u001b[38;5;124m'\u001b[39m\u001b[38;5;124mutf-8\u001b[39m\u001b[38;5;124m'\u001b[39m)\n\u001b[1;32m     15\u001b[0m \u001b[38;5;28;01mif\u001b[39;00m \u001b[38;5;124m'\u001b[39m\u001b[38;5;124munsat\u001b[39m\u001b[38;5;124m'\u001b[39m \u001b[38;5;129;01min\u001b[39;00m output:\n",
      "File \u001b[0;32m~/miniconda3/envs/mcir/lib/python3.9/subprocess.py:507\u001b[0m, in \u001b[0;36mrun\u001b[0;34m(input, capture_output, timeout, check, *popenargs, **kwargs)\u001b[0m\n\u001b[1;32m    505\u001b[0m \u001b[38;5;28;01mwith\u001b[39;00m Popen(\u001b[38;5;241m*\u001b[39mpopenargs, \u001b[38;5;241m*\u001b[39m\u001b[38;5;241m*\u001b[39mkwargs) \u001b[38;5;28;01mas\u001b[39;00m process:\n\u001b[1;32m    506\u001b[0m     \u001b[38;5;28;01mtry\u001b[39;00m:\n\u001b[0;32m--> 507\u001b[0m         stdout, stderr \u001b[38;5;241m=\u001b[39m \u001b[43mprocess\u001b[49m\u001b[38;5;241;43m.\u001b[39;49m\u001b[43mcommunicate\u001b[49m\u001b[43m(\u001b[49m\u001b[38;5;28;43minput\u001b[39;49m\u001b[43m,\u001b[49m\u001b[43m \u001b[49m\u001b[43mtimeout\u001b[49m\u001b[38;5;241;43m=\u001b[39;49m\u001b[43mtimeout\u001b[49m\u001b[43m)\u001b[49m\n\u001b[1;32m    508\u001b[0m     \u001b[38;5;28;01mexcept\u001b[39;00m TimeoutExpired \u001b[38;5;28;01mas\u001b[39;00m exc:\n\u001b[1;32m    509\u001b[0m         process\u001b[38;5;241m.\u001b[39mkill()\n",
      "File \u001b[0;32m~/miniconda3/envs/mcir/lib/python3.9/subprocess.py:1121\u001b[0m, in \u001b[0;36mPopen.communicate\u001b[0;34m(self, input, timeout)\u001b[0m\n\u001b[1;32m   1119\u001b[0m     \u001b[38;5;28mself\u001b[39m\u001b[38;5;241m.\u001b[39m_stdin_write(\u001b[38;5;28minput\u001b[39m)\n\u001b[1;32m   1120\u001b[0m \u001b[38;5;28;01melif\u001b[39;00m \u001b[38;5;28mself\u001b[39m\u001b[38;5;241m.\u001b[39mstdout:\n\u001b[0;32m-> 1121\u001b[0m     stdout \u001b[38;5;241m=\u001b[39m \u001b[38;5;28;43mself\u001b[39;49m\u001b[38;5;241;43m.\u001b[39;49m\u001b[43mstdout\u001b[49m\u001b[38;5;241;43m.\u001b[39;49m\u001b[43mread\u001b[49m\u001b[43m(\u001b[49m\u001b[43m)\u001b[49m\n\u001b[1;32m   1122\u001b[0m     \u001b[38;5;28mself\u001b[39m\u001b[38;5;241m.\u001b[39mstdout\u001b[38;5;241m.\u001b[39mclose()\n\u001b[1;32m   1123\u001b[0m \u001b[38;5;28;01melif\u001b[39;00m \u001b[38;5;28mself\u001b[39m\u001b[38;5;241m.\u001b[39mstderr:\n",
      "\u001b[0;31mKeyboardInterrupt\u001b[0m: "
     ]
    }
   ],
   "source": [
    "upper_bound_val = 100\n",
    "func = test_functions.Watson()\n",
    "\n",
    "variables, expression = func.expression()\n",
    "sympy_input_vars, sympy_expression = test_functions.convert_to_sympy_expression(expression)\n",
    "input_ctrs = generate_input_ctrs(func.get_default_domain(), sympy_input_vars)\n",
    "smt2_code = generate_smt2_code(sympy_expression, input_ctrs, upper_bound_val)\n",
    "print(\"Begin solving..\")\n",
    "start = time.time()\n",
    "result = dreal_solve(\"/opt/dreal/4.21.06.2/bin/dreal\", smt2_code)\n",
    "time_elapsed = time.time() - start\n",
    "print(\"Solved; result: {}. Time used: {}\".format(result, time_elapsed))"
   ]
  },
  {
   "cell_type": "code",
   "execution_count": 33,
   "id": "af505397",
   "metadata": {
    "scrolled": true
   },
   "outputs": [
    {
     "name": "stdout",
     "output_type": "stream",
     "text": [
      "Begin solving..\n"
     ]
    },
    {
     "ename": "KeyboardInterrupt",
     "evalue": "",
     "output_type": "error",
     "traceback": [
      "\u001b[0;31m---------------------------------------------------------------------------\u001b[0m",
      "\u001b[0;31mKeyboardInterrupt\u001b[0m                         Traceback (most recent call last)",
      "Cell \u001b[0;32mIn[33], line 11\u001b[0m\n\u001b[1;32m      9\u001b[0m \u001b[38;5;28mprint\u001b[39m(\u001b[38;5;124m\"\u001b[39m\u001b[38;5;124mBegin solving..\u001b[39m\u001b[38;5;124m\"\u001b[39m)\n\u001b[1;32m     10\u001b[0m start \u001b[38;5;241m=\u001b[39m time\u001b[38;5;241m.\u001b[39mtime()\n\u001b[0;32m---> 11\u001b[0m result \u001b[38;5;241m=\u001b[39m \u001b[43mdreal_solve\u001b[49m\u001b[43m(\u001b[49m\u001b[38;5;124;43m\"\u001b[39;49m\u001b[38;5;124;43m/opt/dreal/4.21.06.2/bin/dreal\u001b[39;49m\u001b[38;5;124;43m\"\u001b[39;49m\u001b[43m,\u001b[49m\u001b[43m \u001b[49m\u001b[43msmt2_code\u001b[49m\u001b[43m)\u001b[49m\n\u001b[1;32m     12\u001b[0m time_elapsed \u001b[38;5;241m=\u001b[39m time\u001b[38;5;241m.\u001b[39mtime() \u001b[38;5;241m-\u001b[39m start\n\u001b[1;32m     13\u001b[0m \u001b[38;5;28mprint\u001b[39m(\u001b[38;5;124m\"\u001b[39m\u001b[38;5;124mSolved; result: \u001b[39m\u001b[38;5;132;01m{}\u001b[39;00m\u001b[38;5;124m. Time used: \u001b[39m\u001b[38;5;132;01m{}\u001b[39;00m\u001b[38;5;124m\"\u001b[39m\u001b[38;5;241m.\u001b[39mformat(result, time_elapsed))\n",
      "Cell \u001b[0;32mIn[5], line 8\u001b[0m, in \u001b[0;36mdreal_solve\u001b[0;34m(binary_fp, smt_code)\u001b[0m\n\u001b[1;32m      4\u001b[0m     f\u001b[38;5;241m.\u001b[39mwrite(smt_code)\n\u001b[1;32m      6\u001b[0m command \u001b[38;5;241m=\u001b[39m [binary_fp, tmp_fp]\n\u001b[0;32m----> 8\u001b[0m result \u001b[38;5;241m=\u001b[39m \u001b[43msubprocess\u001b[49m\u001b[38;5;241;43m.\u001b[39;49m\u001b[43mrun\u001b[49m\u001b[43m(\u001b[49m\n\u001b[1;32m      9\u001b[0m \u001b[43m    \u001b[49m\u001b[43mcommand\u001b[49m\u001b[43m,\u001b[49m\n\u001b[1;32m     10\u001b[0m \u001b[43m    \u001b[49m\u001b[43mstdout\u001b[49m\u001b[43m \u001b[49m\u001b[38;5;241;43m=\u001b[39;49m\u001b[43m \u001b[49m\u001b[43msubprocess\u001b[49m\u001b[38;5;241;43m.\u001b[39;49m\u001b[43mPIPE\u001b[49m\u001b[43m,\u001b[49m\n\u001b[1;32m     11\u001b[0m \u001b[43m\u001b[49m\u001b[43m)\u001b[49m\n\u001b[1;32m     13\u001b[0m output \u001b[38;5;241m=\u001b[39m result\u001b[38;5;241m.\u001b[39mstdout\u001b[38;5;241m.\u001b[39mdecode(\u001b[38;5;124m'\u001b[39m\u001b[38;5;124mutf-8\u001b[39m\u001b[38;5;124m'\u001b[39m)\n\u001b[1;32m     15\u001b[0m \u001b[38;5;28;01mif\u001b[39;00m \u001b[38;5;124m'\u001b[39m\u001b[38;5;124munsat\u001b[39m\u001b[38;5;124m'\u001b[39m \u001b[38;5;129;01min\u001b[39;00m output:\n",
      "File \u001b[0;32m~/miniconda3/envs/mcir/lib/python3.9/subprocess.py:507\u001b[0m, in \u001b[0;36mrun\u001b[0;34m(input, capture_output, timeout, check, *popenargs, **kwargs)\u001b[0m\n\u001b[1;32m    505\u001b[0m \u001b[38;5;28;01mwith\u001b[39;00m Popen(\u001b[38;5;241m*\u001b[39mpopenargs, \u001b[38;5;241m*\u001b[39m\u001b[38;5;241m*\u001b[39mkwargs) \u001b[38;5;28;01mas\u001b[39;00m process:\n\u001b[1;32m    506\u001b[0m     \u001b[38;5;28;01mtry\u001b[39;00m:\n\u001b[0;32m--> 507\u001b[0m         stdout, stderr \u001b[38;5;241m=\u001b[39m \u001b[43mprocess\u001b[49m\u001b[38;5;241;43m.\u001b[39;49m\u001b[43mcommunicate\u001b[49m\u001b[43m(\u001b[49m\u001b[38;5;28;43minput\u001b[39;49m\u001b[43m,\u001b[49m\u001b[43m \u001b[49m\u001b[43mtimeout\u001b[49m\u001b[38;5;241;43m=\u001b[39;49m\u001b[43mtimeout\u001b[49m\u001b[43m)\u001b[49m\n\u001b[1;32m    508\u001b[0m     \u001b[38;5;28;01mexcept\u001b[39;00m TimeoutExpired \u001b[38;5;28;01mas\u001b[39;00m exc:\n\u001b[1;32m    509\u001b[0m         process\u001b[38;5;241m.\u001b[39mkill()\n",
      "File \u001b[0;32m~/miniconda3/envs/mcir/lib/python3.9/subprocess.py:1121\u001b[0m, in \u001b[0;36mPopen.communicate\u001b[0;34m(self, input, timeout)\u001b[0m\n\u001b[1;32m   1119\u001b[0m     \u001b[38;5;28mself\u001b[39m\u001b[38;5;241m.\u001b[39m_stdin_write(\u001b[38;5;28minput\u001b[39m)\n\u001b[1;32m   1120\u001b[0m \u001b[38;5;28;01melif\u001b[39;00m \u001b[38;5;28mself\u001b[39m\u001b[38;5;241m.\u001b[39mstdout:\n\u001b[0;32m-> 1121\u001b[0m     stdout \u001b[38;5;241m=\u001b[39m \u001b[38;5;28;43mself\u001b[39;49m\u001b[38;5;241;43m.\u001b[39;49m\u001b[43mstdout\u001b[49m\u001b[38;5;241;43m.\u001b[39;49m\u001b[43mread\u001b[49m\u001b[43m(\u001b[49m\u001b[43m)\u001b[49m\n\u001b[1;32m   1122\u001b[0m     \u001b[38;5;28mself\u001b[39m\u001b[38;5;241m.\u001b[39mstdout\u001b[38;5;241m.\u001b[39mclose()\n\u001b[1;32m   1123\u001b[0m \u001b[38;5;28;01melif\u001b[39;00m \u001b[38;5;28mself\u001b[39m\u001b[38;5;241m.\u001b[39mstderr:\n",
      "\u001b[0;31mKeyboardInterrupt\u001b[0m: "
     ]
    }
   ],
   "source": [
    "upper_bound_val = -0.0001\n",
    "func = test_functions.Harkerp()\n",
    "\n",
    "variables, expression = func.expression()\n",
    "sympy_input_vars, sympy_expression = test_functions.convert_to_sympy_expression(expression)\n",
    "input_ctrs = generate_input_ctrs(func.get_default_domain(), sympy_input_vars)\n",
    "smt2_code = generate_smt2_code(sympy_expression, input_ctrs, upper_bound_val)\n",
    "print(\"Begin solving..\")\n",
    "start = time.time()\n",
    "result = dreal_solve(\"/opt/dreal/4.21.06.2/bin/dreal\", smt2_code)\n",
    "time_elapsed = time.time() - start\n",
    "print(\"Solved; result: {}. Time used: {}\".format(result, time_elapsed))"
   ]
  },
  {
   "cell_type": "code",
   "execution_count": 34,
   "id": "b8c79199",
   "metadata": {
    "scrolled": true
   },
   "outputs": [
    {
     "name": "stdout",
     "output_type": "stream",
     "text": [
      "Begin solving..\n"
     ]
    },
    {
     "ename": "KeyboardInterrupt",
     "evalue": "",
     "output_type": "error",
     "traceback": [
      "\u001b[0;31m---------------------------------------------------------------------------\u001b[0m",
      "\u001b[0;31mKeyboardInterrupt\u001b[0m                         Traceback (most recent call last)",
      "Cell \u001b[0;32mIn[34], line 11\u001b[0m\n\u001b[1;32m      9\u001b[0m \u001b[38;5;28mprint\u001b[39m(\u001b[38;5;124m\"\u001b[39m\u001b[38;5;124mBegin solving..\u001b[39m\u001b[38;5;124m\"\u001b[39m)\n\u001b[1;32m     10\u001b[0m start \u001b[38;5;241m=\u001b[39m time\u001b[38;5;241m.\u001b[39mtime()\n\u001b[0;32m---> 11\u001b[0m result \u001b[38;5;241m=\u001b[39m \u001b[43mdreal_solve\u001b[49m\u001b[43m(\u001b[49m\u001b[38;5;124;43m\"\u001b[39;49m\u001b[38;5;124;43m/opt/dreal/4.21.06.2/bin/dreal\u001b[39;49m\u001b[38;5;124;43m\"\u001b[39;49m\u001b[43m,\u001b[49m\u001b[43m \u001b[49m\u001b[43msmt2_code\u001b[49m\u001b[43m)\u001b[49m\n\u001b[1;32m     12\u001b[0m time_elapsed \u001b[38;5;241m=\u001b[39m time\u001b[38;5;241m.\u001b[39mtime() \u001b[38;5;241m-\u001b[39m start\n\u001b[1;32m     13\u001b[0m \u001b[38;5;28mprint\u001b[39m(\u001b[38;5;124m\"\u001b[39m\u001b[38;5;124mSolved; result: \u001b[39m\u001b[38;5;132;01m{}\u001b[39;00m\u001b[38;5;124m. Time used: \u001b[39m\u001b[38;5;132;01m{}\u001b[39;00m\u001b[38;5;124m\"\u001b[39m\u001b[38;5;241m.\u001b[39mformat(result, time_elapsed))\n",
      "Cell \u001b[0;32mIn[5], line 8\u001b[0m, in \u001b[0;36mdreal_solve\u001b[0;34m(binary_fp, smt_code)\u001b[0m\n\u001b[1;32m      4\u001b[0m     f\u001b[38;5;241m.\u001b[39mwrite(smt_code)\n\u001b[1;32m      6\u001b[0m command \u001b[38;5;241m=\u001b[39m [binary_fp, tmp_fp]\n\u001b[0;32m----> 8\u001b[0m result \u001b[38;5;241m=\u001b[39m \u001b[43msubprocess\u001b[49m\u001b[38;5;241;43m.\u001b[39;49m\u001b[43mrun\u001b[49m\u001b[43m(\u001b[49m\n\u001b[1;32m      9\u001b[0m \u001b[43m    \u001b[49m\u001b[43mcommand\u001b[49m\u001b[43m,\u001b[49m\n\u001b[1;32m     10\u001b[0m \u001b[43m    \u001b[49m\u001b[43mstdout\u001b[49m\u001b[43m \u001b[49m\u001b[38;5;241;43m=\u001b[39;49m\u001b[43m \u001b[49m\u001b[43msubprocess\u001b[49m\u001b[38;5;241;43m.\u001b[39;49m\u001b[43mPIPE\u001b[49m\u001b[43m,\u001b[49m\n\u001b[1;32m     11\u001b[0m \u001b[43m\u001b[49m\u001b[43m)\u001b[49m\n\u001b[1;32m     13\u001b[0m output \u001b[38;5;241m=\u001b[39m result\u001b[38;5;241m.\u001b[39mstdout\u001b[38;5;241m.\u001b[39mdecode(\u001b[38;5;124m'\u001b[39m\u001b[38;5;124mutf-8\u001b[39m\u001b[38;5;124m'\u001b[39m)\n\u001b[1;32m     15\u001b[0m \u001b[38;5;28;01mif\u001b[39;00m \u001b[38;5;124m'\u001b[39m\u001b[38;5;124munsat\u001b[39m\u001b[38;5;124m'\u001b[39m \u001b[38;5;129;01min\u001b[39;00m output:\n",
      "File \u001b[0;32m~/miniconda3/envs/mcir/lib/python3.9/subprocess.py:507\u001b[0m, in \u001b[0;36mrun\u001b[0;34m(input, capture_output, timeout, check, *popenargs, **kwargs)\u001b[0m\n\u001b[1;32m    505\u001b[0m \u001b[38;5;28;01mwith\u001b[39;00m Popen(\u001b[38;5;241m*\u001b[39mpopenargs, \u001b[38;5;241m*\u001b[39m\u001b[38;5;241m*\u001b[39mkwargs) \u001b[38;5;28;01mas\u001b[39;00m process:\n\u001b[1;32m    506\u001b[0m     \u001b[38;5;28;01mtry\u001b[39;00m:\n\u001b[0;32m--> 507\u001b[0m         stdout, stderr \u001b[38;5;241m=\u001b[39m \u001b[43mprocess\u001b[49m\u001b[38;5;241;43m.\u001b[39;49m\u001b[43mcommunicate\u001b[49m\u001b[43m(\u001b[49m\u001b[38;5;28;43minput\u001b[39;49m\u001b[43m,\u001b[49m\u001b[43m \u001b[49m\u001b[43mtimeout\u001b[49m\u001b[38;5;241;43m=\u001b[39;49m\u001b[43mtimeout\u001b[49m\u001b[43m)\u001b[49m\n\u001b[1;32m    508\u001b[0m     \u001b[38;5;28;01mexcept\u001b[39;00m TimeoutExpired \u001b[38;5;28;01mas\u001b[39;00m exc:\n\u001b[1;32m    509\u001b[0m         process\u001b[38;5;241m.\u001b[39mkill()\n",
      "File \u001b[0;32m~/miniconda3/envs/mcir/lib/python3.9/subprocess.py:1121\u001b[0m, in \u001b[0;36mPopen.communicate\u001b[0;34m(self, input, timeout)\u001b[0m\n\u001b[1;32m   1119\u001b[0m     \u001b[38;5;28mself\u001b[39m\u001b[38;5;241m.\u001b[39m_stdin_write(\u001b[38;5;28minput\u001b[39m)\n\u001b[1;32m   1120\u001b[0m \u001b[38;5;28;01melif\u001b[39;00m \u001b[38;5;28mself\u001b[39m\u001b[38;5;241m.\u001b[39mstdout:\n\u001b[0;32m-> 1121\u001b[0m     stdout \u001b[38;5;241m=\u001b[39m \u001b[38;5;28;43mself\u001b[39;49m\u001b[38;5;241;43m.\u001b[39;49m\u001b[43mstdout\u001b[49m\u001b[38;5;241;43m.\u001b[39;49m\u001b[43mread\u001b[49m\u001b[43m(\u001b[49m\u001b[43m)\u001b[49m\n\u001b[1;32m   1122\u001b[0m     \u001b[38;5;28mself\u001b[39m\u001b[38;5;241m.\u001b[39mstdout\u001b[38;5;241m.\u001b[39mclose()\n\u001b[1;32m   1123\u001b[0m \u001b[38;5;28;01melif\u001b[39;00m \u001b[38;5;28mself\u001b[39m\u001b[38;5;241m.\u001b[39mstderr:\n",
      "\u001b[0;31mKeyboardInterrupt\u001b[0m: "
     ]
    }
   ],
   "source": [
    "upper_bound_val = 100\n",
    "func = test_functions.Biggsbi1()\n",
    "\n",
    "variables, expression = func.expression()\n",
    "sympy_input_vars, sympy_expression = test_functions.convert_to_sympy_expression(expression)\n",
    "input_ctrs = generate_input_ctrs(func.get_default_domain(), sympy_input_vars)\n",
    "smt2_code = generate_smt2_code(sympy_expression, input_ctrs, upper_bound_val)\n",
    "print(\"Begin solving..\")\n",
    "start = time.time()\n",
    "result = dreal_solve(\"/opt/dreal/4.21.06.2/bin/dreal\", smt2_code)\n",
    "time_elapsed = time.time() - start\n",
    "print(\"Solved; result: {}. Time used: {}\".format(result, time_elapsed))"
   ]
  },
  {
   "cell_type": "code",
   "execution_count": 35,
   "id": "1c8bf2ce",
   "metadata": {
    "scrolled": true
   },
   "outputs": [
    {
     "name": "stdout",
     "output_type": "stream",
     "text": [
      "Begin solving..\n"
     ]
    },
    {
     "ename": "KeyboardInterrupt",
     "evalue": "",
     "output_type": "error",
     "traceback": [
      "\u001b[0;31m---------------------------------------------------------------------------\u001b[0m",
      "\u001b[0;31mKeyboardInterrupt\u001b[0m                         Traceback (most recent call last)",
      "Cell \u001b[0;32mIn[35], line 10\u001b[0m\n\u001b[1;32m      8\u001b[0m \u001b[38;5;28mprint\u001b[39m(\u001b[38;5;124m\"\u001b[39m\u001b[38;5;124mBegin solving..\u001b[39m\u001b[38;5;124m\"\u001b[39m)\n\u001b[1;32m      9\u001b[0m start \u001b[38;5;241m=\u001b[39m time\u001b[38;5;241m.\u001b[39mtime()\n\u001b[0;32m---> 10\u001b[0m result \u001b[38;5;241m=\u001b[39m \u001b[43mdreal_solve\u001b[49m\u001b[43m(\u001b[49m\u001b[38;5;124;43m\"\u001b[39;49m\u001b[38;5;124;43m/opt/dreal/4.21.06.2/bin/dreal\u001b[39;49m\u001b[38;5;124;43m\"\u001b[39;49m\u001b[43m,\u001b[49m\u001b[43m \u001b[49m\u001b[43msmt2_code\u001b[49m\u001b[43m)\u001b[49m\n\u001b[1;32m     11\u001b[0m time_elapsed \u001b[38;5;241m=\u001b[39m time\u001b[38;5;241m.\u001b[39mtime() \u001b[38;5;241m-\u001b[39m start\n\u001b[1;32m     12\u001b[0m \u001b[38;5;28mprint\u001b[39m(\u001b[38;5;124m\"\u001b[39m\u001b[38;5;124mSolved; result: \u001b[39m\u001b[38;5;132;01m{}\u001b[39;00m\u001b[38;5;124m. Time used: \u001b[39m\u001b[38;5;132;01m{}\u001b[39;00m\u001b[38;5;124m\"\u001b[39m\u001b[38;5;241m.\u001b[39mformat(result, time_elapsed))\n",
      "Cell \u001b[0;32mIn[5], line 8\u001b[0m, in \u001b[0;36mdreal_solve\u001b[0;34m(binary_fp, smt_code)\u001b[0m\n\u001b[1;32m      4\u001b[0m     f\u001b[38;5;241m.\u001b[39mwrite(smt_code)\n\u001b[1;32m      6\u001b[0m command \u001b[38;5;241m=\u001b[39m [binary_fp, tmp_fp]\n\u001b[0;32m----> 8\u001b[0m result \u001b[38;5;241m=\u001b[39m \u001b[43msubprocess\u001b[49m\u001b[38;5;241;43m.\u001b[39;49m\u001b[43mrun\u001b[49m\u001b[43m(\u001b[49m\n\u001b[1;32m      9\u001b[0m \u001b[43m    \u001b[49m\u001b[43mcommand\u001b[49m\u001b[43m,\u001b[49m\n\u001b[1;32m     10\u001b[0m \u001b[43m    \u001b[49m\u001b[43mstdout\u001b[49m\u001b[43m \u001b[49m\u001b[38;5;241;43m=\u001b[39;49m\u001b[43m \u001b[49m\u001b[43msubprocess\u001b[49m\u001b[38;5;241;43m.\u001b[39;49m\u001b[43mPIPE\u001b[49m\u001b[43m,\u001b[49m\n\u001b[1;32m     11\u001b[0m \u001b[43m\u001b[49m\u001b[43m)\u001b[49m\n\u001b[1;32m     13\u001b[0m output \u001b[38;5;241m=\u001b[39m result\u001b[38;5;241m.\u001b[39mstdout\u001b[38;5;241m.\u001b[39mdecode(\u001b[38;5;124m'\u001b[39m\u001b[38;5;124mutf-8\u001b[39m\u001b[38;5;124m'\u001b[39m)\n\u001b[1;32m     15\u001b[0m \u001b[38;5;28;01mif\u001b[39;00m \u001b[38;5;124m'\u001b[39m\u001b[38;5;124munsat\u001b[39m\u001b[38;5;124m'\u001b[39m \u001b[38;5;129;01min\u001b[39;00m output:\n",
      "File \u001b[0;32m~/miniconda3/envs/mcir/lib/python3.9/subprocess.py:507\u001b[0m, in \u001b[0;36mrun\u001b[0;34m(input, capture_output, timeout, check, *popenargs, **kwargs)\u001b[0m\n\u001b[1;32m    505\u001b[0m \u001b[38;5;28;01mwith\u001b[39;00m Popen(\u001b[38;5;241m*\u001b[39mpopenargs, \u001b[38;5;241m*\u001b[39m\u001b[38;5;241m*\u001b[39mkwargs) \u001b[38;5;28;01mas\u001b[39;00m process:\n\u001b[1;32m    506\u001b[0m     \u001b[38;5;28;01mtry\u001b[39;00m:\n\u001b[0;32m--> 507\u001b[0m         stdout, stderr \u001b[38;5;241m=\u001b[39m \u001b[43mprocess\u001b[49m\u001b[38;5;241;43m.\u001b[39;49m\u001b[43mcommunicate\u001b[49m\u001b[43m(\u001b[49m\u001b[38;5;28;43minput\u001b[39;49m\u001b[43m,\u001b[49m\u001b[43m \u001b[49m\u001b[43mtimeout\u001b[49m\u001b[38;5;241;43m=\u001b[39;49m\u001b[43mtimeout\u001b[49m\u001b[43m)\u001b[49m\n\u001b[1;32m    508\u001b[0m     \u001b[38;5;28;01mexcept\u001b[39;00m TimeoutExpired \u001b[38;5;28;01mas\u001b[39;00m exc:\n\u001b[1;32m    509\u001b[0m         process\u001b[38;5;241m.\u001b[39mkill()\n",
      "File \u001b[0;32m~/miniconda3/envs/mcir/lib/python3.9/subprocess.py:1121\u001b[0m, in \u001b[0;36mPopen.communicate\u001b[0;34m(self, input, timeout)\u001b[0m\n\u001b[1;32m   1119\u001b[0m     \u001b[38;5;28mself\u001b[39m\u001b[38;5;241m.\u001b[39m_stdin_write(\u001b[38;5;28minput\u001b[39m)\n\u001b[1;32m   1120\u001b[0m \u001b[38;5;28;01melif\u001b[39;00m \u001b[38;5;28mself\u001b[39m\u001b[38;5;241m.\u001b[39mstdout:\n\u001b[0;32m-> 1121\u001b[0m     stdout \u001b[38;5;241m=\u001b[39m \u001b[38;5;28;43mself\u001b[39;49m\u001b[38;5;241;43m.\u001b[39;49m\u001b[43mstdout\u001b[49m\u001b[38;5;241;43m.\u001b[39;49m\u001b[43mread\u001b[49m\u001b[43m(\u001b[49m\u001b[43m)\u001b[49m\n\u001b[1;32m   1122\u001b[0m     \u001b[38;5;28mself\u001b[39m\u001b[38;5;241m.\u001b[39mstdout\u001b[38;5;241m.\u001b[39mclose()\n\u001b[1;32m   1123\u001b[0m \u001b[38;5;28;01melif\u001b[39;00m \u001b[38;5;28mself\u001b[39m\u001b[38;5;241m.\u001b[39mstderr:\n",
      "\u001b[0;31mKeyboardInterrupt\u001b[0m: "
     ]
    }
   ],
   "source": [
    "upper_bound_val = 100\n",
    "func = test_functions.NeuralNetworkOneLayerTrained(\"src/nn_models/nn_one_layer_michalewicz_100_16.pt\")\n",
    "\n",
    "variables, expression = func.expression()\n",
    "sympy_input_vars, sympy_expression = test_functions.convert_to_sympy_expression(expression)\n",
    "input_ctrs = generate_input_ctrs(func.get_default_domain(), sympy_input_vars)\n",
    "smt2_code = generate_smt2_code(sympy_expression, input_ctrs, upper_bound_val)\n",
    "print(\"Begin solving..\")\n",
    "start = time.time()\n",
    "result = dreal_solve(\"/opt/dreal/4.21.06.2/bin/dreal\", smt2_code)\n",
    "time_elapsed = time.time() - start\n",
    "print(\"Solved; result: {}. Time used: {}\".format(result, time_elapsed))"
   ]
  },
  {
   "cell_type": "code",
   "execution_count": null,
   "id": "303b432e",
   "metadata": {},
   "outputs": [
    {
     "name": "stdout",
     "output_type": "stream",
     "text": [
      "Begin solving..\n"
     ]
    }
   ],
   "source": [
    "upper_bound_val = 100\n",
    "func = test_functions.NeuralNetworkOneLayerTrained(\"src/nn_models/nn_one_layer_michalewicz_50_16.pt\")\n",
    "\n",
    "variables, expression = func.expression()\n",
    "sympy_input_vars, sympy_expression = test_functions.convert_to_sympy_expression(expression)\n",
    "input_ctrs = generate_input_ctrs(func.get_default_domain(), sympy_input_vars)\n",
    "smt2_code = generate_smt2_code(sympy_expression, input_ctrs, upper_bound_val)\n",
    "print(\"Begin solving..\")\n",
    "start = time.time()\n",
    "result = dreal_solve(\"/opt/dreal/4.21.06.2/bin/dreal\", smt2_code)\n",
    "time_elapsed = time.time() - start\n",
    "print(\"Solved; result: {}. Time used: {}\".format(result, time_elapsed))"
   ]
  },
  {
   "cell_type": "code",
   "execution_count": null,
   "id": "298f8719",
   "metadata": {},
   "outputs": [],
   "source": []
  },
  {
   "cell_type": "code",
   "execution_count": 10,
   "id": "59418752",
   "metadata": {},
   "outputs": [],
   "source": [
    "import pandas\n",
    "import os\n",
    "import json"
   ]
  },
  {
   "cell_type": "code",
   "execution_count": 14,
   "id": "a3106518",
   "metadata": {},
   "outputs": [],
   "source": [
    "results = []\n",
    "for result_f in os.listdir('results/'):\n",
    "    with open(os.path.join('results', result_f)) as f:\n",
    "        result = json.load(f)\n",
    "    results.append(result)"
   ]
  },
  {
   "cell_type": "code",
   "execution_count": 15,
   "id": "50679e34",
   "metadata": {},
   "outputs": [],
   "source": [
    "pd = pandas.DataFrame(results)"
   ]
  },
  {
   "cell_type": "code",
   "execution_count": 22,
   "id": "eb1cfa93",
   "metadata": {},
   "outputs": [],
   "source": [
    "column_selection = ['func_name', 'dim', 'upper_bound_val', 'nn_path', 'result', 'time']"
   ]
  },
  {
   "cell_type": "code",
   "execution_count": 24,
   "id": "515726a6",
   "metadata": {},
   "outputs": [],
   "source": [
    "results_pd = pd[column_selection].sort_values(by=column_selection)"
   ]
  },
  {
   "cell_type": "code",
   "execution_count": 27,
   "id": "08e2bc11",
   "metadata": {},
   "outputs": [],
   "source": [
    "results_pd.to_csv('dreal_results.csv', index=False)"
   ]
  },
  {
   "cell_type": "code",
   "execution_count": null,
   "id": "f71a8e16",
   "metadata": {},
   "outputs": [],
   "source": []
  },
  {
   "cell_type": "markdown",
   "id": "e613a9c8",
   "metadata": {},
   "source": [
    "# DRAFTS - DO NOT READ"
   ]
  },
  {
   "cell_type": "code",
   "execution_count": 56,
   "id": "6cf95888",
   "metadata": {},
   "outputs": [
    {
     "name": "stdout",
     "output_type": "stream",
     "text": [
      "Begin solving..\n",
      "Solved; result: sat. Time used: 1.584848403930664\n"
     ]
    }
   ],
   "source": [
    "# Check Watson (31d) <= 0\n",
    "func = test_functions.Watson()\n",
    "variables, expression = func.expression()\n",
    "sympy_expression = test_functions.convert_to_sympy_expression(expression)\n",
    "smt2_code = generate_smt2_code(sympy_expression, 0)\n",
    "print(\"Begin solving..\")\n",
    "start = time.time()\n",
    "result = dreal_solve(\"/opt/dreal/4.21.06.2/bin/dreal\", smt2_code)\n",
    "time_elapsed = time.time() - start\n",
    "print(\"Solved; result: {}. Time used: {}\".format(result, time_elapsed))"
   ]
  },
  {
   "cell_type": "code",
   "execution_count": 54,
   "id": "ac2a6ffc",
   "metadata": {},
   "outputs": [
    {
     "name": "stdout",
     "output_type": "stream",
     "text": [
      "Begin solving..\n",
      "Solved; result: unsat. Time used: 0.3596827983856201\n"
     ]
    }
   ],
   "source": [
    "# Check Watson (31d) <= -0.001\n",
    "func = test_functions.Watson()\n",
    "variables, expression = func.expression()\n",
    "sympy_expression = test_functions.convert_to_sympy_expression(expression)\n",
    "smt2_code = generate_smt2_code(sympy_expression, -0.001)\n",
    "print(\"Begin solving..\")\n",
    "start = time.time()\n",
    "result = dreal_solve(\"/opt/dreal/4.21.06.2/bin/dreal\", smt2_code)\n",
    "time_elapsed = time.time() - start\n",
    "print(\"Solved; result: {}. Time used: {}\".format(result, time_elapsed))"
   ]
  },
  {
   "cell_type": "code",
   "execution_count": 57,
   "id": "668fa543",
   "metadata": {},
   "outputs": [
    {
     "name": "stdout",
     "output_type": "stream",
     "text": [
      "Begin solving..\n",
      "Solved; result: sat. Time used: 4.3831257820129395\n"
     ]
    }
   ],
   "source": [
    "# Check Harkerp (100d) <= -10000\n",
    "func = test_functions.Harkerp()\n",
    "variables, expression = func.expression()\n",
    "sympy_expression = test_functions.convert_to_sympy_expression(expression)\n",
    "smt2_code = generate_smt2_code(sympy_expression, -10000)\n",
    "print(\"Begin solving..\")\n",
    "start = time.time()\n",
    "result = dreal_solve(\"/opt/dreal/4.21.06.2/bin/dreal\", smt2_code)\n",
    "time_elapsed = time.time() - start\n",
    "print(\"Solved; result: {}. Time used: {}\".format(result, time_elapsed))"
   ]
  },
  {
   "cell_type": "code",
   "execution_count": 52,
   "id": "e8924124",
   "metadata": {},
   "outputs": [
    {
     "name": "stdout",
     "output_type": "stream",
     "text": [
      "Begin solving..\n",
      "Solved; result: sat. Time used: 148.04025268554688\n"
     ]
    }
   ],
   "source": [
    "# Check Biggsbi1 (1000d) <= 0\n",
    "func = test_functions.Biggsbi1()\n",
    "variables, expression = func.expression()\n",
    "sympy_expression = test_functions.convert_to_sympy_expression(expression)\n",
    "smt2_code = generate_smt2_code(sympy_expression, 0)\n",
    "print(\"Begin solving..\")\n",
    "start = time.time()\n",
    "result = dreal_solve(\"/opt/dreal/4.21.06.2/bin/dreal\", smt2_code)\n",
    "time_elapsed = time.time() - start\n",
    "print(\"Solved; result: {}. Time used: {}\".format(result, time_elapsed))"
   ]
  },
  {
   "cell_type": "code",
   "execution_count": 51,
   "id": "dd1ac0ac",
   "metadata": {},
   "outputs": [
    {
     "name": "stdout",
     "output_type": "stream",
     "text": [
      "Begin solving..\n",
      "Solved; result: unsat. Time used: 147.2539505958557\n"
     ]
    }
   ],
   "source": [
    "# Check Biggsbi1 (1000d) <= -0.001\n",
    "func = test_functions.Biggsbi1()\n",
    "variables, expression = func.expression()\n",
    "sympy_expression = test_functions.convert_to_sympy_expression(expression)\n",
    "smt2_code = generate_smt2_code(sympy_expression, -0.001)\n",
    "print(\"Begin solving..\")\n",
    "start = time.time()\n",
    "result = dreal_solve(\"/opt/dreal/4.21.06.2/bin/dreal\", smt2_code)\n",
    "time_elapsed = time.time() - start\n",
    "print(\"Solved; result: {}. Time used: {}\".format(result, time_elapsed))"
   ]
  },
  {
   "cell_type": "code",
   "execution_count": null,
   "id": "932ef3f4",
   "metadata": {},
   "outputs": [
    {
     "name": "stdout",
     "output_type": "stream",
     "text": [
      "Begin solving..\n"
     ]
    }
   ],
   "source": [
    "# Check NN (50d) <= 21\n",
    "func = test_functions.NeuralNetworkOneLayerTrained(\"src/nn_models/nn_one_layer_ackley_50_16.pt\")\n",
    "variables, expression = func.expression()\n",
    "sympy_expression = test_functions.convert_to_sympy_expression(expression)\n",
    "smt2_code = generate_smt2_code(sympy_expression, 100)\n",
    "print(\"Begin solving..\")\n",
    "start = time.time()\n",
    "result = dreal_solve(\"/opt/dreal/4.21.06.2/bin/dreal\", smt2_code)\n",
    "time_elapsed = time.time() - start\n",
    "print(\"Solved; result: {}. Time used: {}\".format(result, time_elapsed))"
   ]
  },
  {
   "cell_type": "code",
   "execution_count": 14,
   "id": "c5f468d5",
   "metadata": {},
   "outputs": [
    {
     "name": "stdout",
     "output_type": "stream",
     "text": [
      "Begin solving..\n",
      "Solved; result: sat. Time used: 1.310814619064331\n"
     ]
    }
   ],
   "source": [
    "# Check NN Michalwitcz (50d) <= 17\n",
    "func = test_functions.NeuralNetworkOneLayerTrained(\"src/nn_models/nn_one_layer_michalewicz_50_16.pt\")\n",
    "variables, expression = func.expression()\n",
    "sympy_expression = test_functions.convert_to_sympy_expression(expression)\n",
    "smt2_code = generate_smt2_code(sympy_expression, -20)\n",
    "print(\"Begin solving..\")\n",
    "start = time.time()\n",
    "result = dreal_solve(\"/opt/dreal/4.21.06.2/bin/dreal\", smt2_code)\n",
    "time_elapsed = time.time() - start\n",
    "print(\"Solved; result: {}. Time used: {}\".format(result, time_elapsed))"
   ]
  },
  {
   "cell_type": "code",
   "execution_count": 14,
   "id": "e6022fbe",
   "metadata": {},
   "outputs": [
    {
     "name": "stdout",
     "output_type": "stream",
     "text": [
      "Begin solving..\n",
      "Solved; result: sat. Time used: 1.310814619064331\n"
     ]
    }
   ],
   "source": [
    "# Check NN Michalwitcz (50d) <= 17\n",
    "func = test_functions.NeuralNetworkOneLayerTrained(\"src/nn_models/nn_one_layer_michalewicz_100_16.pt\")\n",
    "variables, expression = func.expression()\n",
    "sympy_expression = test_functions.convert_to_sympy_expression(expression)\n",
    "smt2_code = generate_smt2_code(sympy_expression, -20)\n",
    "print(\"Begin solving..\")\n",
    "start = time.time()\n",
    "result = dreal_solve(\"/opt/dreal/4.21.06.2/bin/dreal\", smt2_code)\n",
    "time_elapsed = time.time() - start\n",
    "print(\"Solved; result: {}. Time used: {}\".format(result, time_elapsed))"
   ]
  },
  {
   "cell_type": "code",
   "execution_count": null,
   "id": "6c3c39e6",
   "metadata": {},
   "outputs": [],
   "source": []
  }
 ],
 "metadata": {
  "kernelspec": {
   "display_name": "Python [conda env:mcir]",
   "language": "python",
   "name": "conda-env-mcir-py"
  },
  "language_info": {
   "codemirror_mode": {
    "name": "ipython",
    "version": 3
   },
   "file_extension": ".py",
   "mimetype": "text/x-python",
   "name": "python",
   "nbconvert_exporter": "python",
   "pygments_lexer": "ipython3",
   "version": "3.9.17"
  }
 },
 "nbformat": 4,
 "nbformat_minor": 5
}
