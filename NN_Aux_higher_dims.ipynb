{
 "cells": [
  {
   "cell_type": "code",
   "execution_count": 1,
   "id": "cc685df0",
   "metadata": {},
   "outputs": [],
   "source": [
    "import src.test_functions as test_functions"
   ]
  },
  {
   "cell_type": "code",
   "execution_count": null,
   "id": "0877f116",
   "metadata": {},
   "outputs": [],
   "source": []
  },
  {
   "cell_type": "code",
   "execution_count": 2,
   "id": "7271e064",
   "metadata": {},
   "outputs": [],
   "source": [
    "import os\n",
    "\n",
    "os.environ['XLA_PYTHON_CLIENT_MEM_FRACTION']='.1'\n",
    "os.environ['XLA_FLAGS']='--xla_gpu_force_compilation_parallelism=1'"
   ]
  },
  {
   "cell_type": "code",
   "execution_count": 3,
   "id": "cfb59c2f",
   "metadata": {},
   "outputs": [],
   "source": [
    "import scipy\n",
    "import numpy as np\n",
    "from jax import numpy as jnp"
   ]
  },
  {
   "cell_type": "code",
   "execution_count": 4,
   "id": "0a6a6ade",
   "metadata": {},
   "outputs": [],
   "source": [
    "import matplotlib.pyplot as plt"
   ]
  },
  {
   "cell_type": "code",
   "execution_count": null,
   "id": "fa3272f4",
   "metadata": {},
   "outputs": [],
   "source": []
  },
  {
   "cell_type": "code",
   "execution_count": 5,
   "id": "775ad48c",
   "metadata": {},
   "outputs": [],
   "source": [
    "import torch.nn as nn\n",
    "import torch\n",
    "\n",
    "from tqdm import tqdm"
   ]
  },
  {
   "cell_type": "code",
   "execution_count": 6,
   "id": "3b4dc137",
   "metadata": {},
   "outputs": [],
   "source": [
    "from sympy import symbols, Max\n",
    "import sympy"
   ]
  },
  {
   "cell_type": "code",
   "execution_count": 7,
   "id": "fa9c3c5c",
   "metadata": {},
   "outputs": [],
   "source": [
    "from pyibex import Interval, IntervalVector, Function, CtcFwdBwd, SepFwdBwd, GEQ"
   ]
  },
  {
   "cell_type": "code",
   "execution_count": null,
   "id": "9f6619e2",
   "metadata": {},
   "outputs": [],
   "source": []
  },
  {
   "cell_type": "code",
   "execution_count": 8,
   "id": "cdc4b625",
   "metadata": {},
   "outputs": [
    {
     "data": {
      "text/plain": [
       "<torch._C.Generator at 0x7f9f4afac310>"
      ]
     },
     "execution_count": 8,
     "metadata": {},
     "output_type": "execute_result"
    }
   ],
   "source": [
    "seed = 12\n",
    "\n",
    "import random\n",
    "random.seed(seed)\n",
    "np.random.seed(seed)\n",
    "torch.manual_seed(seed)"
   ]
  },
  {
   "cell_type": "markdown",
   "id": "ea9035cf",
   "metadata": {},
   "source": [
    "##  Sample points for training"
   ]
  },
  {
   "cell_type": "code",
   "execution_count": 9,
   "id": "b7af76b2",
   "metadata": {},
   "outputs": [],
   "source": [
    "def sample(function, bounds, n, local_minima=False):\n",
    "    assert isinstance(bounds, np.ndarray)\n",
    "    assert bounds.shape[1] == 2\n",
    "    xs = np.random.rand(n, bounds.shape[0]) * (bounds[:, 1] - bounds[:, 0]) + bounds[:, 0]\n",
    "    ys = np.array([function(x).item() for x in xs])\n",
    "    \n",
    "    if local_minima:\n",
    "        xs_local_opt = []\n",
    "        ys_local_opt = []\n",
    "        for x0 in xs:\n",
    "            opt_res = scipy.optimize.minimize(func, x0, method='Nelder-Mead')\n",
    "            if opt_res.success:\n",
    "                xs_local_opt.append(opt_res.x)\n",
    "                ys_local_opt.append(opt_res.fun)\n",
    "        xs_local_opt, ys_local_opt = np.array(xs_local_opt), np.array(ys_local_opt)\n",
    "        return xs, ys, xs_local_opt, ys_local_opt\n",
    "    \n",
    "    return xs, ys"
   ]
  },
  {
   "cell_type": "code",
   "execution_count": null,
   "id": "757ee5fa",
   "metadata": {},
   "outputs": [],
   "source": []
  },
  {
   "cell_type": "code",
   "execution_count": 10,
   "id": "08a04e11",
   "metadata": {},
   "outputs": [],
   "source": [
    "dimension = 5\n",
    "\n",
    "func = test_functions.Ackley(dims=dimension)\n",
    "# variables, expression = func.expression()\n",
    "\n",
    "bounds = func.get_default_domain()\n",
    "lb = bounds.T[0]\n",
    "ub = bounds.T[1]"
   ]
  },
  {
   "cell_type": "code",
   "execution_count": null,
   "id": "8c64a655",
   "metadata": {},
   "outputs": [],
   "source": []
  },
  {
   "cell_type": "code",
   "execution_count": 11,
   "id": "f3534f15",
   "metadata": {},
   "outputs": [],
   "source": [
    "sampled_xs, sampled_ys = sample(func, bounds, 5000, local_minima=False)"
   ]
  },
  {
   "cell_type": "markdown",
   "id": "ac36e4af",
   "metadata": {},
   "source": [
    "## Fit a neural network"
   ]
  },
  {
   "cell_type": "code",
   "execution_count": 12,
   "id": "49f891b6",
   "metadata": {},
   "outputs": [],
   "source": [
    "device = torch.device('cuda' if torch.cuda.is_available() else 'cpu')"
   ]
  },
  {
   "cell_type": "code",
   "execution_count": 13,
   "id": "cba1f102",
   "metadata": {},
   "outputs": [],
   "source": [
    "xs_train = sampled_xs\n",
    "ys_train = np.expand_dims(sampled_ys, axis=1)"
   ]
  },
  {
   "cell_type": "code",
   "execution_count": 14,
   "id": "2d16eb86",
   "metadata": {},
   "outputs": [],
   "source": [
    "hidden_dim = 16\n",
    "\n",
    "model = nn.Sequential(\n",
    "    nn.Linear(dimension, hidden_dim),\n",
    "    nn.ReLU(),\n",
    "    nn.Linear(hidden_dim, 1)\n",
    ")"
   ]
  },
  {
   "cell_type": "raw",
   "id": "8acfc5d3",
   "metadata": {},
   "source": [
    "class SingleLayerNet(nn.Module):\n",
    "    def __init__(self, input_size, hidden_size):\n",
    "        super(SingleLayerNet, self).__init__()\n",
    "        self.fc1 = nn.Linear(input_size, hidden_size)\n",
    "        self.fc2 = nn.Linear(hidden_size, 1)\n",
    "        self.relu = nn.ReLU()\n",
    "\n",
    "    def forward(self, x):\n",
    "        x = self.fc1(x)\n",
    "        x = self.relu(x)\n",
    "        x = self.fc2(x)\n",
    "        return x"
   ]
  },
  {
   "cell_type": "raw",
   "id": "026faf00",
   "metadata": {},
   "source": [
    "hidden_dim = 16\n",
    "model = SingleLayerNet(dimension, hidden_dim)"
   ]
  },
  {
   "cell_type": "code",
   "execution_count": 15,
   "id": "8cc34956",
   "metadata": {},
   "outputs": [],
   "source": [
    "criterion = nn.MSELoss()\n",
    "# optimizer = torch.optim.Adam(model.parameters(), lr=0.0001)\n",
    "optimizer = torch.optim.RMSprop(model.parameters(), lr=0.001)"
   ]
  },
  {
   "cell_type": "code",
   "execution_count": 16,
   "id": "1ae7f747",
   "metadata": {},
   "outputs": [
    {
     "name": "stderr",
     "output_type": "stream",
     "text": [
      "100%|███████████████████████████████████| 10000/10000 [00:04<00:00, 2117.17it/s]\n"
     ]
    }
   ],
   "source": [
    "num_epochs = 10000\n",
    "\n",
    "model.to(device)\n",
    "\n",
    "loss_record = []\n",
    "for epoch in tqdm(range(num_epochs)):\n",
    "    model.train()\n",
    "    \n",
    "    x_train_tensor = torch.FloatTensor(xs_train).to(device)\n",
    "    y_train_tensor = torch.FloatTensor(ys_train).to(device)\n",
    "    y_pred = model(x_train_tensor)\n",
    "    loss = criterion(y_pred, y_train_tensor)\n",
    "    \n",
    "    loss_record.append(loss.item())\n",
    "    \n",
    "    optimizer.zero_grad()\n",
    "    loss.backward()\n",
    "    \n",
    "    optimizer.step()"
   ]
  },
  {
   "cell_type": "code",
   "execution_count": 17,
   "id": "c2de6f53",
   "metadata": {},
   "outputs": [
    {
     "data": {
      "text/plain": [
       "[<matplotlib.lines.Line2D at 0x7f9f3c57a640>]"
      ]
     },
     "execution_count": 17,
     "metadata": {},
     "output_type": "execute_result"
    },
    {
     "data": {
      "image/png": "[encoded data removed]",
      "text/plain": [
       "<Figure size 640x480 with 1 Axes>"
      ]
     },
     "metadata": {},
     "output_type": "display_data"
    }
   ],
   "source": [
    "plt.plot(loss_record)"
   ]
  },
  {
   "cell_type": "code",
   "execution_count": 18,
   "id": "71459119",
   "metadata": {},
   "outputs": [
    {
     "data": {
      "text/plain": [
       "0.32054373621940613"
      ]
     },
     "execution_count": 18,
     "metadata": {},
     "output_type": "execute_result"
    }
   ],
   "source": [
    "loss_record[-1]"
   ]
  },
  {
   "cell_type": "code",
   "execution_count": null,
   "id": "06271170",
   "metadata": {},
   "outputs": [],
   "source": []
  },
  {
   "cell_type": "markdown",
   "id": "31ffe277",
   "metadata": {},
   "source": [
    "## Convert the neural network to dReal"
   ]
  },
  {
   "cell_type": "code",
   "execution_count": 19,
   "id": "3402958d",
   "metadata": {},
   "outputs": [],
   "source": [
    "import dreal"
   ]
  },
  {
   "cell_type": "code",
   "execution_count": 20,
   "id": "fe795104",
   "metadata": {},
   "outputs": [],
   "source": [
    "initial_variables = [dreal.Variable('x[{}]'.format(i)) for i in range(dimension)]"
   ]
  },
  {
   "cell_type": "code",
   "execution_count": 21,
   "id": "af502851",
   "metadata": {},
   "outputs": [],
   "source": [
    "curr_vars = initial_variables\n",
    "formulas_by_layer = []\n",
    "vars_by_layer = [initial_variables]\n",
    "\n",
    "for layer_idx, layer in enumerate(model):\n",
    "    prev_vars = curr_vars\n",
    "    if isinstance(layer, nn.Linear):\n",
    "        W = layer.weight.detach().cpu().numpy()\n",
    "        b = np.expand_dims(layer.bias.detach().cpu().numpy(), axis=1)\n",
    "        X = np.expand_dims(prev_vars, axis=1)\n",
    "        \n",
    "        curr_vars = [dreal.Variable(\"x[{}][{}]\".format(layer_idx + 1, i)) for i in range(W.shape[0])]\n",
    "        vars_by_layer.append(curr_vars)\n",
    "        expressions = (W @ X + b)[:, 0]\n",
    "        \n",
    "        formulas = [(curr_var == expr) for curr_var, expr in zip(curr_vars, expressions)]\n",
    "        formulas_by_layer.append(formulas)\n",
    "        \n",
    "    elif isinstance(layer, nn.ReLU):\n",
    "        layer_width = len(prev_vars)\n",
    "        curr_vars = [dreal.Variable(\"x[{}][{}]\".format(layer_idx + 1, i)) for i in range(layer_width)]\n",
    "        vars_by_layer.append(curr_vars)\n",
    "        \n",
    "        expressions = [dreal.Max(0, prev_var) for prev_var in prev_vars]\n",
    "        \n",
    "        formulas = [(curr_var == expr) for curr_var, expr in zip(curr_vars, expressions)]\n",
    "        formulas_by_layer.append(formulas)\n",
    "        "
   ]
  },
  {
   "cell_type": "code",
   "execution_count": 22,
   "id": "b2db6bf4",
   "metadata": {},
   "outputs": [],
   "source": [
    "all_formulas_nn = [formula for formulas in formulas_by_layer for formula in formulas]"
   ]
  },
  {
   "cell_type": "code",
   "execution_count": 23,
   "id": "6e94edb3",
   "metadata": {},
   "outputs": [
    {
     "data": {
      "text/plain": [
       "[<Formula \"(x[1][0] == (-1.9414960145950317 + 0.15515927970409394 * x[0] - 0.32534942030906678 * x[1] + 0.0041549927555024624 * x[2] - 0.082884244620800019 * x[3] + 0.05991709977388382 * x[4]))\">,\n",
       " <Formula \"(x[1][1] == (-1.9709373712539672 - 0.2819245457649231 * x[0] - 0.045565161854028702 * x[1] - 0.12817178666591645 * x[2] - 0.13183242082595826 * x[3] + 0.087556235492229462 * x[4]))\">,\n",
       " <Formula \"(x[1][2] == (-1.5778150558471679 - 0.31237319111824036 * x[0] + 0.24658638238906861 * x[1] + 0.082119926810264588 * x[2] + 0.13758325576782227 * x[3] - 0.089378312230110169 * x[4]))\">,\n",
       " <Formula \"(x[1][3] == (1.4813206195831299 - 0.122891403734684 * x[0] + 0.2678927481174469 * x[1] + 0.053974322974681855 * x[2] + 0.083829909563064576 * x[3] - 0.061911553144454957 * x[4]))\">,\n",
       " <Formula \"(x[1][4] == (0.27967938780784607 - 0.011653277091681958 * x[0] - 0.026970148086547852 * x[1] - 0.1773340255022049 * x[2] + 0.14389668405056 * x[3] - 0.0057845404371619225 * x[4]))\">,\n",
       " <Formula \"(x[1][5] == (3.1154053211212159 - 0.020073411986231804 * x[0] - 0.0062203910201787949 * x[1] - 0.017484584823250771 * x[2] - 0.0020149615593254567 * x[3] + 0.052137430757284165 * x[4]))\">,\n",
       " <Formula \"(x[1][6] == (1.845247507095337 - 0.15460272133350373 * x[0] + 0.33428412675857544 * x[1] - 0.032397560775279999 * x[2] + 0.08066856861114502 * x[3] - 0.059514224529266358 * x[4]))\">,\n",
       " <Formula \"(x[1][7] == (2.9706428050994874 - 0.016391592100262642 * x[0] + 0.0015814164653420449 * x[1] - 0.0088507039472460747 * x[2] + 0.0073898169212043286 * x[3] + 0.058126308023929596 * x[4]))\">,\n",
       " <Formula \"(x[1][8] == (1.7335931062698365 + 0.35797196626663209 * x[0] - 0.28071621060371399 * x[1] - 0.099642649292945862 * x[2] - 0.15432418882846833 * x[3] + 0.10259503871202469 * x[4]))\">,\n",
       " <Formula \"(x[1][9] == (2.5465772151947022 - 0.037000272423028946 * x[0] + 0.010050593875348568 * x[1] - 0.018946241587400437 * x[2] + 0.0013310604263097048 * x[3] + 0.010946648195385933 * x[4]))\">,\n",
       " <Formula \"(x[1][10] == (-2.0666186809539794 + 0.42004704475402833 * x[0] + 0.29762065410614014 * x[1] - 0.053015239536762238 * x[2] + 0.28445973992347718 * x[3] + 0.22213646769523621 * x[4]))\">,\n",
       " <Formula \"(x[1][11] == (0.6370428204536438 - 0.062745913863182068 * x[0] - 0.10927952826023102 * x[1] + 0.10697223246097565 * x[2] + 0.18637849390506745 * x[3] - 0.060226771980524064 * x[4]))\">,\n",
       " <Formula \"(x[1][12] == (2.5260007381439209 + 0.022286972030997277 * x[0] - 0.0057671735994517804 * x[1] + 0.01151223573833704 * x[2] + 0.021004049107432366 * x[3] - 0.0076722195371985436 * x[4]))\">,\n",
       " <Formula \"(x[1][13] == (1.8921294212341309 + 0.30853751301765442 * x[0] + 0.048269014805555344 * x[1] + 0.14891521632671357 * x[2] + 0.14425946772098542 * x[3] - 0.1055869534611702 * x[4]))\">,\n",
       " <Formula \"(x[1][14] == (1.6885656118392945 - 0.39107808470726014 * x[0] - 0.27823406457901001 * x[1] + 0.053579401224851609 * x[2] - 0.25826707482337952 * x[3] - 0.20624092221260071 * x[4]))\">,\n",
       " <Formula \"(x[1][15] == (0.47759771347045899 - 0.040481541305780411 * x[0] + 0.013169453479349614 * x[1] + 0.077519871294498444 * x[2] + 0.067391134798526764 * x[3] + 0.21782566606998444 * x[4]))\">,\n",
       " <Formula \"(x[2][0] == max(0, x[1][0]))\">,\n",
       " <Formula \"(x[2][1] == max(0, x[1][1]))\">,\n",
       " <Formula \"(x[2][2] == max(0, x[1][2]))\">,\n",
       " <Formula \"(x[2][3] == max(0, x[1][3]))\">,\n",
       " <Formula \"(x[2][4] == max(0, x[1][4]))\">,\n",
       " <Formula \"(x[2][5] == max(0, x[1][5]))\">,\n",
       " <Formula \"(x[2][6] == max(0, x[1][6]))\">,\n",
       " <Formula \"(x[2][7] == max(0, x[1][7]))\">,\n",
       " <Formula \"(x[2][8] == max(0, x[1][8]))\">,\n",
       " <Formula \"(x[2][9] == max(0, x[1][9]))\">,\n",
       " <Formula \"(x[2][10] == max(0, x[1][10]))\">,\n",
       " <Formula \"(x[2][11] == max(0, x[1][11]))\">,\n",
       " <Formula \"(x[2][12] == max(0, x[1][12]))\">,\n",
       " <Formula \"(x[2][13] == max(0, x[1][13]))\">,\n",
       " <Formula \"(x[2][14] == max(0, x[1][14]))\">,\n",
       " <Formula \"(x[2][15] == max(0, x[1][15]))\">,\n",
       " <Formula \"(x[3][0] == (2.1677837371826172 - 0.95239353179931641 * x[2][0] - 0.52728676795959473 * x[2][1] - 0.7526116967201233 * x[2][2] + 0.38746419548988343 * x[2][3] + 0.24763578176498414 * x[2][4] + 1.1497322320938111 * x[2][5] + 0.74219447374343873 * x[2][6] + 1.2720713615417481 * x[2][7] + 0.71488267183303834 * x[2][8] + 0.50655162334442139 * x[2][9] - 0.43643781542778016 * x[2][10] + 0.24320414662361146 * x[2][11] + 0.89578467607498169 * x[2][12] + 0.59096920490264893 * x[2][13] + 0.53849786520004273 * x[2][14] + 0.22541819512844086 * x[2][15]))\">]"
      ]
     },
     "execution_count": 23,
     "metadata": {},
     "output_type": "execute_result"
    }
   ],
   "source": [
    "all_formulas_nn"
   ]
  },
  {
   "cell_type": "code",
   "execution_count": 24,
   "id": "d425a3db",
   "metadata": {},
   "outputs": [],
   "source": [
    "nn_value = vars_by_layer[-1][0]"
   ]
  },
  {
   "cell_type": "markdown",
   "id": "bb696d22",
   "metadata": {},
   "source": [
    "## Convert Ackley to dReal"
   ]
  },
  {
   "cell_type": "code",
   "execution_count": 25,
   "id": "5a5e6640",
   "metadata": {},
   "outputs": [],
   "source": [
    "input_variables = initial_variables\n",
    "a = 20\n",
    "b = 0.2\n",
    "c = 2 * np.pi"
   ]
  },
  {
   "cell_type": "code",
   "execution_count": 26,
   "id": "21b3c386",
   "metadata": {},
   "outputs": [],
   "source": [
    "ackley_constraints = []"
   ]
  },
  {
   "cell_type": "code",
   "execution_count": 27,
   "id": "167dd367",
   "metadata": {},
   "outputs": [],
   "source": [
    "# Term 1"
   ]
  },
  {
   "cell_type": "code",
   "execution_count": 28,
   "id": "b90412ac",
   "metadata": {},
   "outputs": [],
   "source": [
    "squared_summation = 0\n",
    "for var in input_variables:\n",
    "    squared_summation += var ** 2"
   ]
  },
  {
   "cell_type": "code",
   "execution_count": 29,
   "id": "9f465ce8",
   "metadata": {},
   "outputs": [],
   "source": [
    "var_ss = dreal.Variable(\"var_squared_summation\")\n",
    "ackley_constraints.append(var_ss == squared_summation)"
   ]
  },
  {
   "cell_type": "code",
   "execution_count": 30,
   "id": "cedd2b30",
   "metadata": {},
   "outputs": [],
   "source": [
    "var_sqrt = dreal.Variable(\"var_sqrt\")\n",
    "ackley_constraints.append(var_sqrt == (1 / dimension * var_ss) ** 0.5)"
   ]
  },
  {
   "cell_type": "code",
   "execution_count": 31,
   "id": "42a17b4f",
   "metadata": {},
   "outputs": [],
   "source": [
    "var_exp_1 = dreal.Variable(\"var_exp_1\")\n",
    "ackley_constraints.append(var_exp_1 == dreal.exp(-b * var_sqrt))"
   ]
  },
  {
   "cell_type": "code",
   "execution_count": 32,
   "id": "4775021b",
   "metadata": {},
   "outputs": [],
   "source": [
    "term_1 = -a * var_exp_1"
   ]
  },
  {
   "cell_type": "code",
   "execution_count": 33,
   "id": "4a9c16b0",
   "metadata": {},
   "outputs": [],
   "source": [
    "# Term 2"
   ]
  },
  {
   "cell_type": "code",
   "execution_count": 34,
   "id": "5dbf9f44",
   "metadata": {},
   "outputs": [],
   "source": [
    "cos_summation = 0\n",
    "for var in input_variables:\n",
    "    cos_summation += dreal.cos(c * var)"
   ]
  },
  {
   "cell_type": "code",
   "execution_count": 35,
   "id": "e43c8c50",
   "metadata": {},
   "outputs": [],
   "source": [
    "var_cos_sum = dreal.Variable(\"var_cos_summation\")\n",
    "ackley_constraints.append(var_cos_sum == cos_summation)"
   ]
  },
  {
   "cell_type": "code",
   "execution_count": 36,
   "id": "643484b6",
   "metadata": {},
   "outputs": [],
   "source": [
    "var_exp_2 = dreal.Variable(\"var_exp_2\")\n",
    "ackley_constraints.append(var_exp_2 == dreal.exp((1 / dimension * var_cos_sum)))"
   ]
  },
  {
   "cell_type": "code",
   "execution_count": 37,
   "id": "f4fbbe68",
   "metadata": {},
   "outputs": [],
   "source": [
    "term_2 = -var_exp_2"
   ]
  },
  {
   "cell_type": "code",
   "execution_count": 38,
   "id": "75877f96",
   "metadata": {},
   "outputs": [],
   "source": [
    "ackley_value = dreal.Variable(\"ackley_value\")"
   ]
  },
  {
   "cell_type": "code",
   "execution_count": 39,
   "id": "11882611",
   "metadata": {},
   "outputs": [],
   "source": [
    "ackley_constraints.append(ackley_value == term_1 + term_2 + a + np.exp(1))"
   ]
  },
  {
   "cell_type": "code",
   "execution_count": 40,
   "id": "a16a3d1d",
   "metadata": {},
   "outputs": [
    {
     "data": {
      "text/plain": [
       "[<Formula \"(var_squared_summation == (pow(x[0], 2) + pow(x[1], 2) + pow(x[2], 2) + pow(x[3], 2) + pow(x[4], 2)))\">,\n",
       " <Formula \"(var_sqrt == pow((0.20000000000000002 * var_squared_summation), 0.5))\">,\n",
       " <Formula \"(var_exp_1 == exp((-0.20000000000000001 * var_sqrt)))\">,\n",
       " <Formula \"(var_cos_summation == (cos((6.2831853071795863 * x[0])) + cos((6.2831853071795863 * x[1])) + cos((6.2831853071795863 * x[2])) + cos((6.2831853071795863 * x[3])) + cos((6.2831853071795863 * x[4]))))\">,\n",
       " <Formula \"(var_exp_2 == exp((0.20000000000000002 * var_cos_summation)))\">,\n",
       " <Formula \"(ackley_value == (22.718281828459045 - 20 * var_exp_1 - var_exp_2))\">]"
      ]
     },
     "execution_count": 40,
     "metadata": {},
     "output_type": "execute_result"
    }
   ],
   "source": [
    "ackley_constraints"
   ]
  },
  {
   "cell_type": "markdown",
   "id": "4a24ff1c",
   "metadata": {},
   "source": [
    "## Input constraints"
   ]
  },
  {
   "cell_type": "code",
   "execution_count": 41,
   "id": "a6be18de",
   "metadata": {},
   "outputs": [
    {
     "data": {
      "text/plain": [
       "array([[-32.768,  32.768],\n",
       "       [-32.768,  32.768],\n",
       "       [-32.768,  32.768],\n",
       "       [-32.768,  32.768],\n",
       "       [-32.768,  32.768]])"
      ]
     },
     "execution_count": 41,
     "metadata": {},
     "output_type": "execute_result"
    }
   ],
   "source": [
    "func.get_default_domain()"
   ]
  },
  {
   "cell_type": "code",
   "execution_count": 42,
   "id": "87ba8816",
   "metadata": {},
   "outputs": [],
   "source": [
    "input_constraints = []\n",
    "for dim in range(dimension):\n",
    "    input_constraints.append(input_variables[dim] >= func.get_default_domain()[dim][0])\n",
    "    input_constraints.append(input_variables[dim] <= func.get_default_domain()[dim][1])"
   ]
  },
  {
   "cell_type": "markdown",
   "id": "e0526347",
   "metadata": {},
   "source": [
    "## Output constraints"
   ]
  },
  {
   "cell_type": "code",
   "execution_count": 43,
   "id": "e61eaddf",
   "metadata": {},
   "outputs": [],
   "source": [
    "d = 30\n",
    "output_constraints = []\n",
    "output_constraints.append(dreal.Or(ackley_value - nn_value <= -d, ackley_value - nn_value >= d))"
   ]
  },
  {
   "cell_type": "code",
   "execution_count": 44,
   "id": "aa4f06bd",
   "metadata": {},
   "outputs": [],
   "source": [
    "all_constraints = all_formulas_nn + ackley_constraints + input_constraints + output_constraints"
   ]
  },
  {
   "cell_type": "code",
   "execution_count": null,
   "id": "5c8409d8",
   "metadata": {},
   "outputs": [],
   "source": []
  },
  {
   "cell_type": "code",
   "execution_count": 45,
   "id": "cf9b56c7",
   "metadata": {},
   "outputs": [
    {
     "name": "stdout",
     "output_type": "stream",
     "text": [
      "CPU times: user 23.6 s, sys: 42.1 ms, total: 23.7 s\n",
      "Wall time: 23.6 s\n"
     ]
    }
   ],
   "source": [
    "%%time\n",
    "dreal.CheckSatisfiability(dreal.And(*all_constraints), 0.001)"
   ]
  },
  {
   "cell_type": "code",
   "execution_count": null,
   "id": "fb9b52e4",
   "metadata": {},
   "outputs": [],
   "source": []
  }
 ],
 "metadata": {
  "kernelspec": {
   "display_name": "Python [conda env:mcmm]",
   "language": "python",
   "name": "conda-env-mcmm-py"
  },
  "language_info": {
   "codemirror_mode": {
    "name": "ipython",
    "version": 3
   },
   "file_extension": ".py",
   "mimetype": "text/x-python",
   "name": "python",
   "nbconvert_exporter": "python",
   "pygments_lexer": "ipython3",
   "version": "3.9.16"
  }
 },
 "nbformat": 4,
 "nbformat_minor": 5
}
