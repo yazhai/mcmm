{
 "cells": [
  {
   "cell_type": "code",
   "execution_count": 1,
   "id": "cc685df0",
   "metadata": {},
   "outputs": [],
   "source": [
    "import src.test_functions as test_functions"
   ]
  },
  {
   "cell_type": "code",
   "execution_count": null,
   "id": "0877f116",
   "metadata": {},
   "outputs": [],
   "source": []
  },
  {
   "cell_type": "code",
   "execution_count": 2,
   "id": "7271e064",
   "metadata": {},
   "outputs": [],
   "source": [
    "import os\n",
    "\n",
    "os.environ['XLA_PYTHON_CLIENT_MEM_FRACTION']='.1'\n",
    "os.environ['XLA_FLAGS']='--xla_gpu_force_compilation_parallelism=1'"
   ]
  },
  {
   "cell_type": "code",
   "execution_count": 3,
   "id": "cfb59c2f",
   "metadata": {},
   "outputs": [],
   "source": [
    "import scipy\n",
    "import numpy as np\n",
    "from jax import numpy as jnp"
   ]
  },
  {
   "cell_type": "code",
   "execution_count": 4,
   "id": "0a6a6ade",
   "metadata": {},
   "outputs": [],
   "source": [
    "import matplotlib.pyplot as plt"
   ]
  },
  {
   "cell_type": "code",
   "execution_count": null,
   "id": "fa3272f4",
   "metadata": {},
   "outputs": [],
   "source": []
  },
  {
   "cell_type": "code",
   "execution_count": 5,
   "id": "775ad48c",
   "metadata": {},
   "outputs": [],
   "source": [
    "import torch.nn as nn\n",
    "import torch\n",
    "\n",
    "from tqdm import tqdm"
   ]
  },
  {
   "cell_type": "code",
   "execution_count": 6,
   "id": "3b4dc137",
   "metadata": {},
   "outputs": [],
   "source": [
    "from sympy import symbols, Max\n",
    "import sympy"
   ]
  },
  {
   "cell_type": "code",
   "execution_count": 7,
   "id": "fa9c3c5c",
   "metadata": {},
   "outputs": [],
   "source": [
    "from pyibex import Interval, IntervalVector, Function, CtcFwdBwd, SepFwdBwd, GEQ"
   ]
  },
  {
   "cell_type": "code",
   "execution_count": null,
   "id": "9f6619e2",
   "metadata": {},
   "outputs": [],
   "source": []
  },
  {
   "cell_type": "code",
   "execution_count": 8,
   "id": "cdc4b625",
   "metadata": {},
   "outputs": [
    {
     "data": {
      "text/plain": [
       "<torch._C.Generator at 0x7f44ba276330>"
      ]
     },
     "execution_count": 8,
     "metadata": {},
     "output_type": "execute_result"
    }
   ],
   "source": [
    "seed = 12\n",
    "\n",
    "import random\n",
    "random.seed(seed)\n",
    "np.random.seed(seed)\n",
    "torch.manual_seed(seed)"
   ]
  },
  {
   "cell_type": "markdown",
   "id": "ea9035cf",
   "metadata": {},
   "source": [
    "##  Sample points for training"
   ]
  },
  {
   "cell_type": "code",
   "execution_count": 9,
   "id": "b7af76b2",
   "metadata": {},
   "outputs": [],
   "source": [
    "def sample(function, bounds, n, local_minima=False):\n",
    "    assert isinstance(bounds, np.ndarray)\n",
    "    assert bounds.shape[1] == 2\n",
    "    xs = np.random.rand(n, bounds.shape[0]) * (bounds[:, 1] - bounds[:, 0]) + bounds[:, 0]\n",
    "    ys = np.array([function(x).item() for x in xs])\n",
    "    \n",
    "    if local_minima:\n",
    "        xs_local_opt = []\n",
    "        ys_local_opt = []\n",
    "        for x0 in xs:\n",
    "            opt_res = scipy.optimize.minimize(func, x0, method='Nelder-Mead')\n",
    "            if opt_res.success:\n",
    "                xs_local_opt.append(opt_res.x)\n",
    "                ys_local_opt.append(opt_res.fun)\n",
    "        xs_local_opt, ys_local_opt = np.array(xs_local_opt), np.array(ys_local_opt)\n",
    "        return xs, ys, xs_local_opt, ys_local_opt\n",
    "    \n",
    "    return xs, ys"
   ]
  },
  {
   "cell_type": "code",
   "execution_count": null,
   "id": "757ee5fa",
   "metadata": {},
   "outputs": [],
   "source": []
  },
  {
   "cell_type": "code",
   "execution_count": 10,
   "id": "08a04e11",
   "metadata": {},
   "outputs": [],
   "source": [
    "dimension = 1\n",
    "\n",
    "func = test_functions.Ackley(dims=dimension)\n",
    "# variables, expression = func.expression()\n",
    "\n",
    "bounds = func.get_default_domain()\n",
    "lb = bounds.T[0]\n",
    "ub = bounds.T[1]"
   ]
  },
  {
   "cell_type": "code",
   "execution_count": null,
   "id": "8c64a655",
   "metadata": {},
   "outputs": [],
   "source": []
  },
  {
   "cell_type": "code",
   "execution_count": 11,
   "id": "5f45dbab",
   "metadata": {},
   "outputs": [],
   "source": [
    "xs = np.arange(lb[0], ub[0], 0.01)\n",
    "ys = np.array([func(jnp.array([x])).item() for x in xs])"
   ]
  },
  {
   "cell_type": "code",
   "execution_count": 12,
   "id": "f3534f15",
   "metadata": {},
   "outputs": [],
   "source": [
    "sampled_xs, sampled_ys = sample(func, bounds, 100, local_minima=False)"
   ]
  },
  {
   "cell_type": "code",
   "execution_count": 13,
   "id": "adc2278f",
   "metadata": {
    "scrolled": true
   },
   "outputs": [
    {
     "name": "stderr",
     "output_type": "stream",
     "text": [
      "/home/zhizhen/anaconda3/envs/mcmm/lib/python3.9/site-packages/numpy/core/getlimits.py:511: UserWarning: Signature b'\\xcc\\xcc\\xcc\\xbd' for <class 'numpy.float32'> does not match any known type: falling back to type probe function.\n",
      "This warnings indicates broken support for the dtype!\n",
      "  machar = _get_machar(dtype)\n",
      "/home/zhizhen/anaconda3/envs/mcmm/lib/python3.9/site-packages/numpy/core/_machar.py:295: RuntimeWarning: overflow encountered in divide\n",
      "  xmax = xmax / (xmin*beta*beta*beta)\n"
     ]
    }
   ],
   "source": [
    "# sampled_xs, sampled_ys = sample(func, bounds, 100)\n",
    "sampled_xs, sampled_ys, sampled_xs_local_min, sampled_ys_local_min = sample(func, bounds, 100, local_minima=True)"
   ]
  },
  {
   "cell_type": "code",
   "execution_count": null,
   "id": "3aef3497",
   "metadata": {},
   "outputs": [],
   "source": [
    "\n"
   ]
  },
  {
   "cell_type": "code",
   "execution_count": 14,
   "id": "9afd1ac1",
   "metadata": {},
   "outputs": [
    {
     "data": {
      "text/plain": [
       "[<matplotlib.lines.Line2D at 0x7f43fc7f3d00>]"
      ]
     },
     "execution_count": 14,
     "metadata": {},
     "output_type": "execute_result"
    },
    {
     "data": {
      "image/png": "[encoded data removed]",
      "text/plain": [
       "<Figure size 1000x800 with 1 Axes>"
      ]
     },
     "metadata": {},
     "output_type": "display_data"
    }
   ],
   "source": [
    "fig = plt.figure(figsize=(10,8))\n",
    "plt.scatter(sampled_xs[:, 0], sampled_ys, s=15, c='red', zorder=10)\n",
    "# plt.scatter(sampled_xs_local_min[:, 0], sampled_ys_local_min, s=15, c='red', zorder=10)\n",
    "\n",
    "plt.plot(xs, ys, zorder=1, linewidth=1, alpha=0.7)\n"
   ]
  },
  {
   "cell_type": "code",
   "execution_count": 15,
   "id": "2e45c5d0",
   "metadata": {},
   "outputs": [
    {
     "data": {
      "text/plain": [
       "[<matplotlib.lines.Line2D at 0x7f43fc6e5a90>]"
      ]
     },
     "execution_count": 15,
     "metadata": {},
     "output_type": "execute_result"
    },
    {
     "data": {
      "image/png": "[encoded data removed]",
      "text/plain": [
       "<Figure size 1000x800 with 1 Axes>"
      ]
     },
     "metadata": {},
     "output_type": "display_data"
    }
   ],
   "source": [
    "fig = plt.figure(figsize=(10,8))\n",
    "# plt.scatter(sampled_xs[:, 0], sampled_ys, s=15, c='red', zorder=10)\n",
    "plt.scatter(sampled_xs_local_min[:, 0], sampled_ys_local_min, s=15, c='red', zorder=10)\n",
    "\n",
    "plt.plot(xs, ys, zorder=1, linewidth=1, alpha=0.7)\n"
   ]
  },
  {
   "cell_type": "code",
   "execution_count": null,
   "id": "a3fe0a45",
   "metadata": {},
   "outputs": [],
   "source": []
  },
  {
   "cell_type": "markdown",
   "id": "ac36e4af",
   "metadata": {},
   "source": [
    "## Fit a neural network"
   ]
  },
  {
   "cell_type": "code",
   "execution_count": 16,
   "id": "49f891b6",
   "metadata": {},
   "outputs": [],
   "source": [
    "device = torch.device('cuda' if torch.cuda.is_available() else 'cpu')"
   ]
  },
  {
   "cell_type": "code",
   "execution_count": 17,
   "id": "cba1f102",
   "metadata": {},
   "outputs": [],
   "source": [
    "xs_train = sampled_xs\n",
    "ys_train = np.expand_dims(sampled_ys, axis=1)"
   ]
  },
  {
   "cell_type": "code",
   "execution_count": 18,
   "id": "2d16eb86",
   "metadata": {},
   "outputs": [],
   "source": [
    "hidden_dim = 16\n",
    "\n",
    "model = nn.Sequential(\n",
    "    nn.Linear(dimension, hidden_dim),\n",
    "    nn.ReLU(),\n",
    "    nn.Linear(hidden_dim, 1)\n",
    ")"
   ]
  },
  {
   "cell_type": "raw",
   "id": "8acfc5d3",
   "metadata": {},
   "source": [
    "class SingleLayerNet(nn.Module):\n",
    "    def __init__(self, input_size, hidden_size):\n",
    "        super(SingleLayerNet, self).__init__()\n",
    "        self.fc1 = nn.Linear(input_size, hidden_size)\n",
    "        self.fc2 = nn.Linear(hidden_size, 1)\n",
    "        self.relu = nn.ReLU()\n",
    "\n",
    "    def forward(self, x):\n",
    "        x = self.fc1(x)\n",
    "        x = self.relu(x)\n",
    "        x = self.fc2(x)\n",
    "        return x"
   ]
  },
  {
   "cell_type": "raw",
   "id": "026faf00",
   "metadata": {},
   "source": [
    "hidden_dim = 16\n",
    "model = SingleLayerNet(dimension, hidden_dim)"
   ]
  },
  {
   "cell_type": "code",
   "execution_count": 19,
   "id": "8cc34956",
   "metadata": {},
   "outputs": [],
   "source": [
    "criterion = nn.MSELoss()\n",
    "# optimizer = torch.optim.Adam(model.parameters(), lr=0.0001)\n",
    "optimizer = torch.optim.RMSprop(model.parameters(), lr=0.001)"
   ]
  },
  {
   "cell_type": "code",
   "execution_count": 20,
   "id": "1ae7f747",
   "metadata": {},
   "outputs": [
    {
     "name": "stderr",
     "output_type": "stream",
     "text": [
      "100%|███████████████████████████████████| 10000/10000 [00:08<00:00, 1168.12it/s]\n"
     ]
    }
   ],
   "source": [
    "num_epochs = 10000\n",
    "\n",
    "model.to(device)\n",
    "\n",
    "loss_record = []\n",
    "for epoch in tqdm(range(num_epochs)):\n",
    "    model.train()\n",
    "    \n",
    "    x_train_tensor = torch.FloatTensor(xs_train).to(device)\n",
    "    y_train_tensor = torch.FloatTensor(ys_train).to(device)\n",
    "    y_pred = model(x_train_tensor)\n",
    "    loss = criterion(y_pred, y_train_tensor)\n",
    "    \n",
    "    loss_record.append(loss.item())\n",
    "    \n",
    "    optimizer.zero_grad()\n",
    "    loss.backward()\n",
    "    \n",
    "    optimizer.step()"
   ]
  },
  {
   "cell_type": "code",
   "execution_count": 21,
   "id": "c2de6f53",
   "metadata": {},
   "outputs": [
    {
     "data": {
      "text/plain": [
       "[<matplotlib.lines.Line2D at 0x7f43fc6ad130>]"
      ]
     },
     "execution_count": 21,
     "metadata": {},
     "output_type": "execute_result"
    },
    {
     "data": {
      "image/png": "[encoded data removed]",
      "text/plain": [
       "<Figure size 640x480 with 1 Axes>"
      ]
     },
     "metadata": {},
     "output_type": "display_data"
    }
   ],
   "source": [
    "plt.plot(loss_record)"
   ]
  },
  {
   "cell_type": "code",
   "execution_count": 22,
   "id": "71459119",
   "metadata": {},
   "outputs": [
    {
     "data": {
      "text/plain": [
       "0.7538480162620544"
      ]
     },
     "execution_count": 22,
     "metadata": {},
     "output_type": "execute_result"
    }
   ],
   "source": [
    "loss_record[-1]"
   ]
  },
  {
   "cell_type": "code",
   "execution_count": 23,
   "id": "3a0f3794",
   "metadata": {},
   "outputs": [
    {
     "data": {
      "text/plain": [
       "array([-32.768, -32.758, -32.748, ...,  32.742,  32.752,  32.762])"
      ]
     },
     "execution_count": 23,
     "metadata": {},
     "output_type": "execute_result"
    }
   ],
   "source": [
    "xs"
   ]
  },
  {
   "cell_type": "code",
   "execution_count": 24,
   "id": "f0cecd1e",
   "metadata": {},
   "outputs": [],
   "source": [
    "with torch.no_grad():\n",
    "    fitted_ys = model(torch.FloatTensor(np.expand_dims(xs, axis=1)).to(device)).detach().cpu().squeeze().numpy()"
   ]
  },
  {
   "cell_type": "code",
   "execution_count": 25,
   "id": "6ed99357",
   "metadata": {},
   "outputs": [
    {
     "data": {
      "text/plain": [
       "array([0.45149422, 0.38161469, 0.31562424, ..., 0.08309746, 0.14551735,\n",
       "       0.21184731])"
      ]
     },
     "execution_count": 25,
     "metadata": {},
     "output_type": "execute_result"
    }
   ],
   "source": [
    "abs(ys - fitted_ys)"
   ]
  },
  {
   "cell_type": "code",
   "execution_count": 26,
   "id": "a49b9d7e",
   "metadata": {},
   "outputs": [
    {
     "data": {
      "image/png": "[encoded data removed]",
      "text/plain": [
       "<Figure size 1000x800 with 1 Axes>"
      ]
     },
     "metadata": {},
     "output_type": "display_data"
    }
   ],
   "source": [
    "fig, ax = plt.subplots(figsize=(10,8))\n",
    "\n",
    "ax.scatter(xs_train[:, 0], ys_train[:, 0], s=15, c='red', zorder=10, label=\"samples\")\n",
    "# plt.scatter(sampled_xs_local_min[:, 0], sampled_ys_local_min, s=15, c='red', zorder=10)\n",
    "\n",
    "ax.plot(xs, ys, zorder=1, linewidth=1, alpha=0.7, label=\"original_function\")\n",
    "ax.plot(xs, fitted_ys, linewidth=1, alpha=0.7, label=\"fitted_function\")\n",
    "\n",
    "# y_diff_squared = (ys - fitted_ys) ** 2\n",
    "# ax.plot(xs, y_diff_squared, linewidth=1, alpha=0.4, label=\"squared_diff\")\n",
    "\n",
    "y_diff_abs = abs(ys - fitted_ys)\n",
    "ax.plot(xs, y_diff_abs, linewidth=1, alpha=0.4, label=\"abs_diff\")\n",
    "\n",
    "ax.legend()\n",
    "\n",
    "# And a corresponding grid\n",
    "ax.grid(which='both')\n",
    "\n",
    "# Or if you want different settings for the grids:\n",
    "ax.grid(which='minor', alpha=0.2)\n",
    "ax.grid(which='major', alpha=0.5)"
   ]
  },
  {
   "cell_type": "code",
   "execution_count": null,
   "id": "06271170",
   "metadata": {},
   "outputs": [],
   "source": []
  },
  {
   "cell_type": "markdown",
   "id": "be5fbcc5",
   "metadata": {},
   "source": [
    "## Convert the neural network to ibex expression (through sympy) "
   ]
  },
  {
   "cell_type": "code",
   "execution_count": 27,
   "id": "fbaf4f42",
   "metadata": {},
   "outputs": [],
   "source": [
    "layer_idx = 2\n",
    "layer = model[layer_idx]"
   ]
  },
  {
   "cell_type": "code",
   "execution_count": 28,
   "id": "cfa2c45d",
   "metadata": {},
   "outputs": [],
   "source": [
    "weight = layer.weight\n",
    "bias = layer.bias\n",
    "width = weight.shape[1]"
   ]
  },
  {
   "cell_type": "code",
   "execution_count": 29,
   "id": "aedde378",
   "metadata": {},
   "outputs": [],
   "source": [
    "inter_vars = symbols(', '.join(['x[{}][{}]'.format(layer_idx, i) for i in range(width)]))"
   ]
  },
  {
   "cell_type": "code",
   "execution_count": 30,
   "id": "1358730a",
   "metadata": {},
   "outputs": [
    {
     "data": {
      "text/plain": [
       "(x[2][0],\n",
       " x[2][1],\n",
       " x[2][2],\n",
       " x[2][3],\n",
       " x[2][4],\n",
       " x[2][5],\n",
       " x[2][6],\n",
       " x[2][7],\n",
       " x[2][8],\n",
       " x[2][9],\n",
       " x[2][10],\n",
       " x[2][11],\n",
       " x[2][12],\n",
       " x[2][13],\n",
       " x[2][14],\n",
       " x[2][15])"
      ]
     },
     "execution_count": 30,
     "metadata": {},
     "output_type": "execute_result"
    }
   ],
   "source": [
    "inter_vars"
   ]
  },
  {
   "cell_type": "code",
   "execution_count": 31,
   "id": "b033192f",
   "metadata": {},
   "outputs": [],
   "source": [
    "X = np.expand_dims(np.array(inter_vars), axis=1)"
   ]
  },
  {
   "cell_type": "code",
   "execution_count": 32,
   "id": "f45cd1b7",
   "metadata": {},
   "outputs": [],
   "source": [
    "W = weight.detach().cpu().numpy()"
   ]
  },
  {
   "cell_type": "code",
   "execution_count": 33,
   "id": "d3946122",
   "metadata": {},
   "outputs": [
    {
     "data": {
      "text/plain": [
       "array([-0.5920283], dtype=float32)"
      ]
     },
     "execution_count": 33,
     "metadata": {},
     "output_type": "execute_result"
    }
   ],
   "source": [
    "b = bias.detach().cpu().numpy()\n",
    "b"
   ]
  },
  {
   "cell_type": "code",
   "execution_count": 34,
   "id": "b6fb5520",
   "metadata": {},
   "outputs": [],
   "source": [
    "expression = (W @ X).squeeze(axis=1) + b\n",
    "expression = expression.item()"
   ]
  },
  {
   "cell_type": "code",
   "execution_count": null,
   "id": "b76ada0c",
   "metadata": {},
   "outputs": [],
   "source": []
  },
  {
   "cell_type": "code",
   "execution_count": 35,
   "id": "8372ef7a",
   "metadata": {},
   "outputs": [
    {
     "data": {
      "text/plain": [
       "ReLU()"
      ]
     },
     "execution_count": 35,
     "metadata": {},
     "output_type": "execute_result"
    }
   ],
   "source": [
    "layer_idx = 1\n",
    "layer = model[layer_idx]\n",
    "layer"
   ]
  },
  {
   "cell_type": "code",
   "execution_count": 36,
   "id": "589a8584",
   "metadata": {},
   "outputs": [],
   "source": [
    "prev_inter_vars = inter_vars\n",
    "width = len(inter_vars)\n",
    "inter_vars = symbols(', '.join(['x[{}][{}]'.format(layer_idx, i) for i in range(width)]))"
   ]
  },
  {
   "cell_type": "code",
   "execution_count": 37,
   "id": "09c6b14a",
   "metadata": {},
   "outputs": [
    {
     "data": {
      "text/latex": [
       "$\\displaystyle x[1][0]$"
      ],
      "text/plain": [
       "x[1][0]"
      ]
     },
     "execution_count": 37,
     "metadata": {},
     "output_type": "execute_result"
    }
   ],
   "source": [
    "inter_vars[0]"
   ]
  },
  {
   "cell_type": "code",
   "execution_count": 38,
   "id": "9017192f",
   "metadata": {},
   "outputs": [],
   "source": [
    "replace_dict = {}\n",
    "for curr_var, prev_var in zip(inter_vars, prev_inter_vars):\n",
    "    replace_dict[prev_var] = Max(curr_var, 0)"
   ]
  },
  {
   "cell_type": "code",
   "execution_count": 39,
   "id": "1fc7e08b",
   "metadata": {},
   "outputs": [],
   "source": [
    "prev_expression = expression\n",
    "for key in replace_dict:\n",
    "    expression = expression.subs(key, replace_dict[key])"
   ]
  },
  {
   "cell_type": "code",
   "execution_count": 40,
   "id": "1e9ad7ab",
   "metadata": {},
   "outputs": [
    {
     "data": {
      "text/latex": [
       "$\\displaystyle 1.0933700799942 \\max\\left(0, x[1][0]\\right) + 0.358826845884323 \\max\\left(0, x[1][10]\\right) + 0.562004864215851 \\max\\left(0, x[1][11]\\right) + 0.858177721500397 \\max\\left(0, x[1][12]\\right) + 0.645220041275024 \\max\\left(0, x[1][13]\\right) + 0.899636745452881 \\max\\left(0, x[1][14]\\right) + 0.519101083278656 \\max\\left(0, x[1][15]\\right) + 0.720349311828613 \\max\\left(0, x[1][1]\\right) - 0.0761731863021851 \\max\\left(0, x[1][2]\\right) - 1.9878340959549 \\max\\left(0, x[1][3]\\right) + 0.861736118793488 \\max\\left(0, x[1][4]\\right) - 2.17978596687317 \\max\\left(0, x[1][5]\\right) - 2.06734085083008 \\max\\left(0, x[1][6]\\right) + 0.866396367549896 \\max\\left(0, x[1][7]\\right) + 0.785223424434662 \\max\\left(0, x[1][8]\\right) - 1.57695317268372 \\max\\left(0, x[1][9]\\right) - 0.592028319835663$"
      ],
      "text/plain": [
       "1.0933700799942*Max(0, x[1][0]) + 0.358826845884323*Max(0, x[1][10]) + 0.562004864215851*Max(0, x[1][11]) + 0.858177721500397*Max(0, x[1][12]) + 0.645220041275024*Max(0, x[1][13]) + 0.899636745452881*Max(0, x[1][14]) + 0.519101083278656*Max(0, x[1][15]) + 0.720349311828613*Max(0, x[1][1]) - 0.0761731863021851*Max(0, x[1][2]) - 1.9878340959549*Max(0, x[1][3]) + 0.861736118793488*Max(0, x[1][4]) - 2.17978596687317*Max(0, x[1][5]) - 2.06734085083008*Max(0, x[1][6]) + 0.866396367549896*Max(0, x[1][7]) + 0.785223424434662*Max(0, x[1][8]) - 1.57695317268372*Max(0, x[1][9]) - 0.592028319835663"
      ]
     },
     "execution_count": 40,
     "metadata": {},
     "output_type": "execute_result"
    }
   ],
   "source": [
    "expression"
   ]
  },
  {
   "cell_type": "code",
   "execution_count": 41,
   "id": "19344702",
   "metadata": {},
   "outputs": [
    {
     "data": {
      "text/plain": [
       "Linear(in_features=1, out_features=16, bias=True)"
      ]
     },
     "execution_count": 41,
     "metadata": {},
     "output_type": "execute_result"
    }
   ],
   "source": [
    "layer_idx = 0\n",
    "layer = model[layer_idx]\n",
    "layer"
   ]
  },
  {
   "cell_type": "code",
   "execution_count": 42,
   "id": "7929d09e",
   "metadata": {},
   "outputs": [],
   "source": [
    "weight = layer.weight\n",
    "bias = layer.bias\n",
    "width = weight.shape[1]"
   ]
  },
  {
   "cell_type": "code",
   "execution_count": 43,
   "id": "50385b3d",
   "metadata": {},
   "outputs": [],
   "source": [
    "prev_inter_vars = inter_vars\n",
    "inter_vars = symbols(', '.join(['x[{}]'.format(i) for i in range(width)]))\n",
    "if isinstance(inter_vars, sympy.Symbol):\n",
    "    inter_vars = [inter_vars]"
   ]
  },
  {
   "cell_type": "code",
   "execution_count": null,
   "id": "ce1919a5",
   "metadata": {},
   "outputs": [],
   "source": []
  },
  {
   "cell_type": "code",
   "execution_count": 44,
   "id": "1fcd5820",
   "metadata": {},
   "outputs": [],
   "source": [
    "X = np.expand_dims(np.array(inter_vars), axis=1)"
   ]
  },
  {
   "cell_type": "code",
   "execution_count": 45,
   "id": "6362f156",
   "metadata": {},
   "outputs": [],
   "source": [
    "W = weight.detach().cpu().numpy()"
   ]
  },
  {
   "cell_type": "code",
   "execution_count": 46,
   "id": "a65ab7f5",
   "metadata": {},
   "outputs": [
    {
     "data": {
      "text/plain": [
       "array([ 1.8778238 ,  1.4689794 , -0.8120363 , -2.7309587 ,  0.06302264,\n",
       "       -5.9820867 , -3.1030977 ,  0.29420918, -0.3691355 , -2.5594766 ,\n",
       "        0.01519685,  0.8113921 ,  1.1738629 , -0.32458097, -0.21616901,\n",
       "        0.17502587], dtype=float32)"
      ]
     },
     "execution_count": 46,
     "metadata": {},
     "output_type": "execute_result"
    }
   ],
   "source": [
    "b = bias.detach().cpu().numpy()\n",
    "b"
   ]
  },
  {
   "cell_type": "code",
   "execution_count": 47,
   "id": "f061e70a",
   "metadata": {},
   "outputs": [],
   "source": [
    "mat_res = (W @ X).squeeze(axis=1) + b"
   ]
  },
  {
   "cell_type": "code",
   "execution_count": null,
   "id": "3c3f2da3",
   "metadata": {},
   "outputs": [],
   "source": []
  },
  {
   "cell_type": "code",
   "execution_count": 48,
   "id": "27056f22",
   "metadata": {},
   "outputs": [
    {
     "data": {
      "text/plain": [
       "{x[1][0]: 0.0577150397002697*x[0] + 1.87782382965088,\n",
       " x[1][1]: 0.0444902218878269*x[0] + 1.4689793586731,\n",
       " x[1][2]: -0.0251407120376825*x[0] - 0.812036275863647,\n",
       " x[1][3]: 0.252230018377304*x[0] - 2.73095870018005,\n",
       " x[1][4]: 0.0630226358771324 - 0.656064033508301*x[0],\n",
       " x[1][5]: -0.785684049129486*x[0] - 5.98208665847778,\n",
       " x[1][6]: 0.500288009643555*x[0] - 3.10309767723083,\n",
       " x[1][7]: 0.294209182262421 - 0.925796329975128*x[0],\n",
       " x[1][8]: 1.01466274261475*x[0] - 0.369135499000549,\n",
       " x[1][9]: 0.269831091165543*x[0] - 2.55947661399841,\n",
       " x[1][10]: 0.0151968458667397 - 0.592987537384033*x[0],\n",
       " x[1][11]: 0.0236415714025497*x[0] + 0.81139212846756,\n",
       " x[1][12]: 0.0356105752289295*x[0] + 1.17386293411255,\n",
       " x[1][13]: 0.797466337680817*x[0] - 0.3245809674263,\n",
       " x[1][14]: 0.657944083213806*x[0] - 0.216169014573097,\n",
       " x[1][15]: 0.1750258654356 - 0.79205846786499*x[0]}"
      ]
     },
     "execution_count": 48,
     "metadata": {},
     "output_type": "execute_result"
    }
   ],
   "source": [
    "replace_dict = {}\n",
    "for curr_expr, prev_var in zip(mat_res, prev_inter_vars):\n",
    "    replace_dict[prev_var] = curr_expr\n",
    "replace_dict"
   ]
  },
  {
   "cell_type": "code",
   "execution_count": 49,
   "id": "113ad6c6",
   "metadata": {},
   "outputs": [],
   "source": [
    "prev_expression = expression\n",
    "for key in replace_dict:\n",
    "    expression = expression.subs(key, replace_dict[key])"
   ]
  },
  {
   "cell_type": "code",
   "execution_count": 50,
   "id": "60275ea7",
   "metadata": {},
   "outputs": [
    {
     "data": {
      "text/plain": [
       "'0.358826845884323*Max(0, 0.0151968458667397 - 0.592987537384033*x[0]) + 0.861736118793488*Max(0, 0.0630226358771324 - 0.656064033508301*x[0]) + 0.519101083278656*Max(0, 0.1750258654356 - 0.79205846786499*x[0]) + 0.866396367549896*Max(0, 0.294209182262421 - 0.925796329975128*x[0]) - 2.17978596687317*Max(0, -0.785684049129486*x[0] - 5.98208665847778) - 0.0761731863021851*Max(0, -0.0251407120376825*x[0] - 0.812036275863647) + 0.562004864215851*Max(0, 0.0236415714025497*x[0] + 0.81139212846756) + 0.858177721500397*Max(0, 0.0356105752289295*x[0] + 1.17386293411255) + 0.720349311828613*Max(0, 0.0444902218878269*x[0] + 1.4689793586731) + 1.0933700799942*Max(0, 0.0577150397002697*x[0] + 1.87782382965088) - 1.9878340959549*Max(0, 0.252230018377304*x[0] - 2.73095870018005) - 1.57695317268372*Max(0, 0.269831091165543*x[0] - 2.55947661399841) - 2.06734085083008*Max(0, 0.500288009643555*x[0] - 3.10309767723083) + 0.899636745452881*Max(0, 0.657944083213806*x[0] - 0.216169014573097) + 0.645220041275024*Max(0, 0.797466337680817*x[0] - 0.3245809674263) + 0.785223424434662*Max(0, 1.01466274261475*x[0] - 0.369135499000549) - 0.592028319835663'"
      ]
     },
     "execution_count": 50,
     "metadata": {},
     "output_type": "execute_result"
    }
   ],
   "source": [
    "str(expression)"
   ]
  },
  {
   "cell_type": "code",
   "execution_count": null,
   "id": "e1cb785b",
   "metadata": {},
   "outputs": [],
   "source": []
  },
  {
   "cell_type": "code",
   "execution_count": 51,
   "id": "681e3015",
   "metadata": {},
   "outputs": [],
   "source": [
    "variables, func_expr = func.expression()"
   ]
  },
  {
   "cell_type": "code",
   "execution_count": 52,
   "id": "01d0456c",
   "metadata": {},
   "outputs": [
    {
     "data": {
      "text/plain": [
       "' (-(20) * exp(-(0.2)*sqrt(( + (x[0]^2)) / 1))) + ( - exp(( + cos((6.283185307179586)*x[0])) / 1)) + ( + (20) + exp(1.0) )'"
      ]
     },
     "execution_count": 52,
     "metadata": {},
     "output_type": "execute_result"
    }
   ],
   "source": [
    "func_expr"
   ]
  },
  {
   "cell_type": "code",
   "execution_count": null,
   "id": "9ecb91ec",
   "metadata": {},
   "outputs": [],
   "source": []
  },
  {
   "cell_type": "code",
   "execution_count": null,
   "id": "ca4c4079",
   "metadata": {},
   "outputs": [],
   "source": []
  },
  {
   "cell_type": "markdown",
   "id": "7d44656c",
   "metadata": {},
   "source": [
    "### (Finally..) prune the box"
   ]
  },
  {
   "cell_type": "code",
   "execution_count": 53,
   "id": "5d7028d3",
   "metadata": {},
   "outputs": [],
   "source": [
    "expr_nn = str(expression).replace(\"Max\", \"max\")"
   ]
  },
  {
   "cell_type": "code",
   "execution_count": 54,
   "id": "5cc0fba9",
   "metadata": {},
   "outputs": [
    {
     "data": {
      "text/plain": [
       "'0.358826845884323*max(0, 0.0151968458667397 - 0.592987537384033*x[0]) + 0.861736118793488*max(0, 0.0630226358771324 - 0.656064033508301*x[0]) + 0.519101083278656*max(0, 0.1750258654356 - 0.79205846786499*x[0]) + 0.866396367549896*max(0, 0.294209182262421 - 0.925796329975128*x[0]) - 2.17978596687317*max(0, -0.785684049129486*x[0] - 5.98208665847778) - 0.0761731863021851*max(0, -0.0251407120376825*x[0] - 0.812036275863647) + 0.562004864215851*max(0, 0.0236415714025497*x[0] + 0.81139212846756) + 0.858177721500397*max(0, 0.0356105752289295*x[0] + 1.17386293411255) + 0.720349311828613*max(0, 0.0444902218878269*x[0] + 1.4689793586731) + 1.0933700799942*max(0, 0.0577150397002697*x[0] + 1.87782382965088) - 1.9878340959549*max(0, 0.252230018377304*x[0] - 2.73095870018005) - 1.57695317268372*max(0, 0.269831091165543*x[0] - 2.55947661399841) - 2.06734085083008*max(0, 0.500288009643555*x[0] - 3.10309767723083) + 0.899636745452881*max(0, 0.657944083213806*x[0] - 0.216169014573097) + 0.645220041275024*max(0, 0.797466337680817*x[0] - 0.3245809674263) + 0.785223424434662*max(0, 1.01466274261475*x[0] - 0.369135499000549) - 0.592028319835663'"
      ]
     },
     "execution_count": 54,
     "metadata": {},
     "output_type": "execute_result"
    }
   ],
   "source": [
    "expr_nn"
   ]
  },
  {
   "cell_type": "code",
   "execution_count": 55,
   "id": "d2b5d7d7",
   "metadata": {},
   "outputs": [
    {
     "data": {
      "text/plain": [
       "['x[1]']"
      ]
     },
     "execution_count": 55,
     "metadata": {},
     "output_type": "execute_result"
    }
   ],
   "source": [
    "variables"
   ]
  },
  {
   "cell_type": "code",
   "execution_count": 56,
   "id": "33c58241",
   "metadata": {},
   "outputs": [],
   "source": [
    "def expression_squared_diff(expr1, expr2):\n",
    "    return \"(({}) - ({})) ^ 2\".format(expr1, expr2)"
   ]
  },
  {
   "cell_type": "code",
   "execution_count": 57,
   "id": "ebb753a3",
   "metadata": {},
   "outputs": [],
   "source": [
    "def expression_absolute_diff(expr1, expr2):\n",
    "    return \"abs(({}) - ({}))\".format(expr1, expr2)"
   ]
  },
  {
   "cell_type": "code",
   "execution_count": 58,
   "id": "b94523a5",
   "metadata": {},
   "outputs": [],
   "source": [
    "def expression_add_const(expr, const):\n",
    "    return \"({}) + ({})\".format(expr, const)"
   ]
  },
  {
   "cell_type": "code",
   "execution_count": 59,
   "id": "327c58f1",
   "metadata": {},
   "outputs": [],
   "source": [
    "ibex_expression = expression_squared_diff(func_expr, expr_nn)"
   ]
  },
  {
   "cell_type": "code",
   "execution_count": 60,
   "id": "d1f2f4ac",
   "metadata": {},
   "outputs": [],
   "source": [
    "ibex_expression = expression_absolute_diff(func_expr, expr_nn)"
   ]
  },
  {
   "cell_type": "code",
   "execution_count": 61,
   "id": "092b09e1",
   "metadata": {},
   "outputs": [],
   "source": [
    "ibex_expression = expression_add_const(ibex_expression, -00)"
   ]
  },
  {
   "cell_type": "code",
   "execution_count": 62,
   "id": "38a17842",
   "metadata": {},
   "outputs": [
    {
     "data": {
      "text/plain": [
       "'(abs(( (-(20) * exp(-(0.2)*sqrt(( + (x[0]^2)) / 1))) + ( - exp(( + cos((6.283185307179586)*x[0])) / 1)) + ( + (20) + exp(1.0) )) - (0.358826845884323*max(0, 0.0151968458667397 - 0.592987537384033*x[0]) + 0.861736118793488*max(0, 0.0630226358771324 - 0.656064033508301*x[0]) + 0.519101083278656*max(0, 0.1750258654356 - 0.79205846786499*x[0]) + 0.866396367549896*max(0, 0.294209182262421 - 0.925796329975128*x[0]) - 2.17978596687317*max(0, -0.785684049129486*x[0] - 5.98208665847778) - 0.0761731863021851*max(0, -0.0251407120376825*x[0] - 0.812036275863647) + 0.562004864215851*max(0, 0.0236415714025497*x[0] + 0.81139212846756) + 0.858177721500397*max(0, 0.0356105752289295*x[0] + 1.17386293411255) + 0.720349311828613*max(0, 0.0444902218878269*x[0] + 1.4689793586731) + 1.0933700799942*max(0, 0.0577150397002697*x[0] + 1.87782382965088) - 1.9878340959549*max(0, 0.252230018377304*x[0] - 2.73095870018005) - 1.57695317268372*max(0, 0.269831091165543*x[0] - 2.55947661399841) - 2.06734085083008*max(0, 0.500288009643555*x[0] - 3.10309767723083) + 0.899636745452881*max(0, 0.657944083213806*x[0] - 0.216169014573097) + 0.645220041275024*max(0, 0.797466337680817*x[0] - 0.3245809674263) + 0.785223424434662*max(0, 1.01466274261475*x[0] - 0.369135499000549) - 0.592028319835663))) + (0)'"
      ]
     },
     "execution_count": 62,
     "metadata": {},
     "output_type": "execute_result"
    }
   ],
   "source": [
    "ibex_expression"
   ]
  },
  {
   "cell_type": "code",
   "execution_count": 63,
   "id": "8de4d737",
   "metadata": {},
   "outputs": [],
   "source": [
    "f = Function(*variables, ibex_expression)\n",
    "X_in = IntervalVector(Interval(-10, 10))"
   ]
  },
  {
   "cell_type": "code",
   "execution_count": 64,
   "id": "2e9f3a04",
   "metadata": {},
   "outputs": [],
   "source": [
    "ctc = CtcFwdBwd(f, GEQ)  # root is when f = 0\n",
    "ctc.contract(X_in)"
   ]
  },
  {
   "cell_type": "code",
   "execution_count": 65,
   "id": "13a38a9c",
   "metadata": {},
   "outputs": [
    {
     "data": {
      "text/plain": [
       "([-10, 10])"
      ]
     },
     "execution_count": 65,
     "metadata": {},
     "output_type": "execute_result"
    }
   ],
   "source": [
    "X_in"
   ]
  },
  {
   "cell_type": "code",
   "execution_count": null,
   "id": "f83bd390",
   "metadata": {},
   "outputs": [],
   "source": []
  },
  {
   "cell_type": "code",
   "execution_count": null,
   "id": "008f1834",
   "metadata": {},
   "outputs": [],
   "source": []
  },
  {
   "cell_type": "markdown",
   "id": "31ffe277",
   "metadata": {},
   "source": [
    "## Convert the neural network to dReal"
   ]
  },
  {
   "cell_type": "code",
   "execution_count": 66,
   "id": "3402958d",
   "metadata": {},
   "outputs": [],
   "source": [
    "import dreal"
   ]
  },
  {
   "cell_type": "code",
   "execution_count": 67,
   "id": "fe795104",
   "metadata": {},
   "outputs": [],
   "source": [
    "initial_variables = [dreal.Variable('x[{}]'.format(i)) for i in range(dimension)]"
   ]
  },
  {
   "cell_type": "code",
   "execution_count": 68,
   "id": "af502851",
   "metadata": {},
   "outputs": [],
   "source": [
    "curr_vars = initial_variables\n",
    "formulas_by_layer = []\n",
    "vars_by_layer = [initial_variables]\n",
    "\n",
    "for layer_idx, layer in enumerate(model):\n",
    "    prev_vars = curr_vars\n",
    "    if isinstance(layer, nn.Linear):\n",
    "        W = layer.weight.detach().cpu().numpy()\n",
    "        b = np.expand_dims(layer.bias.detach().cpu().numpy(), axis=1)\n",
    "        X = np.expand_dims(prev_vars, axis=1)\n",
    "        \n",
    "        curr_vars = [dreal.Variable(\"x[{}][{}]\".format(layer_idx + 1, i)) for i in range(W.shape[0])]\n",
    "        vars_by_layer.append(curr_vars)\n",
    "        expressions = (W @ X + b)[:, 0]\n",
    "        \n",
    "        formulas = [(curr_var == expr) for curr_var, expr in zip(curr_vars, expressions)]\n",
    "        formulas_by_layer.append(formulas)\n",
    "        \n",
    "    elif isinstance(layer, nn.ReLU):\n",
    "        layer_width = len(prev_vars)\n",
    "        curr_vars = [dreal.Variable(\"x[{}][{}]\".format(layer_idx + 1, i)) for i in range(layer_width)]\n",
    "        vars_by_layer.append(curr_vars)\n",
    "        \n",
    "        expressions = [dreal.Max(0, prev_var) for prev_var in prev_vars]\n",
    "        \n",
    "        formulas = [(curr_var == expr) for curr_var, expr in zip(curr_vars, expressions)]\n",
    "        formulas_by_layer.append(formulas)\n",
    "        "
   ]
  },
  {
   "cell_type": "code",
   "execution_count": 69,
   "id": "b2db6bf4",
   "metadata": {},
   "outputs": [],
   "source": [
    "all_formulas_nn = [formula for formulas in formulas_by_layer for formula in formulas]"
   ]
  },
  {
   "cell_type": "code",
   "execution_count": 70,
   "id": "6e94edb3",
   "metadata": {},
   "outputs": [
    {
     "data": {
      "text/plain": [
       "[<Formula \"(x[1][0] == (1.877823829650879 + 0.0577150397002697 * x[0]))\">,\n",
       " <Formula \"(x[1][1] == (1.4689793586730958 + 0.04449022188782692 * x[0]))\">,\n",
       " <Formula \"(x[1][2] == (-0.81203627586364746 - 0.025140712037682534 * x[0]))\">,\n",
       " <Formula \"(x[1][3] == (-2.7309587001800537 + 0.25223001837730408 * x[0]))\">,\n",
       " <Formula \"(x[1][4] == (0.063022635877132416 - 0.65606403350830079 * x[0]))\">,\n",
       " <Formula \"(x[1][5] == (-5.9820866584777832 - 0.78568404912948609 * x[0]))\">,\n",
       " <Formula \"(x[1][6] == (-3.1030976772308349 + 0.50028800964355469 * x[0]))\">,\n",
       " <Formula \"(x[1][7] == (0.29420918226242066 - 0.92579632997512818 * x[0]))\">,\n",
       " <Formula \"(x[1][8] == (-0.36913549900054931 + 1.0146627426147461 * x[0]))\">,\n",
       " <Formula \"(x[1][9] == (-2.559476613998413 + 0.26983109116554261 * x[0]))\">,\n",
       " <Formula \"(x[1][10] == (0.01519684586673975 - 0.59298753738403321 * x[0]))\">,\n",
       " <Formula \"(x[1][11] == (0.81139212846755982 + 0.023641571402549744 * x[0]))\">,\n",
       " <Formula \"(x[1][12] == (1.1738629341125489 + 0.03561057522892952 * x[0]))\">,\n",
       " <Formula \"(x[1][13] == (-0.32458096742630004 + 0.79746633768081666 * x[0]))\">,\n",
       " <Formula \"(x[1][14] == (-0.21616901457309722 + 0.65794408321380616 * x[0]))\">,\n",
       " <Formula \"(x[1][15] == (0.17502586543560029 - 0.79205846786499024 * x[0]))\">,\n",
       " <Formula \"(x[2][0] == max(0, x[1][0]))\">,\n",
       " <Formula \"(x[2][1] == max(0, x[1][1]))\">,\n",
       " <Formula \"(x[2][2] == max(0, x[1][2]))\">,\n",
       " <Formula \"(x[2][3] == max(0, x[1][3]))\">,\n",
       " <Formula \"(x[2][4] == max(0, x[1][4]))\">,\n",
       " <Formula \"(x[2][5] == max(0, x[1][5]))\">,\n",
       " <Formula \"(x[2][6] == max(0, x[1][6]))\">,\n",
       " <Formula \"(x[2][7] == max(0, x[1][7]))\">,\n",
       " <Formula \"(x[2][8] == max(0, x[1][8]))\">,\n",
       " <Formula \"(x[2][9] == max(0, x[1][9]))\">,\n",
       " <Formula \"(x[2][10] == max(0, x[1][10]))\">,\n",
       " <Formula \"(x[2][11] == max(0, x[1][11]))\">,\n",
       " <Formula \"(x[2][12] == max(0, x[1][12]))\">,\n",
       " <Formula \"(x[2][13] == max(0, x[1][13]))\">,\n",
       " <Formula \"(x[2][14] == max(0, x[1][14]))\">,\n",
       " <Formula \"(x[2][15] == max(0, x[1][15]))\">,\n",
       " <Formula \"(x[3][0] == (-0.59202831983566284 + 1.0933700799942017 * x[2][0] + 0.72034931182861329 * x[2][1] - 0.076173186302185059 * x[2][2] - 1.9878340959548951 * x[2][3] + 0.86173611879348755 * x[2][4] - 2.179785966873169 * x[2][5] - 2.0673408508300782 * x[2][6] + 0.86639636754989625 * x[2][7] + 0.78522342443466187 * x[2][8] - 1.5769531726837159 * x[2][9] + 0.35882684588432313 * x[2][10] + 0.56200486421585084 * x[2][11] + 0.85817772150039673 * x[2][12] + 0.64522004127502442 * x[2][13] + 0.89963674545288086 * x[2][14] + 0.51910108327865601 * x[2][15]))\">]"
      ]
     },
     "execution_count": 70,
     "metadata": {},
     "output_type": "execute_result"
    }
   ],
   "source": [
    "all_formulas_nn"
   ]
  },
  {
   "cell_type": "code",
   "execution_count": 71,
   "id": "d425a3db",
   "metadata": {},
   "outputs": [],
   "source": [
    "nn_value = vars_by_layer[-1][0]"
   ]
  },
  {
   "cell_type": "markdown",
   "id": "bb696d22",
   "metadata": {},
   "source": [
    "## Convert Ackley to dReal"
   ]
  },
  {
   "cell_type": "code",
   "execution_count": 72,
   "id": "5a5e6640",
   "metadata": {},
   "outputs": [],
   "source": [
    "input_variables = initial_variables\n",
    "a = 20\n",
    "b = 0.2\n",
    "c = 2 * np.pi"
   ]
  },
  {
   "cell_type": "code",
   "execution_count": 73,
   "id": "21b3c386",
   "metadata": {},
   "outputs": [],
   "source": [
    "ackley_constraints = []"
   ]
  },
  {
   "cell_type": "code",
   "execution_count": 74,
   "id": "167dd367",
   "metadata": {},
   "outputs": [],
   "source": [
    "# Term 1"
   ]
  },
  {
   "cell_type": "code",
   "execution_count": 75,
   "id": "b90412ac",
   "metadata": {},
   "outputs": [],
   "source": [
    "squared_summation = 0\n",
    "for var in input_variables:\n",
    "    squared_summation += var ** 2"
   ]
  },
  {
   "cell_type": "code",
   "execution_count": 76,
   "id": "9f465ce8",
   "metadata": {},
   "outputs": [],
   "source": [
    "var_ss = dreal.Variable(\"var_squared_summation\")\n",
    "ackley_constraints.append(var_ss == squared_summation)"
   ]
  },
  {
   "cell_type": "code",
   "execution_count": 77,
   "id": "cedd2b30",
   "metadata": {},
   "outputs": [],
   "source": [
    "var_sqrt = dreal.Variable(\"var_sqrt\")\n",
    "ackley_constraints.append(var_sqrt == (1 / dimension * var_ss) ** 0.5)"
   ]
  },
  {
   "cell_type": "code",
   "execution_count": 78,
   "id": "42a17b4f",
   "metadata": {},
   "outputs": [],
   "source": [
    "var_exp_1 = dreal.Variable(\"var_exp_1\")\n",
    "ackley_constraints.append(var_exp_1 == dreal.exp(-b * var_sqrt))"
   ]
  },
  {
   "cell_type": "code",
   "execution_count": 79,
   "id": "4775021b",
   "metadata": {},
   "outputs": [],
   "source": [
    "term_1 = -a * var_exp_1"
   ]
  },
  {
   "cell_type": "code",
   "execution_count": 80,
   "id": "4a9c16b0",
   "metadata": {},
   "outputs": [],
   "source": [
    "# Term 2"
   ]
  },
  {
   "cell_type": "code",
   "execution_count": 81,
   "id": "5dbf9f44",
   "metadata": {},
   "outputs": [],
   "source": [
    "cos_summation = 0\n",
    "for var in input_variables:\n",
    "    cos_summation += dreal.cos(c * var)"
   ]
  },
  {
   "cell_type": "code",
   "execution_count": 82,
   "id": "f4fbbe68",
   "metadata": {},
   "outputs": [],
   "source": [
    "exp_2 = dreal.exp(1 / dimension * cos_summation)\n",
    "term_2 = -exp_2"
   ]
  },
  {
   "cell_type": "code",
   "execution_count": 83,
   "id": "75877f96",
   "metadata": {},
   "outputs": [],
   "source": [
    "ackley_value = dreal.Variable(\"ackley_value\")"
   ]
  },
  {
   "cell_type": "code",
   "execution_count": 84,
   "id": "11882611",
   "metadata": {},
   "outputs": [],
   "source": [
    "ackley_constraints.append(ackley_value == term_1 + term_2 + a + np.exp(1))"
   ]
  },
  {
   "cell_type": "code",
   "execution_count": 85,
   "id": "a16a3d1d",
   "metadata": {},
   "outputs": [
    {
     "data": {
      "text/plain": [
       "[<Formula \"(var_squared_summation == pow(x[0], 2))\">,\n",
       " <Formula \"(var_sqrt == pow(var_squared_summation, 0.5))\">,\n",
       " <Formula \"(var_exp_1 == exp((-0.20000000000000001 * var_sqrt)))\">,\n",
       " <Formula \"(ackley_value == (22.718281828459045 - 20 * var_exp_1 - exp(cos((6.2831853071795863 * x[0])))))\">]"
      ]
     },
     "execution_count": 85,
     "metadata": {},
     "output_type": "execute_result"
    }
   ],
   "source": [
    "ackley_constraints"
   ]
  },
  {
   "cell_type": "markdown",
   "id": "4a24ff1c",
   "metadata": {},
   "source": [
    "## Input constraints"
   ]
  },
  {
   "cell_type": "code",
   "execution_count": 86,
   "id": "a6be18de",
   "metadata": {},
   "outputs": [
    {
     "data": {
      "text/plain": [
       "array([[-32.768,  32.768]])"
      ]
     },
     "execution_count": 86,
     "metadata": {},
     "output_type": "execute_result"
    }
   ],
   "source": [
    "func.get_default_domain()"
   ]
  },
  {
   "cell_type": "code",
   "execution_count": 87,
   "id": "87ba8816",
   "metadata": {},
   "outputs": [],
   "source": [
    "input_constraints = []\n",
    "for dim in range(dimension):\n",
    "    input_constraints.append(input_variables[dim] >= func.get_default_domain()[dim][0])\n",
    "    input_constraints.append(input_variables[dim] <= func.get_default_domain()[dim][1])"
   ]
  },
  {
   "cell_type": "markdown",
   "id": "e0526347",
   "metadata": {},
   "source": [
    "## Output constraints"
   ]
  },
  {
   "cell_type": "code",
   "execution_count": 91,
   "id": "e61eaddf",
   "metadata": {},
   "outputs": [],
   "source": [
    "d = 4\n",
    "output_constraints = []\n",
    "output_constraints.append(dreal.Or(ackley_value - nn_value <= -d, ackley_value - nn_value >= d))"
   ]
  },
  {
   "cell_type": "code",
   "execution_count": 92,
   "id": "aa4f06bd",
   "metadata": {},
   "outputs": [],
   "source": [
    "all_constraints = all_formulas_nn + ackley_constraints + input_constraints + output_constraints"
   ]
  },
  {
   "cell_type": "code",
   "execution_count": null,
   "id": "5c8409d8",
   "metadata": {},
   "outputs": [],
   "source": []
  },
  {
   "cell_type": "code",
   "execution_count": 93,
   "id": "cf9b56c7",
   "metadata": {},
   "outputs": [
    {
     "data": {
      "text/plain": [
       "<Box \"x[0] : [-0.05105316123401131, -0.050983728138624756]\n",
       "x[1][0] : [1.8748772944218706, 1.874881327467614]\n",
       "x[1][1] : [1.4667079922005147, 1.4667111011146026]\n",
       "x[1][2] : [-0.81075451983534196, -0.81075276303776899]\n",
       "x[1][3] : [-2.7438358399831583, -2.7438182145044751]\n",
       "x[1][4] : [0.096470933946150348, 0.096516778777433407]\n",
       "x[1][5] : [-5.9420299065128503, -5.9419750040173084]\n",
       "x[1][6] : [-3.1286389616641576, -3.1286040022421746]\n",
       "x[1][7] : [0.34140931824704196, 0.34147401159156699]\n",
       "x[1][8] : [-0.42093723962488066, -0.42086633642051562]\n",
       "x[1][9] : [-2.5732523442089436, -2.5732334887920669]\n",
       "x[1][10] : [0.045429297104112914, 0.045470734238623932]\n",
       "x[1][11] : [0.81018515151027982, 0.81018680355001516]\n",
       "x[1][12] : [1.1720449016727861, 1.1720473900896631]\n",
       "x[1][13] : [-0.36529414496421031, -0.36523841913892857]\n",
       "x[1][14] : [-0.24975913995419224, -0.24971316374768184]\n",
       "x[1][15] : [0.21540760619277389, 0.21546295412372419]\n",
       "x[2][0] : [1.8748772944218706, 1.874881327467614]\n",
       "x[2][1] : [1.4667079922005147, 1.4667111011146026]\n",
       "x[2][2] : [0, 0]\n",
       "x[2][3] : [0, 0]\n",
       "x[2][4] : [0.096470933946150348, 0.096516778777433407]\n",
       "x[2][5] : [0, 0]\n",
       "x[2][6] : [0, 0]\n",
       "x[2][7] : [0.34140931824704196, 0.34147401159156699]\n",
       "x[2][8] : [0, 0]\n",
       "x[2][9] : [0, 0]\n",
       "x[2][10] : [0.045429297104112914, 0.045470734238623932]\n",
       "x[2][11] : [0.81018515151027982, 0.81018680355001516]\n",
       "x[2][12] : [1.1720449016727861, 1.1720473900896631]\n",
       "x[2][13] : [0, 0]\n",
       "x[2][14] : [0, 0]\n",
       "x[2][15] : [0.21540760619277389, 0.21546295412372419]\n",
       "x[3][0] : [4.4826471841426008, 4.48279605336944]\n",
       "var_squared_summation : [0.0025992951116605213, 0.0026064252747509463]\n",
       "var_sqrt : [0.050983282668542643, 0.051053161261090844]\n",
       "var_exp_1 : [0.98984131928358321, 0.98985515312390127]\n",
       "ackley_value : [0.33799865087079884, 0.338077082784497]\">"
      ]
     },
     "execution_count": 93,
     "metadata": {},
     "output_type": "execute_result"
    }
   ],
   "source": [
    "dreal.CheckSatisfiability(dreal.And(*all_constraints), 0.001)"
   ]
  },
  {
   "cell_type": "code",
   "execution_count": null,
   "id": "867b3276",
   "metadata": {},
   "outputs": [],
   "source": []
  }
 ],
 "metadata": {
  "kernelspec": {
   "display_name": "Python [conda env:mcmm]",
   "language": "python",
   "name": "conda-env-mcmm-py"
  },
  "language_info": {
   "codemirror_mode": {
    "name": "ipython",
    "version": 3
   },
   "file_extension": ".py",
   "mimetype": "text/x-python",
   "name": "python",
   "nbconvert_exporter": "python",
   "pygments_lexer": "ipython3",
   "version": "3.9.16"
  }
 },
 "nbformat": 4,
 "nbformat_minor": 5
}
