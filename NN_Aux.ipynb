{
 "cells": [
  {
   "cell_type": "code",
   "execution_count": 1,
   "id": "cc685df0",
   "metadata": {},
   "outputs": [],
   "source": [
    "import src.test_functions as test_functions"
   ]
  },
  {
   "cell_type": "code",
   "execution_count": 2,
   "id": "cfb59c2f",
   "metadata": {},
   "outputs": [],
   "source": [
    "import scipy\n",
    "import numpy as np"
   ]
  },
  {
   "cell_type": "code",
   "execution_count": 3,
   "id": "0a6a6ade",
   "metadata": {},
   "outputs": [],
   "source": [
    "import matplotlib.pyplot as plt"
   ]
  },
  {
   "cell_type": "code",
   "execution_count": 4,
   "id": "bf7944a3",
   "metadata": {},
   "outputs": [],
   "source": [
    "import os\n",
    "os.environ['XLA_PYTHON_CLIENT_MEM_FRACTION']='.1'"
   ]
  },
  {
   "cell_type": "code",
   "execution_count": null,
   "id": "fa3272f4",
   "metadata": {},
   "outputs": [],
   "source": []
  },
  {
   "cell_type": "code",
   "execution_count": 5,
   "id": "775ad48c",
   "metadata": {},
   "outputs": [],
   "source": [
    "import torch.nn as nn\n",
    "import torch\n",
    "\n",
    "from tqdm import tqdm"
   ]
  },
  {
   "cell_type": "code",
   "execution_count": 6,
   "id": "3b4dc137",
   "metadata": {},
   "outputs": [],
   "source": [
    "from sympy import symbols, Max\n",
    "import sympy"
   ]
  },
  {
   "cell_type": "code",
   "execution_count": 7,
   "id": "fa9c3c5c",
   "metadata": {},
   "outputs": [],
   "source": [
    "from pyibex import Interval, IntervalVector, Function, CtcFwdBwd, SepFwdBwd, GEQ"
   ]
  },
  {
   "cell_type": "code",
   "execution_count": null,
   "id": "9f6619e2",
   "metadata": {},
   "outputs": [],
   "source": []
  },
  {
   "cell_type": "code",
   "execution_count": 8,
   "id": "cdc4b625",
   "metadata": {},
   "outputs": [
    {
     "data": {
      "text/plain": [
       "<torch._C.Generator at 0x7ff95130d2d0>"
      ]
     },
     "execution_count": 8,
     "metadata": {},
     "output_type": "execute_result"
    }
   ],
   "source": [
    "seed = 0\n",
    "\n",
    "import random\n",
    "random.seed(seed)\n",
    "np.random.seed(seed)\n",
    "torch.manual_seed(seed)"
   ]
  },
  {
   "cell_type": "markdown",
   "id": "ea9035cf",
   "metadata": {},
   "source": [
    "##  Sample points for training"
   ]
  },
  {
   "cell_type": "code",
   "execution_count": 9,
   "id": "b7af76b2",
   "metadata": {},
   "outputs": [],
   "source": [
    "def sample(function, bounds, n, local_minima=False):\n",
    "    assert isinstance(bounds, np.ndarray)\n",
    "    assert bounds.shape[1] == 2\n",
    "    xs = np.random.rand(n, bounds.shape[0]) * (bounds[:, 1] - bounds[:, 0]) + bounds[:, 0]\n",
    "    ys = np.array([function(x).item() for x in xs])\n",
    "    \n",
    "    if local_minima:\n",
    "        xs_local_opt = []\n",
    "        ys_local_opt = []\n",
    "        for x0 in xs:\n",
    "            opt_res = scipy.optimize.minimize(func, x0, method='Nelder-Mead')\n",
    "            if opt_res.success:\n",
    "                xs_local_opt.append(opt_res.x)\n",
    "                ys_local_opt.append(opt_res.fun)\n",
    "        xs_local_opt, ys_local_opt = np.array(xs_local_opt), np.array(ys_local_opt)\n",
    "        return xs, ys, xs_local_opt, ys_local_opt\n",
    "    \n",
    "    return xs, ys"
   ]
  },
  {
   "cell_type": "code",
   "execution_count": null,
   "id": "757ee5fa",
   "metadata": {},
   "outputs": [],
   "source": []
  },
  {
   "cell_type": "code",
   "execution_count": 10,
   "id": "08a04e11",
   "metadata": {},
   "outputs": [],
   "source": [
    "dimension = 1\n",
    "\n",
    "func = test_functions.Ackley(dims=dimension)\n",
    "# variables, expression = func.expression()\n",
    "\n",
    "bounds = func.get_default_domain()\n",
    "lb = bounds.T[0]\n",
    "ub = bounds.T[1]"
   ]
  },
  {
   "cell_type": "code",
   "execution_count": null,
   "id": "8c64a655",
   "metadata": {},
   "outputs": [],
   "source": []
  },
  {
   "cell_type": "code",
   "execution_count": 11,
   "id": "adc2278f",
   "metadata": {},
   "outputs": [
    {
     "name": "stderr",
     "output_type": "stream",
     "text": [
      "2023-05-05 17:27:07.795855: E external/xla/xla/stream_executor/cuda/cuda_dnn.cc:417] Loaded runtime CuDNN library: 8.7.0 but source was compiled with: 8.8.0.  CuDNN library needs to have matching major version and equal or higher minor version. If using a binary install, upgrade your CuDNN library.  If building from sources, make sure the library loaded at runtime is compatible with the version specified during compile configuration.\n"
     ]
    },
    {
     "ename": "XlaRuntimeError",
     "evalue": "FAILED_PRECONDITION: DNN library initialization failed. Look at the errors above for more details.",
     "output_type": "error",
     "traceback": [
      "\u001b[0;31m---------------------------------------------------------------------------\u001b[0m",
      "\u001b[0;31mXlaRuntimeError\u001b[0m                           Traceback (most recent call last)",
      "Cell \u001b[0;32mIn[11], line 2\u001b[0m\n\u001b[1;32m      1\u001b[0m xs \u001b[38;5;241m=\u001b[39m np\u001b[38;5;241m.\u001b[39marange(lb[\u001b[38;5;241m0\u001b[39m], ub[\u001b[38;5;241m0\u001b[39m], \u001b[38;5;241m0.01\u001b[39m)\n\u001b[0;32m----> 2\u001b[0m ys \u001b[38;5;241m=\u001b[39m np\u001b[38;5;241m.\u001b[39marray([func(np\u001b[38;5;241m.\u001b[39marray([x]))\u001b[38;5;241m.\u001b[39mitem() \u001b[38;5;28;01mfor\u001b[39;00m x \u001b[38;5;129;01min\u001b[39;00m xs])\n\u001b[1;32m      4\u001b[0m \u001b[38;5;28;01mwith\u001b[39;00m jax\u001b[38;5;241m.\u001b[39mdefault_device(jax\u001b[38;5;241m.\u001b[39mdevices(\u001b[38;5;124m\"\u001b[39m\u001b[38;5;124mcpu\u001b[39m\u001b[38;5;124m\"\u001b[39m)[\u001b[38;5;241m0\u001b[39m]):\n\u001b[1;32m      5\u001b[0m     \u001b[38;5;66;03m# sampled_xs, sampled_ys = sample(func, bounds, 100)\u001b[39;00m\n\u001b[1;32m      6\u001b[0m     sampled_xs, sampled_ys, sampled_xs_local_min, sampled_ys_local_min \u001b[38;5;241m=\u001b[39m sample(func, bounds, \u001b[38;5;241m100\u001b[39m, local_minima\u001b[38;5;241m=\u001b[39m\u001b[38;5;28;01mTrue\u001b[39;00m)\n",
      "Cell \u001b[0;32mIn[11], line 2\u001b[0m, in \u001b[0;36m<listcomp>\u001b[0;34m(.0)\u001b[0m\n\u001b[1;32m      1\u001b[0m xs \u001b[38;5;241m=\u001b[39m np\u001b[38;5;241m.\u001b[39marange(lb[\u001b[38;5;241m0\u001b[39m], ub[\u001b[38;5;241m0\u001b[39m], \u001b[38;5;241m0.01\u001b[39m)\n\u001b[0;32m----> 2\u001b[0m ys \u001b[38;5;241m=\u001b[39m np\u001b[38;5;241m.\u001b[39marray([\u001b[43mfunc\u001b[49m\u001b[43m(\u001b[49m\u001b[43mnp\u001b[49m\u001b[38;5;241;43m.\u001b[39;49m\u001b[43marray\u001b[49m\u001b[43m(\u001b[49m\u001b[43m[\u001b[49m\u001b[43mx\u001b[49m\u001b[43m]\u001b[49m\u001b[43m)\u001b[49m\u001b[43m)\u001b[49m\u001b[38;5;241m.\u001b[39mitem() \u001b[38;5;28;01mfor\u001b[39;00m x \u001b[38;5;129;01min\u001b[39;00m xs])\n\u001b[1;32m      4\u001b[0m \u001b[38;5;28;01mwith\u001b[39;00m jax\u001b[38;5;241m.\u001b[39mdefault_device(jax\u001b[38;5;241m.\u001b[39mdevices(\u001b[38;5;124m\"\u001b[39m\u001b[38;5;124mcpu\u001b[39m\u001b[38;5;124m\"\u001b[39m)[\u001b[38;5;241m0\u001b[39m]):\n\u001b[1;32m      5\u001b[0m     \u001b[38;5;66;03m# sampled_xs, sampled_ys = sample(func, bounds, 100)\u001b[39;00m\n\u001b[1;32m      6\u001b[0m     sampled_xs, sampled_ys, sampled_xs_local_min, sampled_ys_local_min \u001b[38;5;241m=\u001b[39m sample(func, bounds, \u001b[38;5;241m100\u001b[39m, local_minima\u001b[38;5;241m=\u001b[39m\u001b[38;5;28;01mTrue\u001b[39;00m)\n",
      "File \u001b[0;32m~/Documents/mcmm/src/test_functions.py:168\u001b[0m, in \u001b[0;36mAckley.__call__\u001b[0;34m(self, x)\u001b[0m\n\u001b[1;32m    165\u001b[0m \u001b[38;5;28;01massert\u001b[39;00m \u001b[38;5;28misinstance\u001b[39m(x, np\u001b[38;5;241m.\u001b[39mndarray) \u001b[38;5;129;01mor\u001b[39;00m \u001b[38;5;28misinstance\u001b[39m(x, jnp\u001b[38;5;241m.\u001b[39mndarray)\n\u001b[1;32m    166\u001b[0m \u001b[38;5;28;01massert\u001b[39;00m x\u001b[38;5;241m.\u001b[39mndim \u001b[38;5;241m==\u001b[39m \u001b[38;5;241m1\u001b[39m\n\u001b[0;32m--> 168\u001b[0m term1 \u001b[38;5;241m=\u001b[39m \u001b[38;5;241m-\u001b[39m\u001b[38;5;28mself\u001b[39m\u001b[38;5;241m.\u001b[39ma \u001b[38;5;241m*\u001b[39m jnp\u001b[38;5;241m.\u001b[39mexp(\u001b[38;5;241m-\u001b[39m\u001b[38;5;28mself\u001b[39m\u001b[38;5;241m.\u001b[39mb \u001b[38;5;241m*\u001b[39m jnp\u001b[38;5;241m.\u001b[39msqrt(\u001b[43mjnp\u001b[49m\u001b[38;5;241;43m.\u001b[39;49m\u001b[43mmean\u001b[49m\u001b[43m(\u001b[49m\u001b[43mx\u001b[49m\u001b[38;5;241;43m*\u001b[39;49m\u001b[38;5;241;43m*\u001b[39;49m\u001b[38;5;241;43m2\u001b[39;49m\u001b[43m)\u001b[49m))\n\u001b[1;32m    170\u001b[0m term2 \u001b[38;5;241m=\u001b[39m \u001b[38;5;241m-\u001b[39mjnp\u001b[38;5;241m.\u001b[39mexp(jnp\u001b[38;5;241m.\u001b[39mmean(jnp\u001b[38;5;241m.\u001b[39mcos(\u001b[38;5;28mself\u001b[39m\u001b[38;5;241m.\u001b[39mc \u001b[38;5;241m*\u001b[39m x)))\n\u001b[1;32m    172\u001b[0m result \u001b[38;5;241m=\u001b[39m term1 \u001b[38;5;241m+\u001b[39m term2 \u001b[38;5;241m+\u001b[39m \u001b[38;5;28mself\u001b[39m\u001b[38;5;241m.\u001b[39ma \u001b[38;5;241m+\u001b[39m jnp\u001b[38;5;241m.\u001b[39mexp(\u001b[38;5;241m1\u001b[39m)\n",
      "File \u001b[0;32m~/anaconda3/envs/mcmm/lib/python3.9/site-packages/jax/_src/numpy/reductions.py:323\u001b[0m, in \u001b[0;36mmean\u001b[0;34m(a, axis, dtype, out, keepdims, where)\u001b[0m\n\u001b[1;32m    319\u001b[0m \u001b[38;5;129m@_wraps\u001b[39m(np\u001b[38;5;241m.\u001b[39mmean, skip_params\u001b[38;5;241m=\u001b[39m[\u001b[38;5;124m'\u001b[39m\u001b[38;5;124mout\u001b[39m\u001b[38;5;124m'\u001b[39m])\n\u001b[1;32m    320\u001b[0m \u001b[38;5;28;01mdef\u001b[39;00m \u001b[38;5;21mmean\u001b[39m(a: ArrayLike, axis: Axis \u001b[38;5;241m=\u001b[39m \u001b[38;5;28;01mNone\u001b[39;00m, dtype: DTypeLike \u001b[38;5;241m=\u001b[39m \u001b[38;5;28;01mNone\u001b[39;00m,\n\u001b[1;32m    321\u001b[0m          out: \u001b[38;5;28;01mNone\u001b[39;00m \u001b[38;5;241m=\u001b[39m \u001b[38;5;28;01mNone\u001b[39;00m, keepdims: \u001b[38;5;28mbool\u001b[39m \u001b[38;5;241m=\u001b[39m \u001b[38;5;28;01mFalse\u001b[39;00m, \u001b[38;5;241m*\u001b[39m,\n\u001b[1;32m    322\u001b[0m          where: Optional[ArrayLike] \u001b[38;5;241m=\u001b[39m \u001b[38;5;28;01mNone\u001b[39;00m) \u001b[38;5;241m-\u001b[39m\u001b[38;5;241m>\u001b[39m Array:\n\u001b[0;32m--> 323\u001b[0m   \u001b[38;5;28;01mreturn\u001b[39;00m \u001b[43m_mean\u001b[49m\u001b[43m(\u001b[49m\u001b[43ma\u001b[49m\u001b[43m,\u001b[49m\u001b[43m \u001b[49m\u001b[43m_ensure_optional_axes\u001b[49m\u001b[43m(\u001b[49m\u001b[43maxis\u001b[49m\u001b[43m)\u001b[49m\u001b[43m,\u001b[49m\u001b[43m \u001b[49m\u001b[43mdtype\u001b[49m\u001b[43m,\u001b[49m\u001b[43m \u001b[49m\u001b[43mout\u001b[49m\u001b[43m,\u001b[49m\u001b[43m \u001b[49m\u001b[43mkeepdims\u001b[49m\u001b[43m,\u001b[49m\n\u001b[1;32m    324\u001b[0m \u001b[43m               \u001b[49m\u001b[43mwhere\u001b[49m\u001b[38;5;241;43m=\u001b[39;49m\u001b[43mwhere\u001b[49m\u001b[43m)\u001b[49m\n",
      "    \u001b[0;31m[... skipping hidden 11 frame]\u001b[0m\n",
      "File \u001b[0;32m~/anaconda3/envs/mcmm/lib/python3.9/site-packages/jax/_src/dispatch.py:471\u001b[0m, in \u001b[0;36mbackend_compile\u001b[0;34m(backend, built_c, options, host_callbacks)\u001b[0m\n\u001b[1;32m    466\u001b[0m   \u001b[38;5;28;01mreturn\u001b[39;00m backend\u001b[38;5;241m.\u001b[39mcompile(built_c, compile_options\u001b[38;5;241m=\u001b[39moptions,\n\u001b[1;32m    467\u001b[0m                          host_callbacks\u001b[38;5;241m=\u001b[39mhost_callbacks)\n\u001b[1;32m    468\u001b[0m \u001b[38;5;66;03m# Some backends don't have `host_callbacks` option yet\u001b[39;00m\n\u001b[1;32m    469\u001b[0m \u001b[38;5;66;03m# TODO(sharadmv): remove this fallback when all backends allow `compile`\u001b[39;00m\n\u001b[1;32m    470\u001b[0m \u001b[38;5;66;03m# to take in `host_callbacks`\u001b[39;00m\n\u001b[0;32m--> 471\u001b[0m \u001b[38;5;28;01mreturn\u001b[39;00m \u001b[43mbackend\u001b[49m\u001b[38;5;241;43m.\u001b[39;49m\u001b[43mcompile\u001b[49m\u001b[43m(\u001b[49m\u001b[43mbuilt_c\u001b[49m\u001b[43m,\u001b[49m\u001b[43m \u001b[49m\u001b[43mcompile_options\u001b[49m\u001b[38;5;241;43m=\u001b[39;49m\u001b[43moptions\u001b[49m\u001b[43m)\u001b[49m\n",
      "\u001b[0;31mXlaRuntimeError\u001b[0m: FAILED_PRECONDITION: DNN library initialization failed. Look at the errors above for more details."
     ]
    }
   ],
   "source": [
    "xs = np.arange(lb[0], ub[0], 0.01)\n",
    "ys = np.array([func(np.array([x])).item() for x in xs])\n",
    "\n",
    "with jax.default_device(jax.devices(\"cpu\")[0]):\n",
    "    # sampled_xs, sampled_ys = sample(func, bounds, 100)\n",
    "    sampled_xs, sampled_ys, sampled_xs_local_min, sampled_ys_local_min = sample(func, bounds, 100, local_minima=True)"
   ]
  },
  {
   "cell_type": "code",
   "execution_count": null,
   "id": "3aef3497",
   "metadata": {},
   "outputs": [],
   "source": [
    "\n"
   ]
  },
  {
   "cell_type": "code",
   "execution_count": null,
   "id": "9afd1ac1",
   "metadata": {},
   "outputs": [],
   "source": [
    "fig = plt.figure(figsize=(10,8))\n",
    "plt.scatter(sampled_xs[:, 0], sampled_ys, s=15, c='red', zorder=10)\n",
    "# plt.scatter(sampled_xs_local_min[:, 0], sampled_ys_local_min, s=15, c='red', zorder=10)\n",
    "\n",
    "plt.plot(xs, ys, zorder=1, linewidth=1, alpha=0.7)\n"
   ]
  },
  {
   "cell_type": "code",
   "execution_count": null,
   "id": "2e45c5d0",
   "metadata": {},
   "outputs": [],
   "source": [
    "fig = plt.figure(figsize=(10,8))\n",
    "# plt.scatter(sampled_xs[:, 0], sampled_ys, s=15, c='red', zorder=10)\n",
    "plt.scatter(sampled_xs_local_min[:, 0], sampled_ys_local_min, s=15, c='red', zorder=10)\n",
    "\n",
    "plt.plot(xs, ys, zorder=1, linewidth=1, alpha=0.7)\n"
   ]
  },
  {
   "cell_type": "code",
   "execution_count": null,
   "id": "a3fe0a45",
   "metadata": {},
   "outputs": [],
   "source": []
  },
  {
   "cell_type": "markdown",
   "id": "ac36e4af",
   "metadata": {},
   "source": [
    "## Fit a neural network"
   ]
  },
  {
   "cell_type": "code",
   "execution_count": null,
   "id": "49f891b6",
   "metadata": {},
   "outputs": [],
   "source": [
    "device = torch.device('cuda' if torch.cuda.is_available() else 'cpu')"
   ]
  },
  {
   "cell_type": "code",
   "execution_count": null,
   "id": "cba1f102",
   "metadata": {},
   "outputs": [],
   "source": [
    "xs_train = sampled_xs\n",
    "ys_train = np.expand_dims(sampled_ys, axis=1)"
   ]
  },
  {
   "cell_type": "code",
   "execution_count": null,
   "id": "2d16eb86",
   "metadata": {},
   "outputs": [],
   "source": [
    "hidden_dim = 16\n",
    "\n",
    "model = nn.Sequential(\n",
    "    nn.Linear(dimension, hidden_dim),\n",
    "    nn.ReLU(),\n",
    "    nn.Linear(hidden_dim, 1)\n",
    ")"
   ]
  },
  {
   "cell_type": "raw",
   "id": "8acfc5d3",
   "metadata": {},
   "source": [
    "class SingleLayerNet(nn.Module):\n",
    "    def __init__(self, input_size, hidden_size):\n",
    "        super(SingleLayerNet, self).__init__()\n",
    "        self.fc1 = nn.Linear(input_size, hidden_size)\n",
    "        self.fc2 = nn.Linear(hidden_size, 1)\n",
    "        self.relu = nn.ReLU()\n",
    "\n",
    "    def forward(self, x):\n",
    "        x = self.fc1(x)\n",
    "        x = self.relu(x)\n",
    "        x = self.fc2(x)\n",
    "        return x"
   ]
  },
  {
   "cell_type": "raw",
   "id": "026faf00",
   "metadata": {},
   "source": [
    "hidden_dim = 16\n",
    "model = SingleLayerNet(dimension, hidden_dim)"
   ]
  },
  {
   "cell_type": "code",
   "execution_count": null,
   "id": "8cc34956",
   "metadata": {},
   "outputs": [],
   "source": [
    "criterion = nn.MSELoss()\n",
    "optimizer = torch.optim.Adam(model.parameters(), lr=0.001)"
   ]
  },
  {
   "cell_type": "code",
   "execution_count": null,
   "id": "1ae7f747",
   "metadata": {},
   "outputs": [],
   "source": [
    "num_epochs = 10000\n",
    "\n",
    "model.to(device)\n",
    "\n",
    "loss_record = []\n",
    "for epoch in tqdm(range(num_epochs)):\n",
    "    model.train()\n",
    "    \n",
    "    x_train_tensor = torch.FloatTensor(xs_train).to(device)\n",
    "    y_train_tensor = torch.FloatTensor(ys_train).to(device)\n",
    "    y_pred = model(x_train_tensor)\n",
    "    loss = criterion(y_pred, y_train_tensor)\n",
    "    \n",
    "    loss_record.append(loss.item())\n",
    "    \n",
    "    optimizer.zero_grad()\n",
    "    loss.backward()\n",
    "    \n",
    "    optimizer.step()"
   ]
  },
  {
   "cell_type": "code",
   "execution_count": null,
   "id": "f0cecd1e",
   "metadata": {},
   "outputs": [],
   "source": [
    "with torch.no_grad():\n",
    "    fitted_ys = model(torch.FloatTensor(np.expand_dims(xs, axis=1)).to(device)).detach().cpu().squeeze().numpy()"
   ]
  },
  {
   "cell_type": "code",
   "execution_count": null,
   "id": "6ed99357",
   "metadata": {},
   "outputs": [],
   "source": [
    "abs(ys - fitted_ys)"
   ]
  },
  {
   "cell_type": "code",
   "execution_count": null,
   "id": "a49b9d7e",
   "metadata": {},
   "outputs": [],
   "source": [
    "fig, ax = plt.subplots(figsize=(10,8))\n",
    "\n",
    "ax.scatter(xs_train[:, 0], ys_train[:, 0], s=15, c='red', zorder=10, label=\"samples\")\n",
    "# plt.scatter(sampled_xs_local_min[:, 0], sampled_ys_local_min, s=15, c='red', zorder=10)\n",
    "\n",
    "ax.plot(xs, ys, zorder=1, linewidth=1, alpha=0.7, label=\"original_function\")\n",
    "ax.plot(xs, fitted_ys, linewidth=1, alpha=0.7, label=\"fitted_function\")\n",
    "\n",
    "y_diff_squared = (ys - fitted_ys) ** 2\n",
    "ax.plot(xs, y_diff_squared, linewidth=1, alpha=0.4, label=\"squared_diff\")\n",
    "\n",
    "y_diff_abs = abs(ys - fitted_ys)\n",
    "ax.plot(xs, y_diff_abs, linewidth=1, alpha=0.4, label=\"abs_diff\")\n",
    "\n",
    "ax.legend()"
   ]
  },
  {
   "cell_type": "code",
   "execution_count": null,
   "id": "20f7ca43",
   "metadata": {},
   "outputs": [],
   "source": [
    "fig = plt.figure(figsize=(10,8))\n",
    "\n",
    "plt.scatter(xs_train[:, 0], ys_train[:, 0], s=15, c='red', zorder=10)\n",
    "# plt.scatter(sampled_xs_local_min[:, 0], sampled_ys_local_min, s=15, c='red', zorder=10)\n",
    "\n",
    "y_diff_squared = (ys - fitted_ys) ** 2\n",
    "plt.plot(xs, y_diff_squared, linewidth=1, alpha=0.7)"
   ]
  },
  {
   "cell_type": "code",
   "execution_count": null,
   "id": "06271170",
   "metadata": {},
   "outputs": [],
   "source": []
  },
  {
   "cell_type": "markdown",
   "id": "be5fbcc5",
   "metadata": {},
   "source": [
    "## Convert the neural network to ibex expression (through sympy) "
   ]
  },
  {
   "cell_type": "code",
   "execution_count": null,
   "id": "fbaf4f42",
   "metadata": {},
   "outputs": [],
   "source": [
    "layer_idx = 2\n",
    "layer = model[layer_idx]"
   ]
  },
  {
   "cell_type": "code",
   "execution_count": null,
   "id": "cfa2c45d",
   "metadata": {},
   "outputs": [],
   "source": [
    "weight = layer.weight\n",
    "bias = layer.bias\n",
    "width = weight.shape[1]"
   ]
  },
  {
   "cell_type": "code",
   "execution_count": null,
   "id": "aedde378",
   "metadata": {},
   "outputs": [],
   "source": [
    "inter_vars = symbols(', '.join(['x[{}][{}]'.format(layer_idx, i) for i in range(width)]))"
   ]
  },
  {
   "cell_type": "code",
   "execution_count": null,
   "id": "1358730a",
   "metadata": {},
   "outputs": [],
   "source": [
    "inter_vars"
   ]
  },
  {
   "cell_type": "code",
   "execution_count": null,
   "id": "b033192f",
   "metadata": {},
   "outputs": [],
   "source": [
    "X = np.expand_dims(np.array(inter_vars), axis=1)"
   ]
  },
  {
   "cell_type": "code",
   "execution_count": null,
   "id": "f45cd1b7",
   "metadata": {},
   "outputs": [],
   "source": [
    "W = weight.detach().cpu().numpy()"
   ]
  },
  {
   "cell_type": "code",
   "execution_count": null,
   "id": "d3946122",
   "metadata": {},
   "outputs": [],
   "source": [
    "b = bias.detach().cpu().numpy()\n",
    "b"
   ]
  },
  {
   "cell_type": "code",
   "execution_count": null,
   "id": "b6fb5520",
   "metadata": {},
   "outputs": [],
   "source": [
    "expression = (W @ X).squeeze(axis=1) + b\n",
    "expression = expression.item()"
   ]
  },
  {
   "cell_type": "code",
   "execution_count": null,
   "id": "b76ada0c",
   "metadata": {},
   "outputs": [],
   "source": []
  },
  {
   "cell_type": "code",
   "execution_count": null,
   "id": "8372ef7a",
   "metadata": {},
   "outputs": [],
   "source": [
    "layer_idx = 1\n",
    "layer = model[layer_idx]\n",
    "layer"
   ]
  },
  {
   "cell_type": "code",
   "execution_count": null,
   "id": "589a8584",
   "metadata": {},
   "outputs": [],
   "source": [
    "prev_inter_vars = inter_vars\n",
    "width = len(inter_vars)\n",
    "inter_vars = symbols(', '.join(['x[{}][{}]'.format(layer_idx, i) for i in range(width)]))"
   ]
  },
  {
   "cell_type": "code",
   "execution_count": null,
   "id": "09c6b14a",
   "metadata": {},
   "outputs": [],
   "source": [
    "inter_vars[0]"
   ]
  },
  {
   "cell_type": "code",
   "execution_count": null,
   "id": "9017192f",
   "metadata": {},
   "outputs": [],
   "source": [
    "replace_dict = {}\n",
    "for curr_var, prev_var in zip(inter_vars, prev_inter_vars):\n",
    "    replace_dict[prev_var] = Max(curr_var, 0)"
   ]
  },
  {
   "cell_type": "code",
   "execution_count": null,
   "id": "1fc7e08b",
   "metadata": {},
   "outputs": [],
   "source": [
    "prev_expression = expression\n",
    "for key in replace_dict:\n",
    "    expression = expression.subs(key, replace_dict[key])"
   ]
  },
  {
   "cell_type": "code",
   "execution_count": null,
   "id": "1e9ad7ab",
   "metadata": {},
   "outputs": [],
   "source": [
    "expression"
   ]
  },
  {
   "cell_type": "code",
   "execution_count": null,
   "id": "19344702",
   "metadata": {},
   "outputs": [],
   "source": [
    "layer_idx = 0\n",
    "layer = model[layer_idx]\n",
    "layer"
   ]
  },
  {
   "cell_type": "code",
   "execution_count": null,
   "id": "7929d09e",
   "metadata": {},
   "outputs": [],
   "source": [
    "weight = layer.weight\n",
    "bias = layer.bias\n",
    "width = weight.shape[1]"
   ]
  },
  {
   "cell_type": "code",
   "execution_count": null,
   "id": "50385b3d",
   "metadata": {},
   "outputs": [],
   "source": [
    "prev_inter_vars = inter_vars\n",
    "inter_vars = symbols(', '.join(['x[{}]'.format(i) for i in range(width)]))\n",
    "if isinstance(inter_vars, sympy.Symbol):\n",
    "    inter_vars = [inter_vars]"
   ]
  },
  {
   "cell_type": "code",
   "execution_count": null,
   "id": "ce1919a5",
   "metadata": {},
   "outputs": [],
   "source": []
  },
  {
   "cell_type": "code",
   "execution_count": null,
   "id": "1fcd5820",
   "metadata": {},
   "outputs": [],
   "source": [
    "X = np.expand_dims(np.array(inter_vars), axis=1)"
   ]
  },
  {
   "cell_type": "code",
   "execution_count": null,
   "id": "6362f156",
   "metadata": {},
   "outputs": [],
   "source": [
    "W = weight.detach().cpu().numpy()"
   ]
  },
  {
   "cell_type": "code",
   "execution_count": null,
   "id": "a65ab7f5",
   "metadata": {},
   "outputs": [],
   "source": [
    "b = bias.detach().cpu().numpy()\n",
    "b"
   ]
  },
  {
   "cell_type": "code",
   "execution_count": null,
   "id": "f061e70a",
   "metadata": {},
   "outputs": [],
   "source": [
    "mat_res = (W @ X).squeeze(axis=1) + b"
   ]
  },
  {
   "cell_type": "code",
   "execution_count": null,
   "id": "3c3f2da3",
   "metadata": {},
   "outputs": [],
   "source": []
  },
  {
   "cell_type": "code",
   "execution_count": null,
   "id": "27056f22",
   "metadata": {},
   "outputs": [],
   "source": [
    "replace_dict = {}\n",
    "for curr_expr, prev_var in zip(mat_res, prev_inter_vars):\n",
    "    replace_dict[prev_var] = curr_expr\n",
    "replace_dict"
   ]
  },
  {
   "cell_type": "code",
   "execution_count": null,
   "id": "113ad6c6",
   "metadata": {},
   "outputs": [],
   "source": [
    "prev_expression = expression\n",
    "for key in replace_dict:\n",
    "    expression = expression.subs(key, replace_dict[key])"
   ]
  },
  {
   "cell_type": "code",
   "execution_count": null,
   "id": "60275ea7",
   "metadata": {},
   "outputs": [],
   "source": [
    "str(expression)"
   ]
  },
  {
   "cell_type": "code",
   "execution_count": null,
   "id": "e1cb785b",
   "metadata": {},
   "outputs": [],
   "source": []
  },
  {
   "cell_type": "code",
   "execution_count": null,
   "id": "681e3015",
   "metadata": {},
   "outputs": [],
   "source": [
    "variables, func_expr = func.expression()"
   ]
  },
  {
   "cell_type": "code",
   "execution_count": null,
   "id": "01d0456c",
   "metadata": {},
   "outputs": [],
   "source": [
    "func_expr"
   ]
  },
  {
   "cell_type": "code",
   "execution_count": null,
   "id": "9ecb91ec",
   "metadata": {},
   "outputs": [],
   "source": []
  },
  {
   "cell_type": "code",
   "execution_count": null,
   "id": "ca4c4079",
   "metadata": {},
   "outputs": [],
   "source": []
  },
  {
   "cell_type": "markdown",
   "id": "7d44656c",
   "metadata": {},
   "source": [
    "### (Finally..) prune the box"
   ]
  },
  {
   "cell_type": "code",
   "execution_count": null,
   "id": "5d7028d3",
   "metadata": {},
   "outputs": [],
   "source": [
    "expr_nn = str(expression).replace(\"Max\", \"max\")"
   ]
  },
  {
   "cell_type": "code",
   "execution_count": null,
   "id": "5cc0fba9",
   "metadata": {},
   "outputs": [],
   "source": [
    "expr_nn"
   ]
  },
  {
   "cell_type": "code",
   "execution_count": null,
   "id": "d2b5d7d7",
   "metadata": {},
   "outputs": [],
   "source": [
    "variables"
   ]
  },
  {
   "cell_type": "code",
   "execution_count": null,
   "id": "33c58241",
   "metadata": {},
   "outputs": [],
   "source": [
    "def expression_squared_diff(expr1, expr2):\n",
    "    return \"(({}) - ({})) ^ 2\".format(expr1, expr2)"
   ]
  },
  {
   "cell_type": "code",
   "execution_count": null,
   "id": "ebb753a3",
   "metadata": {},
   "outputs": [],
   "source": [
    "def expression_absolute_diff(expr1, expr2):\n",
    "    return \"abs(({}) - ({}))\".format(expr1, expr2)"
   ]
  },
  {
   "cell_type": "code",
   "execution_count": null,
   "id": "b94523a5",
   "metadata": {},
   "outputs": [],
   "source": [
    "def expression_add_const(expr, const):\n",
    "    return \"({}) + ({})\".format(expr, const)"
   ]
  },
  {
   "cell_type": "code",
   "execution_count": null,
   "id": "327c58f1",
   "metadata": {},
   "outputs": [],
   "source": [
    "ibex_expression = expression_squared_diff(func_expr, expr_nn)"
   ]
  },
  {
   "cell_type": "code",
   "execution_count": null,
   "id": "d1f2f4ac",
   "metadata": {},
   "outputs": [],
   "source": [
    "ibex_expression = expression_absolute_diff(func_expr, expr_nn)"
   ]
  },
  {
   "cell_type": "code",
   "execution_count": null,
   "id": "092b09e1",
   "metadata": {},
   "outputs": [],
   "source": [
    "ibex_expression = expression_add_const(ibex_expression, -45)"
   ]
  },
  {
   "cell_type": "code",
   "execution_count": null,
   "id": "38a17842",
   "metadata": {},
   "outputs": [],
   "source": [
    "ibex_expression"
   ]
  },
  {
   "cell_type": "code",
   "execution_count": null,
   "id": "8de4d737",
   "metadata": {},
   "outputs": [],
   "source": [
    "f = Function(*variables, ibex_expression)\n",
    "X_in = IntervalVector(Interval(-10, 10))"
   ]
  },
  {
   "cell_type": "code",
   "execution_count": null,
   "id": "2e9f3a04",
   "metadata": {},
   "outputs": [],
   "source": [
    "ctc = CtcFwdBwd(f, GEQ)  # root is when f = 0\n",
    "ctc.contract(X_in)"
   ]
  },
  {
   "cell_type": "code",
   "execution_count": null,
   "id": "13a38a9c",
   "metadata": {},
   "outputs": [],
   "source": [
    "X_in"
   ]
  },
  {
   "cell_type": "code",
   "execution_count": null,
   "id": "f83bd390",
   "metadata": {},
   "outputs": [],
   "source": []
  }
 ],
 "metadata": {
  "kernelspec": {
   "display_name": "Python [conda env:mcmm]",
   "language": "python",
   "name": "conda-env-mcmm-py"
  },
  "language_info": {
   "codemirror_mode": {
    "name": "ipython",
    "version": 3
   },
   "file_extension": ".py",
   "mimetype": "text/x-python",
   "name": "python",
   "nbconvert_exporter": "python",
   "pygments_lexer": "ipython3",
   "version": "3.9.16"
  }
 },
 "nbformat": 4,
 "nbformat_minor": 5
}
