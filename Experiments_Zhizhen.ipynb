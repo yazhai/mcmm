{
 "cells": [
  {
   "cell_type": "code",
   "execution_count": 5,
   "id": "cc685df0",
   "metadata": {},
   "outputs": [],
   "source": [
    "from src.test_functions_expression import expression_levy\n",
    "from src.test_functions import Levy\n"
   ]
  },
  {
   "cell_type": "code",
   "execution_count": 2,
   "id": "41df23b5",
   "metadata": {},
   "outputs": [
    {
     "name": "stderr",
     "output_type": "stream",
     "text": [
      "/home/zhizhen/anaconda3/envs/mcmm/lib/python3.9/site-packages/numpy/core/getlimits.py:511: UserWarning: Signature b'\\xcc\\xcc\\xcc\\xbd' for <class 'numpy.float32'> does not match any known type: falling back to type probe function.\n",
      "This warnings indicates broken support for the dtype!\n",
      "  machar = _get_machar(dtype)\n",
      "/home/zhizhen/anaconda3/envs/mcmm/lib/python3.9/site-packages/numpy/core/_machar.py:295: RuntimeWarning: overflow encountered in divide\n",
      "  xmax = xmax / (xmin*beta*beta*beta)\n"
     ]
    }
   ],
   "source": [
    "from src.mcmm import MCMM"
   ]
  },
  {
   "cell_type": "code",
   "execution_count": 18,
   "id": "a2ec4f8d",
   "metadata": {},
   "outputs": [],
   "source": [
    "func = Levy(dims=2)\n",
    "variables, expression = expression_levy(dims=2)\n",
    "\n",
    "bounds = func.get_default_domain()\n",
    "lb = bounds.T[0]\n",
    "ub = bounds.T[1]\n",
    "\n",
    "mcmm = MCMM(func, lb, ub, function_variables=variables, function_expression=expression)"
   ]
  },
  {
   "cell_type": "code",
   "execution_count": 20,
   "id": "355a19fe",
   "metadata": {
    "scrolled": true
   },
   "outputs": [
    {
     "name": "stdout",
     "output_type": "stream",
     "text": [
      "Running iteration: 1 ...\n",
      "\n",
      "  Best found value until iteration 1 is: 3.4540162086486816 \n",
      "\n",
      "Running iteration: 2 ...\n",
      "\n",
      "  Expanded: new child node root_1 is created. \n",
      "\n",
      "  Best found value until iteration 2 is: 0.9748378992080688 \n",
      "\n",
      "Running iteration: 3 ...\n",
      "\n",
      "  Selecting best child for node : root\n",
      "    Child root_0: score = -3.4540162086486816, num_visit = 1\n",
      "    Child root_1: score = -0.9748378992080688, num_visit = 1\n",
      "    Checking explore term: -1.3818724427706774\n",
      "  Selected: existing child node root_1\n",
      "  Expanded: new child node root_1_1 is created. \n",
      "\n",
      "  Best found value until iteration 3 is: 0.000299966661259532 \n",
      "\n",
      "Running iteration: 4 ...\n",
      "\n",
      "  Selecting best child for node : root\n",
      "    Child root_0: score = -3.4540162086486816, num_visit = 1\n",
      "    Child root_1: score = 0.9742379658855498, num_visit = 2\n",
      "    Checking explore term: -0.6790110136867655\n",
      "  Selected: existing child node root_1\n",
      "  Selecting best child for node : root_1\n",
      "    Child root_1_0: score = -0.9748378992080688, num_visit = 1\n",
      "    Child root_1_1: score = -0.000299966661259532, num_visit = 1\n",
      "    Checking explore term: 0.3449856782230336\n",
      "  Selected: existing child node root_1_1\n",
      "  Expanded: new child node root_1_1_1 is created. \n",
      "\n",
      "  Best found value until iteration 4 is: 0.000299966661259532 \n",
      "\n",
      "Running iteration: 5 ...\n",
      "\n",
      "  Selecting best child for node : root\n",
      "    Child root_0: score = -3.4540162086486816, num_visit = 1\n",
      "    Child root_1: score = 0.9742379658855498, num_visit = 3\n",
      "    Checking explore term: -0.5497480651394957\n",
      "  Selected: existing child node root_1\n",
      "  Selecting best child for node : root_1\n",
      "    Child root_1_0: score = -0.9748378992080688, num_visit = 1\n",
      "    Child root_1_1: score = -0.000299966661259532, num_visit = 2\n",
      "    Checking explore term: 0.5605781410335409\n",
      "  Selected: existing child node root_1_1\n",
      "  Selecting best child for node : root_1_1\n",
      "    Child root_1_1_0: score = -0.000299966661259532, num_visit = 1\n",
      "    Child root_1_1_1: score = -0.0023828400298953056, num_visit = 1\n",
      "    Checking explore term: 0.8312132078121204\n",
      "  Selected: existing child node root_1_1_0\n",
      "  Expanded: new child node root_1_1_0_1 is created. \n",
      "\n",
      "  Best found value until iteration 5 is: 0.000299966661259532 \n",
      "\n",
      "Running iteration: 6 ...\n",
      "\n",
      "  Selecting best child for node : root\n",
      "    Child root_0: score = -3.4540162086486816, num_visit = 1\n",
      "    Child root_1: score = 0.9742379658855498, num_visit = 4\n",
      "    Checking explore term: -0.4585218464754508\n",
      "  Selected: existing child node root_1\n",
      "  Selecting best child for node : root_1\n",
      "    Child root_1_0: score = -0.9748378992080688, num_visit = 1\n",
      "    Child root_1_1: score = -0.000299966661259532, num_visit = 3\n",
      "    Checking explore term: 0.6898410895808107\n",
      "  Selected: new exploration node is created at branch root_1\n",
      "  Expanded: new child node root_1_2 is created. \n",
      "\n",
      "  Best found value until iteration 6 is: 0.000299966661259532 \n",
      "\n",
      "Running iteration: 7 ...\n",
      "\n",
      "  Selecting best child for node : root\n",
      "    Child root_0: score = -3.4540162086486816, num_visit = 1\n",
      "    Child root_1: score = -0.000299966661259532, num_visit = 5\n",
      "    Checking explore term: -0.3885918886091202\n",
      "  Selected: existing child node root_1\n",
      "  Selecting best child for node : root_1\n",
      "    Child root_1_0: score = -0.9748378992080688, num_visit = 1\n",
      "    Child root_1_1: score = -0.000299966661259532, num_visit = 3\n",
      "    Child root_1_2: score = -0.21112507581710815, num_visit = 1\n",
      "    Checking explore term: 0.8732152606173743\n",
      "  Selected: existing child node root_1_2\n",
      "  Expanded: new child node root_1_2_1 is created. \n",
      "\n",
      "  Best found value until iteration 7 is: 0.000299966661259532 \n",
      "\n",
      "Running iteration: 8 ...\n",
      "\n",
      "  Selecting best child for node : root\n",
      "    Child root_0: score = -3.4540162086486816, num_visit = 1\n",
      "    Child root_1: score = -0.000299966661259532, num_visit = 6\n",
      "    Checking explore term: -0.33219925347551227\n",
      "  Selected: existing child node root_1\n",
      "  Selecting best child for node : root_1\n",
      "    Child root_1_0: score = -0.9748378992080688, num_visit = 1\n",
      "    Child root_1_1: score = -0.000299966661259532, num_visit = 3\n",
      "    Child root_1_2: score = -0.21112507581710815, num_visit = 2\n",
      "    Checking explore term: 0.9431452184837049\n",
      "  Selected: new exploration node is created at branch root_1\n",
      "  Expanded: new child node root_1_3 is created. \n",
      "\n",
      "  Best found value until iteration 8 is: 0.000299966661259532 \n",
      "\n",
      "Running iteration: 9 ...\n",
      "\n",
      "  Finding lower bound function...\n",
      " Quadra LB: [1.00393081 1.06687665] [0.03900415 0.02173915] 0.000299966661259532\n",
      "Expression: 0.03900415174241956*(x[0] - 1.0039308071136475)^2 + 0.021739145785593106*(x[1] - 1.0668766498565674)^2 + 0.000299966661259532\n",
      "  Suggesting box with initial box...\n",
      "Suggested box: ([-9.870653556861374, 10] ; [-9.870653556861374, 10])\n",
      "  Best found value until iteration 9 is: 0.000299966661259532 \n",
      "\n",
      "Running iteration: 10 ...\n",
      "\n",
      "  Finding lower bound function...\n",
      " Quadra LB: [1.00393081 1.06687665] [0.03900415 0.02173915] 0.000299966661259532\n",
      "Expression: 0.03900415174241956*(x[0] - 1.0039308071136475)^2 + 0.021739145785593106*(x[1] - 1.0668766498565674)^2 + 0.000299966661259532\n",
      "  Suggesting box with initial box...\n",
      "Suggested box: ([-9.870653556861374, 10] ; [-9.870653556861374, 10])\n",
      "  Best found value until iteration 10 is: 1.3190316167310812e-05 \n",
      "\n"
     ]
    },
    {
     "data": {
      "text/plain": [
       "1.3190316167310812e-05"
      ]
     },
     "execution_count": 20,
     "metadata": {},
     "output_type": "execute_result"
    }
   ],
   "source": [
    "mcmm.optimize(verbose=2)"
   ]
  },
  {
   "cell_type": "code",
   "execution_count": 21,
   "id": "52397f69",
   "metadata": {},
   "outputs": [],
   "source": [
    "from pyibex import Interval, IntervalVector, Function, CtcFwdBwd\n"
   ]
  },
  {
   "cell_type": "code",
   "execution_count": 28,
   "id": "b6c88a9d",
   "metadata": {},
   "outputs": [],
   "source": [
    "expression = \"max(x1, x2)\"\n",
    "variables = ['x1', 'x2']"
   ]
  },
  {
   "cell_type": "code",
   "execution_count": 29,
   "id": "f92b932b",
   "metadata": {},
   "outputs": [
    {
     "data": {
      "text/plain": [
       "_f_13:(x1,x2)->max(x1,x2)"
      ]
     },
     "execution_count": 29,
     "metadata": {},
     "output_type": "execute_result"
    }
   ],
   "source": [
    "Function(*variables, expression)"
   ]
  },
  {
   "cell_type": "code",
   "execution_count": null,
   "id": "a3fe0a45",
   "metadata": {},
   "outputs": [],
   "source": []
  }
 ],
 "metadata": {
  "kernelspec": {
   "display_name": "Python [conda env:mcmm]",
   "language": "python",
   "name": "conda-env-mcmm-py"
  },
  "language_info": {
   "codemirror_mode": {
    "name": "ipython",
    "version": 3
   },
   "file_extension": ".py",
   "mimetype": "text/x-python",
   "name": "python",
   "nbconvert_exporter": "python",
   "pygments_lexer": "ipython3",
   "version": "3.9.16"
  }
 },
 "nbformat": 4,
 "nbformat_minor": 5
}
