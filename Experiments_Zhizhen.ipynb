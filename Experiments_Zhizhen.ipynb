{
 "cells": [
  {
   "cell_type": "code",
   "execution_count": 2,
   "id": "cc685df0",
   "metadata": {},
   "outputs": [],
   "source": [
    "import src.test_functions as test_functions\n",
    "from src.test_functions import Levy\n"
   ]
  },
  {
   "cell_type": "code",
   "execution_count": 3,
   "id": "41df23b5",
   "metadata": {},
   "outputs": [
    {
     "name": "stderr",
     "output_type": "stream",
     "text": [
      "/home/zhizhen/anaconda3/envs/mcmm/lib/python3.9/site-packages/numpy/core/getlimits.py:511: UserWarning: Signature b'\\xcc\\xcc\\xcc\\xbd' for <class 'numpy.float32'> does not match any known type: falling back to type probe function.\n",
      "This warnings indicates broken support for the dtype!\n",
      "  machar = _get_machar(dtype)\n",
      "/home/zhizhen/anaconda3/envs/mcmm/lib/python3.9/site-packages/numpy/core/_machar.py:295: RuntimeWarning: overflow encountered in divide\n",
      "  xmax = xmax / (xmin*beta*beta*beta)\n"
     ]
    }
   ],
   "source": [
    "from src.mcmm import MCMM"
   ]
  },
  {
   "cell_type": "code",
   "execution_count": 5,
   "id": "a2ec4f8d",
   "metadata": {},
   "outputs": [],
   "source": [
    "func = Levy(dims=2)\n",
    "variables, expression = func.expression()\n",
    "\n",
    "bounds = func.get_default_domain()\n",
    "lb = bounds.T[0]\n",
    "ub = bounds.T[1]\n",
    "\n",
    "mcmm = MCMM(func, lb, ub, function_variables=variables, function_expression=expression)"
   ]
  },
  {
   "cell_type": "code",
   "execution_count": 6,
   "id": "355a19fe",
   "metadata": {
    "scrolled": true
   },
   "outputs": [
    {
     "name": "stdout",
     "output_type": "stream",
     "text": [
      "Running iteration: 1 ...\n",
      "\n",
      "  Best found value until iteration 1 is: 0.9737139344215393 \n",
      "\n",
      "Running iteration: 2 ...\n",
      "\n",
      "  Expanded: new child node root_1 is created. \n",
      "\n",
      "  Best found value until iteration 2 is: 0.9737139344215393 \n",
      "\n",
      "Running iteration: 3 ...\n",
      "\n",
      "  Selecting best child for node : root\n",
      "    Child root_0: score = -0.9737139344215393, num_visit = 1\n",
      "    Child root_1: score = -7.105154991149902, num_visit = 1\n",
      "    Checking explore term: -3.206879851628023\n",
      "  Selected: existing child node root_0\n",
      "  Expanded: new child node root_0_1 is created. \n",
      "\n",
      "  Best found value until iteration 3 is: 0.18279023468494415 \n",
      "\n",
      "Running iteration: 4 ...\n",
      "\n",
      "  Selecting best child for node : root\n",
      "    Child root_0: score = 0.608133465051651, num_visit = 2\n",
      "    Child root_1: score = -7.105154991149902, num_visit = 1\n",
      "    Checking explore term: -2.595825538949218\n",
      "  Selected: existing child node root_0\n",
      "  Selecting best child for node : root_0\n",
      "    Child root_0_0: score = -0.9737139344215393, num_visit = 1\n",
      "    Child root_0_1: score = -0.18279023468494415, num_visit = 1\n",
      "    Checking explore term: 0.25430252660445607\n",
      "  Selected: existing child node root_0_1\n",
      "  Expanded: new child node root_0_1_1 is created. \n",
      "\n",
      "  Best found value until iteration 4 is: 0.18279023468494415 \n",
      "\n",
      "Running iteration: 5 ...\n",
      "\n",
      "  Selecting best child for node : root\n",
      "    Child root_0: score = 0.608133465051651, num_visit = 3\n",
      "    Child root_1: score = -7.105154991149902, num_visit = 1\n",
      "    Checking explore term: -2.4665625904019484\n",
      "  Selected: existing child node root_0\n",
      "  Selecting best child for node : root_0\n",
      "    Child root_0_0: score = -0.9737139344215393, num_visit = 1\n",
      "    Child root_0_1: score = -0.18279023468494415, num_visit = 2\n",
      "    Checking explore term: 0.4698949894149633\n",
      "  Selected: existing child node root_0_1\n",
      "  Selecting best child for node : root_0_1\n",
      "    Child root_0_1_0: score = -0.18279023468494415, num_visit = 1\n",
      "    Child root_0_1_1: score = -0.22270727157592773, num_visit = 1\n",
      "    Checking explore term: 0.6298058580272619\n",
      "  Selected: existing child node root_0_1_0\n",
      "  Expanded: new child node root_0_1_0_1 is created. \n",
      "\n",
      "  Best found value until iteration 5 is: 0.05915147811174393 \n",
      "\n",
      "Running iteration: 6 ...\n",
      "\n",
      "  Selecting best child for node : root\n",
      "    Child root_0: score = 0.8554109781980515, num_visit = 4\n",
      "    Child root_1: score = -7.105154991149902, num_visit = 1\n",
      "    Checking explore term: -2.3135169934513033\n",
      "  Selected: existing child node root_0\n",
      "  Selecting best child for node : root_0\n",
      "    Child root_0_0: score = -0.9737139344215393, num_visit = 1\n",
      "    Child root_0_1: score = 0.0644872784614563, num_visit = 3\n",
      "    Checking explore term: 0.6609773162488333\n",
      "  Selected: existing child node root_0_1\n",
      "  Selecting best child for node : root_0_1\n",
      "    Child root_0_1_0: score = 0.0644872784614563, num_visit = 2\n",
      "    Child root_0_1_1: score = -0.22270727157592773, num_visit = 1\n",
      "    Checking explore term: 0.9072176991243692\n",
      "  Selected: new exploration node is created at branch root_0_1\n",
      "  Expanded: new child node root_0_1_2 is created. \n",
      "\n",
      "  Best found value until iteration 6 is: 0.05915147811174393 \n",
      "\n",
      "Running iteration: 7 ...\n",
      "\n",
      "  Selecting best child for node : root\n",
      "    Child root_0: score = 0.0644872784614563, num_visit = 5\n",
      "    Child root_1: score = -7.105154991149902, num_visit = 1\n",
      "    Checking explore term: -2.2435870355849725\n",
      "  Selected: existing child node root_0\n",
      "  Selecting best child for node : root_0\n",
      "    Child root_0_0: score = -0.9737139344215393, num_visit = 1\n",
      "    Child root_0_1: score = 0.0644872784614563, num_visit = 4\n",
      "    Checking explore term: 0.7522035349128782\n",
      "  Selected: new exploration node is created at branch root_0\n",
      "  Expanded: new child node root_0_2 is created. \n",
      "\n",
      "  Best found value until iteration 7 is: 0.004052594769746065 \n",
      "\n",
      "Running iteration: 8 ...\n",
      "\n",
      "  Selecting best child for node : root\n",
      "    Child root_0: score = 0.17468504514545202, num_visit = 6\n",
      "    Child root_1: score = -7.105154991149902, num_visit = 1\n",
      "    Checking explore term: -2.159644958780366\n",
      "  Selected: existing child node root_0\n",
      "  Selecting best child for node : root_0\n",
      "    Child root_0_0: score = -0.9737139344215393, num_visit = 1\n",
      "    Child root_0_1: score = 0.0644872784614563, num_visit = 4\n",
      "    Child root_0_2: score = -0.004052594769746065, num_visit = 1\n",
      "    Checking explore term: 0.992926863278174\n",
      "  Selected: existing child node root_0_2\n",
      "  Expanded: new child node root_0_2_1 is created. \n",
      "\n",
      "  Best found value until iteration 8 is: 0.0003084945201408118 \n",
      "\n",
      "Running iteration: 9 ...\n",
      "\n",
      "  Selecting best child for node : root\n",
      "    Child root_0: score = 0.0585344890714623, num_visit = 7\n",
      "    Child root_1: score = -7.105154991149902, num_visit = 1\n",
      "    Checking explore term: -2.1107048562341384\n",
      "  Selected: existing child node root_0\n",
      "  Selecting best child for node : root_0\n",
      "    Child root_0_0: score = -0.9737139344215393, num_visit = 1\n",
      "    Child root_0_1: score = 0.0644872784614563, num_visit = 4\n",
      "    Child root_0_2: score = 0.0034356057294644415, num_visit = 2\n",
      "    Checking explore term: 1.050567531828317\n",
      "  Selected: new exploration node is created at branch root_0\n",
      "  Expanded: new child node root_0_3 is created. \n",
      "\n",
      "  Best found value until iteration 9 is: 0.0003084945201408118 \n",
      "\n",
      "Running iteration: 10 ...\n",
      "\n",
      "  Selecting best child for node : root\n",
      "    Child root_0: score = 0.0585344890714623, num_visit = 8\n",
      "    Child root_1: score = -7.105154991149902, num_visit = 1\n",
      "    Checking explore term: -2.0704279354675106\n",
      "  Selected: existing child node root_0\n",
      "  Selecting best child for node : root_0\n",
      "    Child root_0_0: score = -0.9737139344215393, num_visit = 1\n",
      "    Child root_0_1: score = 0.0644872784614563, num_visit = 4\n",
      "    Child root_0_2: score = 0.0034356057294644415, num_visit = 2\n",
      "    Child root_0_3: score = -3.33480167388916, num_visit = 1\n",
      "    Checking explore term: 0.3500329913652369\n",
      "  Selected: existing child node root_0_2\n",
      "  Selecting best child for node : root_0_2\n",
      "    Child root_0_2_0: score = -0.004052594769746065, num_visit = 1\n",
      "    Child root_0_2_1: score = -0.0003084945201408118, num_visit = 1\n",
      "    Checking explore term: 0.8303740665127544\n",
      "  Selected: existing child node root_0_2_1\n",
      "  Expanded: new child node root_0_2_1_1 is created. \n",
      "\n",
      "  Best found value until iteration 10 is: 0.0003084945201408118 \n",
      "\n"
     ]
    },
    {
     "data": {
      "text/plain": [
       "0.0003084945201408118"
      ]
     },
     "execution_count": 6,
     "metadata": {},
     "output_type": "execute_result"
    }
   ],
   "source": [
    "mcmm.optimize(verbose=2)"
   ]
  },
  {
   "cell_type": "code",
   "execution_count": 21,
   "id": "52397f69",
   "metadata": {},
   "outputs": [],
   "source": [
    "from pyibex import Interval, IntervalVector, Function, CtcFwdBwd\n"
   ]
  },
  {
   "cell_type": "code",
   "execution_count": 28,
   "id": "b6c88a9d",
   "metadata": {},
   "outputs": [],
   "source": [
    "expression = \"max(x1, x2)\"\n",
    "variables = ['x1', 'x2']"
   ]
  },
  {
   "cell_type": "code",
   "execution_count": 29,
   "id": "f92b932b",
   "metadata": {},
   "outputs": [
    {
     "data": {
      "text/plain": [
       "_f_13:(x1,x2)->max(x1,x2)"
      ]
     },
     "execution_count": 29,
     "metadata": {},
     "output_type": "execute_result"
    }
   ],
   "source": [
    "Function(*variables, expression)"
   ]
  },
  {
   "cell_type": "code",
   "execution_count": null,
   "id": "a3fe0a45",
   "metadata": {},
   "outputs": [],
   "source": []
  }
 ],
 "metadata": {
  "kernelspec": {
   "display_name": "mcmm",
   "language": "python",
   "name": "python3"
  },
  "language_info": {
   "codemirror_mode": {
    "name": "ipython",
    "version": 3
   },
   "file_extension": ".py",
   "mimetype": "text/x-python",
   "name": "python",
   "nbconvert_exporter": "python",
   "pygments_lexer": "ipython3",
   "version": "3.9.16"
  }
 },
 "nbformat": 4,
 "nbformat_minor": 5
}
